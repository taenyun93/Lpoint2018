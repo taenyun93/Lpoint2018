{
 "cells": [
  {
   "cell_type": "markdown",
   "metadata": {},
   "source": [
    "# 제 5회 L.Point Big Data Competition - Digital Trend Analyzer\n",
    "\n"
   ]
  },
  {
   "cell_type": "markdown",
   "metadata": {},
   "source": [
    "## 1.Import Data\n"
   ]
  },
  {
   "cell_type": "code",
   "execution_count": 1,
   "metadata": {},
   "outputs": [],
   "source": [
    "import numpy as np\n",
    "import pandas as pd\n",
    "import matplotlib.pyplot as plt\n",
    "import seaborn as sns\n",
    "\n",
    "pd.set_option('display.max_columns', 100)"
   ]
  },
  {
   "cell_type": "code",
   "execution_count": 2,
   "metadata": {},
   "outputs": [
    {
     "name": "stderr",
     "output_type": "stream",
     "text": [
      "C:\\Users\\taeny\\AppData\\Local\\Continuum\\anaconda3\\lib\\site-packages\\IPython\\core\\interactiveshell.py:2698: DtypeWarning: Columns (7) have mixed types. Specify dtype option on import or set low_memory=False.\n",
      "  interactivity=interactivity, compiler=compiler, result=result)\n"
     ]
    }
   ],
   "source": [
    "df_Product = pd.read_csv('Data//01_Product.csv')\n",
    "df_Search1 = pd.read_csv('Data//02_Search1.csv')\n",
    "df_Search2 = pd.read_csv('Data//03_Search2.csv')\n",
    "df_Custom = pd.read_csv('Data//04_Custom.csv')\n",
    "df_Session = pd.read_csv('Data//05_Session.csv')\n",
    "df_Master = pd.read_csv('Data//06_Master.csv')"
   ]
  },
  {
   "cell_type": "code",
   "execution_count": 3,
   "metadata": {},
   "outputs": [
    {
     "data": {
      "text/html": [
       "<div>\n",
       "<style scoped>\n",
       "    .dataframe tbody tr th:only-of-type {\n",
       "        vertical-align: middle;\n",
       "    }\n",
       "\n",
       "    .dataframe tbody tr th {\n",
       "        vertical-align: top;\n",
       "    }\n",
       "\n",
       "    .dataframe thead th {\n",
       "        text-align: right;\n",
       "    }\n",
       "</style>\n",
       "<table border=\"1\" class=\"dataframe\">\n",
       "  <thead>\n",
       "    <tr style=\"text-align: right;\">\n",
       "      <th></th>\n",
       "      <th>CLNT_ID</th>\n",
       "      <th>SESS_ID</th>\n",
       "      <th>HITS_SEQ</th>\n",
       "      <th>PD_C</th>\n",
       "      <th>PD_ADD_NM</th>\n",
       "      <th>PD_BRA_NM</th>\n",
       "      <th>PD_BUY_AM</th>\n",
       "      <th>PD_BUY_CT</th>\n",
       "    </tr>\n",
       "  </thead>\n",
       "  <tbody>\n",
       "    <tr>\n",
       "      <th>0</th>\n",
       "      <td>4139680</td>\n",
       "      <td>7605037</td>\n",
       "      <td>12</td>\n",
       "      <td>642112</td>\n",
       "      <td>색상:워터멜론</td>\n",
       "      <td>[바비브라운]</td>\n",
       "      <td>39,000</td>\n",
       "      <td>1</td>\n",
       "    </tr>\n",
       "    <tr>\n",
       "      <th>1</th>\n",
       "      <td>4140076</td>\n",
       "      <td>10189797</td>\n",
       "      <td>13</td>\n",
       "      <td>570603</td>\n",
       "      <td>색상:BLK0_(BLK0)BLACK|사이즈:120 / 2개</td>\n",
       "      <td>데상트</td>\n",
       "      <td>39,000</td>\n",
       "      <td>2</td>\n",
       "    </tr>\n",
       "    <tr>\n",
       "      <th>2</th>\n",
       "      <td>4142395</td>\n",
       "      <td>6158159</td>\n",
       "      <td>85</td>\n",
       "      <td>179538</td>\n",
       "      <td>(not set)</td>\n",
       "      <td>[아베다]</td>\n",
       "      <td>39,000</td>\n",
       "      <td>1</td>\n",
       "    </tr>\n",
       "    <tr>\n",
       "      <th>3</th>\n",
       "      <td>4144914</td>\n",
       "      <td>7935714</td>\n",
       "      <td>12</td>\n",
       "      <td>554336</td>\n",
       "      <td>색상:블랙|사이즈:160cm(12~13세) / 1개</td>\n",
       "      <td>아디다스 키즈</td>\n",
       "      <td>39,000</td>\n",
       "      <td>1</td>\n",
       "    </tr>\n",
       "    <tr>\n",
       "      <th>4</th>\n",
       "      <td>4144917</td>\n",
       "      <td>6406509</td>\n",
       "      <td>78</td>\n",
       "      <td>190306</td>\n",
       "      <td>5개</td>\n",
       "      <td>데코르테</td>\n",
       "      <td>39,000</td>\n",
       "      <td>5</td>\n",
       "    </tr>\n",
       "  </tbody>\n",
       "</table>\n",
       "</div>"
      ],
      "text/plain": [
       "   CLNT_ID   SESS_ID  HITS_SEQ    PD_C                         PD_ADD_NM  \\\n",
       "0  4139680   7605037        12  642112                           색상:워터멜론   \n",
       "1  4140076  10189797        13  570603  색상:BLK0_(BLK0)BLACK|사이즈:120 / 2개   \n",
       "2  4142395   6158159        85  179538                         (not set)   \n",
       "3  4144914   7935714        12  554336      색상:블랙|사이즈:160cm(12~13세) / 1개   \n",
       "4  4144917   6406509        78  190306                                5개   \n",
       "\n",
       "  PD_BRA_NM PD_BUY_AM PD_BUY_CT  \n",
       "0   [바비브라운]    39,000         1  \n",
       "1       데상트    39,000         2  \n",
       "2     [아베다]    39,000         1  \n",
       "3   아디다스 키즈    39,000         1  \n",
       "4      데코르테    39,000         5  "
      ]
     },
     "execution_count": 3,
     "metadata": {},
     "output_type": "execute_result"
    }
   ],
   "source": [
    "df_Product.head()"
   ]
  },
  {
   "cell_type": "code",
   "execution_count": 4,
   "metadata": {},
   "outputs": [
    {
     "data": {
      "text/html": [
       "<div>\n",
       "<style scoped>\n",
       "    .dataframe tbody tr th:only-of-type {\n",
       "        vertical-align: middle;\n",
       "    }\n",
       "\n",
       "    .dataframe tbody tr th {\n",
       "        vertical-align: top;\n",
       "    }\n",
       "\n",
       "    .dataframe thead th {\n",
       "        text-align: right;\n",
       "    }\n",
       "</style>\n",
       "<table border=\"1\" class=\"dataframe\">\n",
       "  <thead>\n",
       "    <tr style=\"text-align: right;\">\n",
       "      <th></th>\n",
       "      <th>CLNT_ID</th>\n",
       "      <th>SESS_ID</th>\n",
       "      <th>KWD_NM</th>\n",
       "      <th>SEARCH_CNT</th>\n",
       "    </tr>\n",
       "  </thead>\n",
       "  <tbody>\n",
       "    <tr>\n",
       "      <th>0</th>\n",
       "      <td>5607714</td>\n",
       "      <td>7112876</td>\n",
       "      <td>빌리프 아이크림</td>\n",
       "      <td>6</td>\n",
       "    </tr>\n",
       "    <tr>\n",
       "      <th>1</th>\n",
       "      <td>5607714</td>\n",
       "      <td>4090791</td>\n",
       "      <td>프리메라 마스크팩</td>\n",
       "      <td>3</td>\n",
       "    </tr>\n",
       "    <tr>\n",
       "      <th>2</th>\n",
       "      <td>5607714</td>\n",
       "      <td>4090791</td>\n",
       "      <td>여성청결제</td>\n",
       "      <td>1</td>\n",
       "    </tr>\n",
       "    <tr>\n",
       "      <th>3</th>\n",
       "      <td>5612428</td>\n",
       "      <td>1876482</td>\n",
       "      <td>명품가방</td>\n",
       "      <td>1</td>\n",
       "    </tr>\n",
       "    <tr>\n",
       "      <th>4</th>\n",
       "      <td>5612428</td>\n",
       "      <td>658123</td>\n",
       "      <td>콩순이 아이스크림</td>\n",
       "      <td>1</td>\n",
       "    </tr>\n",
       "  </tbody>\n",
       "</table>\n",
       "</div>"
      ],
      "text/plain": [
       "   CLNT_ID  SESS_ID     KWD_NM  SEARCH_CNT\n",
       "0  5607714  7112876   빌리프 아이크림           6\n",
       "1  5607714  4090791  프리메라 마스크팩           3\n",
       "2  5607714  4090791      여성청결제           1\n",
       "3  5612428  1876482       명품가방           1\n",
       "4  5612428   658123  콩순이 아이스크림           1"
      ]
     },
     "execution_count": 4,
     "metadata": {},
     "output_type": "execute_result"
    }
   ],
   "source": [
    "df_Search1.head()"
   ]
  },
  {
   "cell_type": "code",
   "execution_count": 5,
   "metadata": {},
   "outputs": [
    {
     "data": {
      "text/html": [
       "<div>\n",
       "<style scoped>\n",
       "    .dataframe tbody tr th:only-of-type {\n",
       "        vertical-align: middle;\n",
       "    }\n",
       "\n",
       "    .dataframe tbody tr th {\n",
       "        vertical-align: top;\n",
       "    }\n",
       "\n",
       "    .dataframe thead th {\n",
       "        text-align: right;\n",
       "    }\n",
       "</style>\n",
       "<table border=\"1\" class=\"dataframe\">\n",
       "  <thead>\n",
       "    <tr style=\"text-align: right;\">\n",
       "      <th></th>\n",
       "      <th>SESS_DT</th>\n",
       "      <th>KWD_NM</th>\n",
       "      <th>SEARCH_CNT</th>\n",
       "    </tr>\n",
       "  </thead>\n",
       "  <tbody>\n",
       "    <tr>\n",
       "      <th>0</th>\n",
       "      <td>20180407</td>\n",
       "      <td>닥스원피스</td>\n",
       "      <td>8</td>\n",
       "    </tr>\n",
       "    <tr>\n",
       "      <th>1</th>\n",
       "      <td>20180407</td>\n",
       "      <td>닥터지 브라이트닝</td>\n",
       "      <td>1</td>\n",
       "    </tr>\n",
       "    <tr>\n",
       "      <th>2</th>\n",
       "      <td>20180407</td>\n",
       "      <td>달팡 인트랄</td>\n",
       "      <td>2</td>\n",
       "    </tr>\n",
       "    <tr>\n",
       "      <th>3</th>\n",
       "      <td>20180407</td>\n",
       "      <td>대상트</td>\n",
       "      <td>1</td>\n",
       "    </tr>\n",
       "    <tr>\n",
       "      <th>4</th>\n",
       "      <td>20180407</td>\n",
       "      <td>더블유닷</td>\n",
       "      <td>6</td>\n",
       "    </tr>\n",
       "  </tbody>\n",
       "</table>\n",
       "</div>"
      ],
      "text/plain": [
       "    SESS_DT     KWD_NM SEARCH_CNT\n",
       "0  20180407      닥스원피스          8\n",
       "1  20180407  닥터지 브라이트닝          1\n",
       "2  20180407     달팡 인트랄          2\n",
       "3  20180407        대상트          1\n",
       "4  20180407       더블유닷          6"
      ]
     },
     "execution_count": 5,
     "metadata": {},
     "output_type": "execute_result"
    }
   ],
   "source": [
    "df_Search2.head()"
   ]
  },
  {
   "cell_type": "code",
   "execution_count": 6,
   "metadata": {},
   "outputs": [
    {
     "data": {
      "text/html": [
       "<div>\n",
       "<style scoped>\n",
       "    .dataframe tbody tr th:only-of-type {\n",
       "        vertical-align: middle;\n",
       "    }\n",
       "\n",
       "    .dataframe tbody tr th {\n",
       "        vertical-align: top;\n",
       "    }\n",
       "\n",
       "    .dataframe thead th {\n",
       "        text-align: right;\n",
       "    }\n",
       "</style>\n",
       "<table border=\"1\" class=\"dataframe\">\n",
       "  <thead>\n",
       "    <tr style=\"text-align: right;\">\n",
       "      <th></th>\n",
       "      <th>CLNT_ID</th>\n",
       "      <th>CLNT_GENDER</th>\n",
       "      <th>CLNT_AGE</th>\n",
       "    </tr>\n",
       "  </thead>\n",
       "  <tbody>\n",
       "    <tr>\n",
       "      <th>0</th>\n",
       "      <td>4830726</td>\n",
       "      <td>F</td>\n",
       "      <td>30</td>\n",
       "    </tr>\n",
       "    <tr>\n",
       "      <th>1</th>\n",
       "      <td>4830874</td>\n",
       "      <td>F</td>\n",
       "      <td>40</td>\n",
       "    </tr>\n",
       "    <tr>\n",
       "      <th>2</th>\n",
       "      <td>4830975</td>\n",
       "      <td>F</td>\n",
       "      <td>30</td>\n",
       "    </tr>\n",
       "    <tr>\n",
       "      <th>3</th>\n",
       "      <td>4831275</td>\n",
       "      <td>F</td>\n",
       "      <td>30</td>\n",
       "    </tr>\n",
       "    <tr>\n",
       "      <th>4</th>\n",
       "      <td>4825325</td>\n",
       "      <td>F</td>\n",
       "      <td>30</td>\n",
       "    </tr>\n",
       "  </tbody>\n",
       "</table>\n",
       "</div>"
      ],
      "text/plain": [
       "   CLNT_ID CLNT_GENDER  CLNT_AGE\n",
       "0  4830726           F        30\n",
       "1  4830874           F        40\n",
       "2  4830975           F        30\n",
       "3  4831275           F        30\n",
       "4  4825325           F        30"
      ]
     },
     "execution_count": 6,
     "metadata": {},
     "output_type": "execute_result"
    }
   ],
   "source": [
    "df_Custom.head()"
   ]
  },
  {
   "cell_type": "code",
   "execution_count": 7,
   "metadata": {},
   "outputs": [
    {
     "data": {
      "text/html": [
       "<div>\n",
       "<style scoped>\n",
       "    .dataframe tbody tr th:only-of-type {\n",
       "        vertical-align: middle;\n",
       "    }\n",
       "\n",
       "    .dataframe tbody tr th {\n",
       "        vertical-align: top;\n",
       "    }\n",
       "\n",
       "    .dataframe thead th {\n",
       "        text-align: right;\n",
       "    }\n",
       "</style>\n",
       "<table border=\"1\" class=\"dataframe\">\n",
       "  <thead>\n",
       "    <tr style=\"text-align: right;\">\n",
       "      <th></th>\n",
       "      <th>CLNT_ID</th>\n",
       "      <th>SESS_ID</th>\n",
       "      <th>SESS_SEQ</th>\n",
       "      <th>SESS_DT</th>\n",
       "      <th>TOT_PAG_VIEW_CT</th>\n",
       "      <th>TOT_SESS_HR_V</th>\n",
       "      <th>DVC_CTG_NM</th>\n",
       "      <th>ZON_NM</th>\n",
       "      <th>CITY_NM</th>\n",
       "    </tr>\n",
       "  </thead>\n",
       "  <tbody>\n",
       "    <tr>\n",
       "      <th>0</th>\n",
       "      <td>5873599</td>\n",
       "      <td>8641867</td>\n",
       "      <td>9</td>\n",
       "      <td>20180509</td>\n",
       "      <td>82.0</td>\n",
       "      <td>1,890</td>\n",
       "      <td>mobile</td>\n",
       "      <td>Daejeon</td>\n",
       "      <td>Daejeon</td>\n",
       "    </tr>\n",
       "    <tr>\n",
       "      <th>1</th>\n",
       "      <td>5873599</td>\n",
       "      <td>6616320</td>\n",
       "      <td>21</td>\n",
       "      <td>20180611</td>\n",
       "      <td>105.0</td>\n",
       "      <td>1,604</td>\n",
       "      <td>mobile</td>\n",
       "      <td>Busan</td>\n",
       "      <td>Busan</td>\n",
       "    </tr>\n",
       "    <tr>\n",
       "      <th>2</th>\n",
       "      <td>5873599</td>\n",
       "      <td>5886172</td>\n",
       "      <td>40</td>\n",
       "      <td>20180624</td>\n",
       "      <td>41.0</td>\n",
       "      <td>632</td>\n",
       "      <td>mobile</td>\n",
       "      <td>Daejeon</td>\n",
       "      <td>Daejeon</td>\n",
       "    </tr>\n",
       "    <tr>\n",
       "      <th>3</th>\n",
       "      <td>5873884</td>\n",
       "      <td>1050889</td>\n",
       "      <td>15</td>\n",
       "      <td>20180913</td>\n",
       "      <td>160.0</td>\n",
       "      <td>1,035</td>\n",
       "      <td>mobile</td>\n",
       "      <td>Gyeonggi-do</td>\n",
       "      <td>Anyang</td>\n",
       "    </tr>\n",
       "    <tr>\n",
       "      <th>4</th>\n",
       "      <td>5874461</td>\n",
       "      <td>10298270</td>\n",
       "      <td>5</td>\n",
       "      <td>20180412</td>\n",
       "      <td>13.0</td>\n",
       "      <td>298</td>\n",
       "      <td>mobile</td>\n",
       "      <td>Seoul</td>\n",
       "      <td>Seoul</td>\n",
       "    </tr>\n",
       "  </tbody>\n",
       "</table>\n",
       "</div>"
      ],
      "text/plain": [
       "   CLNT_ID   SESS_ID  SESS_SEQ   SESS_DT  TOT_PAG_VIEW_CT TOT_SESS_HR_V  \\\n",
       "0  5873599   8641867         9  20180509             82.0         1,890   \n",
       "1  5873599   6616320        21  20180611            105.0         1,604   \n",
       "2  5873599   5886172        40  20180624             41.0           632   \n",
       "3  5873884   1050889        15  20180913            160.0         1,035   \n",
       "4  5874461  10298270         5  20180412             13.0           298   \n",
       "\n",
       "  DVC_CTG_NM       ZON_NM  CITY_NM  \n",
       "0     mobile      Daejeon  Daejeon  \n",
       "1     mobile        Busan    Busan  \n",
       "2     mobile      Daejeon  Daejeon  \n",
       "3     mobile  Gyeonggi-do   Anyang  \n",
       "4     mobile        Seoul    Seoul  "
      ]
     },
     "execution_count": 7,
     "metadata": {},
     "output_type": "execute_result"
    }
   ],
   "source": [
    "df_Session.head()"
   ]
  },
  {
   "cell_type": "code",
   "execution_count": 8,
   "metadata": {},
   "outputs": [
    {
     "data": {
      "text/html": [
       "<div>\n",
       "<style scoped>\n",
       "    .dataframe tbody tr th:only-of-type {\n",
       "        vertical-align: middle;\n",
       "    }\n",
       "\n",
       "    .dataframe tbody tr th {\n",
       "        vertical-align: top;\n",
       "    }\n",
       "\n",
       "    .dataframe thead th {\n",
       "        text-align: right;\n",
       "    }\n",
       "</style>\n",
       "<table border=\"1\" class=\"dataframe\">\n",
       "  <thead>\n",
       "    <tr style=\"text-align: right;\">\n",
       "      <th></th>\n",
       "      <th>PD_C</th>\n",
       "      <th>PD_NM</th>\n",
       "      <th>CLAC1_NM</th>\n",
       "      <th>CLAC2_NM</th>\n",
       "      <th>CLAC3_NM</th>\n",
       "    </tr>\n",
       "  </thead>\n",
       "  <tbody>\n",
       "    <tr>\n",
       "      <th>0</th>\n",
       "      <td>64382</td>\n",
       "      <td>언더아머 남성 UA HG 아머 모크 LS 1289559-001 - 블랙 / MD[95]</td>\n",
       "      <td>스포츠패션</td>\n",
       "      <td>남성일반스포츠의류</td>\n",
       "      <td>남성스포츠티셔츠</td>\n",
       "    </tr>\n",
       "    <tr>\n",
       "      <th>1</th>\n",
       "      <td>62282</td>\n",
       "      <td>여자 플라워덧신 2족선물세트 17403-2set</td>\n",
       "      <td>속옷/양말/홈웨어</td>\n",
       "      <td>여성양말류</td>\n",
       "      <td>여성일반양말</td>\n",
       "    </tr>\n",
       "    <tr>\n",
       "      <th>2</th>\n",
       "      <td>61729</td>\n",
       "      <td>88A2933253배트맨스웨트티 - 블랙 / 130</td>\n",
       "      <td>유아동의류</td>\n",
       "      <td>유아의류상의</td>\n",
       "      <td>영유아티셔츠/탑</td>\n",
       "    </tr>\n",
       "    <tr>\n",
       "      <th>3</th>\n",
       "      <td>61537</td>\n",
       "      <td>닥터마틴 아드리안 블랙, 체리레드 - 02_체리레드 / 250mm(6)</td>\n",
       "      <td>패션잡화</td>\n",
       "      <td>남성화</td>\n",
       "      <td>남성부츠</td>\n",
       "    </tr>\n",
       "    <tr>\n",
       "      <th>4</th>\n",
       "      <td>58820</td>\n",
       "      <td>여성 그레이 스트라이프 퍼프 소매 블라우스 (128865YQ33) - 회색(앤틱실버...</td>\n",
       "      <td>남성의류</td>\n",
       "      <td>남성의류상의</td>\n",
       "      <td>남성남방셔츠</td>\n",
       "    </tr>\n",
       "  </tbody>\n",
       "</table>\n",
       "</div>"
      ],
      "text/plain": [
       "    PD_C                                              PD_NM   CLAC1_NM  \\\n",
       "0  64382   언더아머 남성 UA HG 아머 모크 LS 1289559-001 - 블랙 / MD[95]      스포츠패션   \n",
       "1  62282                         여자 플라워덧신 2족선물세트 17403-2set  속옷/양말/홈웨어   \n",
       "2  61729                       88A2933253배트맨스웨트티 - 블랙 / 130      유아동의류   \n",
       "3  61537            닥터마틴 아드리안 블랙, 체리레드 - 02_체리레드 / 250mm(6)       패션잡화   \n",
       "4  58820  여성 그레이 스트라이프 퍼프 소매 블라우스 (128865YQ33) - 회색(앤틱실버...       남성의류   \n",
       "\n",
       "    CLAC2_NM  CLAC3_NM  \n",
       "0  남성일반스포츠의류  남성스포츠티셔츠  \n",
       "1      여성양말류    여성일반양말  \n",
       "2     유아의류상의  영유아티셔츠/탑  \n",
       "3        남성화      남성부츠  \n",
       "4     남성의류상의    남성남방셔츠  "
      ]
     },
     "execution_count": 8,
     "metadata": {},
     "output_type": "execute_result"
    }
   ],
   "source": [
    "df_Master.head()"
   ]
  },
  {
   "cell_type": "markdown",
   "metadata": {},
   "source": [
    "## 1. 결측값 및 이상치 확인"
   ]
  },
  {
   "cell_type": "markdown",
   "metadata": {},
   "source": [
    "### 1) Product"
   ]
  },
  {
   "cell_type": "code",
   "execution_count": 9,
   "metadata": {},
   "outputs": [
    {
     "data": {
      "text/plain": [
       "CLNT_ID      0\n",
       "SESS_ID      0\n",
       "HITS_SEQ     0\n",
       "PD_C         0\n",
       "PD_ADD_NM    0\n",
       "PD_BRA_NM    0\n",
       "PD_BUY_AM    0\n",
       "PD_BUY_CT    0\n",
       "dtype: int64"
      ]
     },
     "execution_count": 9,
     "metadata": {},
     "output_type": "execute_result"
    }
   ],
   "source": [
    "#Missing Values\n",
    "df_Product.isna().sum()"
   ]
  },
  {
   "cell_type": "code",
   "execution_count": 10,
   "metadata": {},
   "outputs": [
    {
     "data": {
      "text/plain": [
       "CLNT_ID       int64\n",
       "SESS_ID       int64\n",
       "HITS_SEQ      int64\n",
       "PD_C          int64\n",
       "PD_ADD_NM    object\n",
       "PD_BRA_NM    object\n",
       "PD_BUY_AM    object\n",
       "PD_BUY_CT    object\n",
       "dtype: object"
      ]
     },
     "execution_count": 10,
     "metadata": {},
     "output_type": "execute_result"
    }
   ],
   "source": [
    "#Data type\n",
    "df_Product.dtypes"
   ]
  },
  {
   "cell_type": "code",
   "execution_count": 11,
   "metadata": {},
   "outputs": [],
   "source": [
    "df_Product.CLNT_ID = df_Product.CLNT_ID.astype(int)\n",
    "df_Product.SESS_ID = df_Product.SESS_ID.astype(int)\n",
    "df_Product.HITS_SEQ = df_Product.HITS_SEQ.astype(int)\n",
    "df_Product.PD_C = df_Product.PD_C.astype(int)\n",
    "df_Product.PD_ADD_NM = df_Product.PD_ADD_NM.astype(str)\n",
    "df_Product.PD_BRA_NM = df_Product.PD_BRA_NM.astype(str)\n",
    "df_Product.PD_BUY_AM = df_Product.PD_BUY_AM.apply(lambda x : str(x).replace(\",\",\"\")).astype(int)\n",
    "df_Product.PD_BUY_CT = df_Product.PD_BUY_CT.apply(lambda x : str(x).replace(\",\",\"\")).astype(int)"
   ]
  },
  {
   "cell_type": "code",
   "execution_count": 12,
   "metadata": {},
   "outputs": [
    {
     "data": {
      "text/plain": [
       "CLNT_ID       int32\n",
       "SESS_ID       int32\n",
       "HITS_SEQ      int32\n",
       "PD_C          int32\n",
       "PD_ADD_NM    object\n",
       "PD_BRA_NM    object\n",
       "PD_BUY_AM     int32\n",
       "PD_BUY_CT     int32\n",
       "dtype: object"
      ]
     },
     "execution_count": 12,
     "metadata": {},
     "output_type": "execute_result"
    }
   ],
   "source": [
    "# Data type Again\n",
    "df_Product.dtypes"
   ]
  },
  {
   "cell_type": "markdown",
   "metadata": {},
   "source": [
    "### 2) Search1"
   ]
  },
  {
   "cell_type": "code",
   "execution_count": 13,
   "metadata": {},
   "outputs": [
    {
     "data": {
      "text/plain": [
       "CLNT_ID       0\n",
       "SESS_ID       0\n",
       "KWD_NM        0\n",
       "SEARCH_CNT    0\n",
       "dtype: int64"
      ]
     },
     "execution_count": 13,
     "metadata": {},
     "output_type": "execute_result"
    }
   ],
   "source": [
    "#Missing Values\n",
    "df_Search1.isna().sum()"
   ]
  },
  {
   "cell_type": "code",
   "execution_count": 14,
   "metadata": {},
   "outputs": [
    {
     "data": {
      "text/plain": [
       "CLNT_ID        int64\n",
       "SESS_ID        int64\n",
       "KWD_NM        object\n",
       "SEARCH_CNT     int64\n",
       "dtype: object"
      ]
     },
     "execution_count": 14,
     "metadata": {},
     "output_type": "execute_result"
    }
   ],
   "source": [
    "# Data type\n",
    "df_Search1.dtypes"
   ]
  },
  {
   "cell_type": "code",
   "execution_count": 15,
   "metadata": {},
   "outputs": [],
   "source": [
    "df_Search1.CLNT_ID = df_Search1.CLNT_ID.astype(int)\n",
    "df_Search1.SESS_ID = df_Search1.SESS_ID.astype(int)\n",
    "df_Search1.KWD_NM = df_Search1.KWD_NM.astype(str)\n",
    "df_Search1.SEARCH_CNT = df_Search1.SEARCH_CNT.astype(int)"
   ]
  },
  {
   "cell_type": "code",
   "execution_count": 16,
   "metadata": {},
   "outputs": [
    {
     "data": {
      "text/plain": [
       "CLNT_ID        int32\n",
       "SESS_ID        int32\n",
       "KWD_NM        object\n",
       "SEARCH_CNT     int32\n",
       "dtype: object"
      ]
     },
     "execution_count": 16,
     "metadata": {},
     "output_type": "execute_result"
    }
   ],
   "source": [
    "# Data type Again\n",
    "df_Search1.dtypes"
   ]
  },
  {
   "cell_type": "markdown",
   "metadata": {},
   "source": [
    "### 3) Search2"
   ]
  },
  {
   "cell_type": "code",
   "execution_count": 17,
   "metadata": {},
   "outputs": [
    {
     "data": {
      "text/plain": [
       "SESS_DT       0\n",
       "KWD_NM        0\n",
       "SEARCH_CNT    0\n",
       "dtype: int64"
      ]
     },
     "execution_count": 17,
     "metadata": {},
     "output_type": "execute_result"
    }
   ],
   "source": [
    "#Missing Values\n",
    "df_Search2.isna().sum()"
   ]
  },
  {
   "cell_type": "code",
   "execution_count": 18,
   "metadata": {},
   "outputs": [
    {
     "data": {
      "text/plain": [
       "SESS_DT        int64\n",
       "KWD_NM        object\n",
       "SEARCH_CNT    object\n",
       "dtype: object"
      ]
     },
     "execution_count": 18,
     "metadata": {},
     "output_type": "execute_result"
    }
   ],
   "source": [
    "# Data type\n",
    "df_Search2.dtypes"
   ]
  },
  {
   "cell_type": "code",
   "execution_count": 19,
   "metadata": {},
   "outputs": [],
   "source": [
    "df_Search2.SESS_DT = pd.to_datetime(df_Search2.SESS_DT,format=\"%Y%m%d\")\n",
    "df_Search2.KWD_NM = df_Search2.KWD_NM.astype(str)\n",
    "df_Search2.SEARCH_CNT = df_Search2.SEARCH_CNT.apply(lambda x : str(x).replace(\",\",\"\")).astype(int)"
   ]
  },
  {
   "cell_type": "code",
   "execution_count": 20,
   "metadata": {},
   "outputs": [
    {
     "data": {
      "text/plain": [
       "SESS_DT       datetime64[ns]\n",
       "KWD_NM                object\n",
       "SEARCH_CNT             int32\n",
       "dtype: object"
      ]
     },
     "execution_count": 20,
     "metadata": {},
     "output_type": "execute_result"
    }
   ],
   "source": [
    "# Data type Again\n",
    "df_Search2.dtypes"
   ]
  },
  {
   "cell_type": "markdown",
   "metadata": {},
   "source": [
    "### 4) Custom"
   ]
  },
  {
   "cell_type": "code",
   "execution_count": 21,
   "metadata": {},
   "outputs": [
    {
     "data": {
      "text/plain": [
       "CLNT_ID        0\n",
       "CLNT_GENDER    0\n",
       "CLNT_AGE       0\n",
       "dtype: int64"
      ]
     },
     "execution_count": 21,
     "metadata": {},
     "output_type": "execute_result"
    }
   ],
   "source": [
    "#Missing Values\n",
    "df_Custom.isna().sum()"
   ]
  },
  {
   "cell_type": "code",
   "execution_count": 22,
   "metadata": {},
   "outputs": [
    {
     "data": {
      "text/plain": [
       "CLNT_ID         int64\n",
       "CLNT_GENDER    object\n",
       "CLNT_AGE        int64\n",
       "dtype: object"
      ]
     },
     "execution_count": 22,
     "metadata": {},
     "output_type": "execute_result"
    }
   ],
   "source": [
    "#Data Type\n",
    "df_Custom.dtypes"
   ]
  },
  {
   "cell_type": "code",
   "execution_count": 23,
   "metadata": {},
   "outputs": [],
   "source": [
    "df_Custom.CLNT_ID = df_Custom.CLNT_ID.astype(int)\n",
    "df_Custom.CLNT_GENDER = df_Custom.CLNT_GENDER.astype(str)\n",
    "df_Custom.CLNT_AGE = df_Custom.CLNT_AGE.astype(int)"
   ]
  },
  {
   "cell_type": "code",
   "execution_count": 24,
   "metadata": {},
   "outputs": [
    {
     "data": {
      "text/plain": [
       "CLNT_ID         int32\n",
       "CLNT_GENDER    object\n",
       "CLNT_AGE        int32\n",
       "dtype: object"
      ]
     },
     "execution_count": 24,
     "metadata": {},
     "output_type": "execute_result"
    }
   ],
   "source": [
    "#Data Type again\n",
    "df_Custom.dtypes"
   ]
  },
  {
   "cell_type": "markdown",
   "metadata": {},
   "source": [
    "### 5) Session"
   ]
  },
  {
   "cell_type": "code",
   "execution_count": 25,
   "metadata": {},
   "outputs": [
    {
     "data": {
      "text/plain": [
       "CLNT_ID                0\n",
       "SESS_ID                0\n",
       "SESS_SEQ               0\n",
       "SESS_DT                0\n",
       "TOT_PAG_VIEW_CT      274\n",
       "TOT_SESS_HR_V      14202\n",
       "DVC_CTG_NM             0\n",
       "ZON_NM                 0\n",
       "CITY_NM                0\n",
       "dtype: int64"
      ]
     },
     "execution_count": 25,
     "metadata": {},
     "output_type": "execute_result"
    }
   ],
   "source": [
    "#Missing Values\n",
    "df_Session.isna().sum()"
   ]
  },
  {
   "cell_type": "code",
   "execution_count": 26,
   "metadata": {},
   "outputs": [
    {
     "data": {
      "text/plain": [
       "CLNT_ID              int64\n",
       "SESS_ID              int64\n",
       "SESS_SEQ             int64\n",
       "SESS_DT              int64\n",
       "TOT_PAG_VIEW_CT    float64\n",
       "TOT_SESS_HR_V       object\n",
       "DVC_CTG_NM          object\n",
       "ZON_NM              object\n",
       "CITY_NM             object\n",
       "dtype: object"
      ]
     },
     "execution_count": 26,
     "metadata": {},
     "output_type": "execute_result"
    }
   ],
   "source": [
    "df_Session.dtypes"
   ]
  },
  {
   "cell_type": "code",
   "execution_count": 27,
   "metadata": {},
   "outputs": [
    {
     "data": {
      "text/plain": [
       "0"
      ]
     },
     "execution_count": 27,
     "metadata": {},
     "output_type": "execute_result"
    }
   ],
   "source": [
    "#TOT_PAG_VIEW_CT가 0인 경우\n",
    "sum(df_Session.TOT_PAG_VIEW_CT == 0)"
   ]
  },
  {
   "cell_type": "code",
   "execution_count": 28,
   "metadata": {},
   "outputs": [
    {
     "data": {
      "text/plain": [
       "0"
      ]
     },
     "execution_count": 28,
     "metadata": {},
     "output_type": "execute_result"
    }
   ],
   "source": [
    "#TOT_SESS_HR_V가 0인 경우\n",
    "sum(df_Session.TOT_SESS_HR_V == '0')"
   ]
  },
  {
   "cell_type": "code",
   "execution_count": 29,
   "metadata": {},
   "outputs": [
    {
     "name": "stdout",
     "output_type": "stream",
     "text": [
      "결측값 비율\n"
     ]
    },
    {
     "data": {
      "text/plain": [
       "0.005"
      ]
     },
     "execution_count": 29,
     "metadata": {},
     "output_type": "execute_result"
    }
   ],
   "source": [
    "# 결측값 비율\n",
    "print('결측값 비율')\n",
    "round(len(df_Session[df_Session.TOT_PAG_VIEW_CT.isna()|df_Session.TOT_SESS_HR_V.isna()])/len(df_Session),3)"
   ]
  },
  {
   "cell_type": "code",
   "execution_count": 30,
   "metadata": {},
   "outputs": [
    {
     "data": {
      "text/html": [
       "<div>\n",
       "<style scoped>\n",
       "    .dataframe tbody tr th:only-of-type {\n",
       "        vertical-align: middle;\n",
       "    }\n",
       "\n",
       "    .dataframe tbody tr th {\n",
       "        vertical-align: top;\n",
       "    }\n",
       "\n",
       "    .dataframe thead th {\n",
       "        text-align: right;\n",
       "    }\n",
       "</style>\n",
       "<table border=\"1\" class=\"dataframe\">\n",
       "  <thead>\n",
       "    <tr style=\"text-align: right;\">\n",
       "      <th></th>\n",
       "      <th>CLNT_ID</th>\n",
       "      <th>SESS_ID</th>\n",
       "      <th>SESS_SEQ</th>\n",
       "      <th>SESS_DT</th>\n",
       "      <th>TOT_PAG_VIEW_CT</th>\n",
       "      <th>TOT_SESS_HR_V</th>\n",
       "      <th>DVC_CTG_NM</th>\n",
       "      <th>ZON_NM</th>\n",
       "      <th>CITY_NM</th>\n",
       "    </tr>\n",
       "  </thead>\n",
       "  <tbody>\n",
       "    <tr>\n",
       "      <th>11409</th>\n",
       "      <td>5075856</td>\n",
       "      <td>6836578</td>\n",
       "      <td>19</td>\n",
       "      <td>20180608</td>\n",
       "      <td>NaN</td>\n",
       "      <td>NaN</td>\n",
       "      <td>mobile</td>\n",
       "      <td>Seoul</td>\n",
       "      <td>Seoul</td>\n",
       "    </tr>\n",
       "    <tr>\n",
       "      <th>26628</th>\n",
       "      <td>5368135</td>\n",
       "      <td>4391880</td>\n",
       "      <td>10</td>\n",
       "      <td>20180718</td>\n",
       "      <td>NaN</td>\n",
       "      <td>NaN</td>\n",
       "      <td>mobile</td>\n",
       "      <td>Chungcheongnam-do</td>\n",
       "      <td>Yeongi-gun</td>\n",
       "    </tr>\n",
       "    <tr>\n",
       "      <th>43241</th>\n",
       "      <td>5687186</td>\n",
       "      <td>852560</td>\n",
       "      <td>40</td>\n",
       "      <td>20180916</td>\n",
       "      <td>NaN</td>\n",
       "      <td>NaN</td>\n",
       "      <td>mobile</td>\n",
       "      <td>Seoul</td>\n",
       "      <td>Seoul</td>\n",
       "    </tr>\n",
       "    <tr>\n",
       "      <th>58494</th>\n",
       "      <td>6104032</td>\n",
       "      <td>1568619</td>\n",
       "      <td>78</td>\n",
       "      <td>20180904</td>\n",
       "      <td>NaN</td>\n",
       "      <td>NaN</td>\n",
       "      <td>mobile</td>\n",
       "      <td>Chungcheongnam-do</td>\n",
       "      <td>Cheonan-si</td>\n",
       "    </tr>\n",
       "    <tr>\n",
       "      <th>64700</th>\n",
       "      <td>3735745</td>\n",
       "      <td>6884635</td>\n",
       "      <td>1</td>\n",
       "      <td>20180607</td>\n",
       "      <td>NaN</td>\n",
       "      <td>NaN</td>\n",
       "      <td>desktop</td>\n",
       "      <td>Gwangju</td>\n",
       "      <td>Gwangju</td>\n",
       "    </tr>\n",
       "  </tbody>\n",
       "</table>\n",
       "</div>"
      ],
      "text/plain": [
       "       CLNT_ID  SESS_ID  SESS_SEQ   SESS_DT  TOT_PAG_VIEW_CT TOT_SESS_HR_V  \\\n",
       "11409  5075856  6836578        19  20180608              NaN           NaN   \n",
       "26628  5368135  4391880        10  20180718              NaN           NaN   \n",
       "43241  5687186   852560        40  20180916              NaN           NaN   \n",
       "58494  6104032  1568619        78  20180904              NaN           NaN   \n",
       "64700  3735745  6884635         1  20180607              NaN           NaN   \n",
       "\n",
       "      DVC_CTG_NM             ZON_NM     CITY_NM  \n",
       "11409     mobile              Seoul       Seoul  \n",
       "26628     mobile  Chungcheongnam-do  Yeongi-gun  \n",
       "43241     mobile              Seoul       Seoul  \n",
       "58494     mobile  Chungcheongnam-do  Cheonan-si  \n",
       "64700    desktop            Gwangju     Gwangju  "
      ]
     },
     "execution_count": 30,
     "metadata": {},
     "output_type": "execute_result"
    }
   ],
   "source": [
    "df_Session[df_Session.TOT_PAG_VIEW_CT.isna()].head()"
   ]
  },
  {
   "cell_type": "code",
   "execution_count": 31,
   "metadata": {},
   "outputs": [
    {
     "data": {
      "text/html": [
       "<div>\n",
       "<style scoped>\n",
       "    .dataframe tbody tr th:only-of-type {\n",
       "        vertical-align: middle;\n",
       "    }\n",
       "\n",
       "    .dataframe tbody tr th {\n",
       "        vertical-align: top;\n",
       "    }\n",
       "\n",
       "    .dataframe thead th {\n",
       "        text-align: right;\n",
       "    }\n",
       "</style>\n",
       "<table border=\"1\" class=\"dataframe\">\n",
       "  <thead>\n",
       "    <tr style=\"text-align: right;\">\n",
       "      <th></th>\n",
       "      <th>CLNT_ID</th>\n",
       "      <th>SESS_ID</th>\n",
       "      <th>SESS_SEQ</th>\n",
       "      <th>SESS_DT</th>\n",
       "      <th>TOT_PAG_VIEW_CT</th>\n",
       "      <th>TOT_SESS_HR_V</th>\n",
       "      <th>DVC_CTG_NM</th>\n",
       "      <th>ZON_NM</th>\n",
       "      <th>CITY_NM</th>\n",
       "    </tr>\n",
       "  </thead>\n",
       "  <tbody>\n",
       "    <tr>\n",
       "      <th>67340</th>\n",
       "      <td>401333</td>\n",
       "      <td>3950587</td>\n",
       "      <td>5</td>\n",
       "      <td>20180725</td>\n",
       "      <td>NaN</td>\n",
       "      <td>1,583</td>\n",
       "      <td>mobile</td>\n",
       "      <td>Seoul</td>\n",
       "      <td>Seoul</td>\n",
       "    </tr>\n",
       "    <tr>\n",
       "      <th>395208</th>\n",
       "      <td>3449659</td>\n",
       "      <td>4394290</td>\n",
       "      <td>1</td>\n",
       "      <td>20180718</td>\n",
       "      <td>NaN</td>\n",
       "      <td>18</td>\n",
       "      <td>desktop</td>\n",
       "      <td>Busan</td>\n",
       "      <td>Busan</td>\n",
       "    </tr>\n",
       "    <tr>\n",
       "      <th>817841</th>\n",
       "      <td>3309257</td>\n",
       "      <td>2890087</td>\n",
       "      <td>20</td>\n",
       "      <td>20180813</td>\n",
       "      <td>NaN</td>\n",
       "      <td>9</td>\n",
       "      <td>mobile</td>\n",
       "      <td>Seoul</td>\n",
       "      <td>Seoul</td>\n",
       "    </tr>\n",
       "    <tr>\n",
       "      <th>1153340</th>\n",
       "      <td>19441</td>\n",
       "      <td>6220093</td>\n",
       "      <td>1</td>\n",
       "      <td>20180618</td>\n",
       "      <td>NaN</td>\n",
       "      <td>5</td>\n",
       "      <td>desktop</td>\n",
       "      <td>Gyeonggi-do</td>\n",
       "      <td>Hwaseong-si</td>\n",
       "    </tr>\n",
       "    <tr>\n",
       "      <th>1196086</th>\n",
       "      <td>5483124</td>\n",
       "      <td>5361386</td>\n",
       "      <td>1</td>\n",
       "      <td>20180702</td>\n",
       "      <td>NaN</td>\n",
       "      <td>44</td>\n",
       "      <td>desktop</td>\n",
       "      <td>Chungcheongbuk-do</td>\n",
       "      <td>Okcheon-gun</td>\n",
       "    </tr>\n",
       "    <tr>\n",
       "      <th>1198860</th>\n",
       "      <td>3436252</td>\n",
       "      <td>3960033</td>\n",
       "      <td>5</td>\n",
       "      <td>20180725</td>\n",
       "      <td>NaN</td>\n",
       "      <td>2</td>\n",
       "      <td>mobile</td>\n",
       "      <td>Gyeonggi-do</td>\n",
       "      <td>Gimpo-si</td>\n",
       "    </tr>\n",
       "    <tr>\n",
       "      <th>1669417</th>\n",
       "      <td>99352</td>\n",
       "      <td>6907444</td>\n",
       "      <td>1</td>\n",
       "      <td>20180607</td>\n",
       "      <td>NaN</td>\n",
       "      <td>53</td>\n",
       "      <td>desktop</td>\n",
       "      <td>Gyeonggi-do</td>\n",
       "      <td>Siheung-si</td>\n",
       "    </tr>\n",
       "    <tr>\n",
       "      <th>2136810</th>\n",
       "      <td>2549138</td>\n",
       "      <td>5905220</td>\n",
       "      <td>1</td>\n",
       "      <td>20180623</td>\n",
       "      <td>NaN</td>\n",
       "      <td>1</td>\n",
       "      <td>desktop</td>\n",
       "      <td>Gwangju</td>\n",
       "      <td>Gwangju</td>\n",
       "    </tr>\n",
       "    <tr>\n",
       "      <th>2165594</th>\n",
       "      <td>2458359</td>\n",
       "      <td>3251800</td>\n",
       "      <td>1</td>\n",
       "      <td>20180806</td>\n",
       "      <td>NaN</td>\n",
       "      <td>2</td>\n",
       "      <td>desktop</td>\n",
       "      <td>Daejeon</td>\n",
       "      <td>Daejeon</td>\n",
       "    </tr>\n",
       "  </tbody>\n",
       "</table>\n",
       "</div>"
      ],
      "text/plain": [
       "         CLNT_ID  SESS_ID  SESS_SEQ   SESS_DT  TOT_PAG_VIEW_CT TOT_SESS_HR_V  \\\n",
       "67340     401333  3950587         5  20180725              NaN         1,583   \n",
       "395208   3449659  4394290         1  20180718              NaN            18   \n",
       "817841   3309257  2890087        20  20180813              NaN             9   \n",
       "1153340    19441  6220093         1  20180618              NaN             5   \n",
       "1196086  5483124  5361386         1  20180702              NaN            44   \n",
       "1198860  3436252  3960033         5  20180725              NaN             2   \n",
       "1669417    99352  6907444         1  20180607              NaN            53   \n",
       "2136810  2549138  5905220         1  20180623              NaN             1   \n",
       "2165594  2458359  3251800         1  20180806              NaN             2   \n",
       "\n",
       "        DVC_CTG_NM             ZON_NM      CITY_NM  \n",
       "67340       mobile              Seoul        Seoul  \n",
       "395208     desktop              Busan        Busan  \n",
       "817841      mobile              Seoul        Seoul  \n",
       "1153340    desktop        Gyeonggi-do  Hwaseong-si  \n",
       "1196086    desktop  Chungcheongbuk-do  Okcheon-gun  \n",
       "1198860     mobile        Gyeonggi-do     Gimpo-si  \n",
       "1669417    desktop        Gyeonggi-do   Siheung-si  \n",
       "2136810    desktop            Gwangju      Gwangju  \n",
       "2165594    desktop            Daejeon      Daejeon  "
      ]
     },
     "execution_count": 31,
     "metadata": {},
     "output_type": "execute_result"
    }
   ],
   "source": [
    "df_Session[df_Session.TOT_PAG_VIEW_CT.isna()&~df_Session.TOT_SESS_HR_V.isna()]"
   ]
  },
  {
   "cell_type": "code",
   "execution_count": 32,
   "metadata": {},
   "outputs": [
    {
     "name": "stdout",
     "output_type": "stream",
     "text": [
      "TOT_PAG_VIEW_CT 와 TOT_SESS_HR_V가 모두 NaN인 경우\n"
     ]
    },
    {
     "data": {
      "text/plain": [
       "0.967"
      ]
     },
     "execution_count": 32,
     "metadata": {},
     "output_type": "execute_result"
    }
   ],
   "source": [
    "#TOT_PAG_VIEW_CT 와 TOT_SESS_HR_V가 모두 NaN인 경우\n",
    "print('TOT_PAG_VIEW_CT 와 TOT_SESS_HR_V가 모두 NaN인 경우')\n",
    "round(len(df_Session[(df_Session.TOT_PAG_VIEW_CT.isna())&df_Session.TOT_SESS_HR_V.isna()])/len(df_Session[df_Session.TOT_PAG_VIEW_CT.isna()]),3)"
   ]
  },
  {
   "cell_type": "code",
   "execution_count": 33,
   "metadata": {},
   "outputs": [
    {
     "data": {
      "text/html": [
       "<div>\n",
       "<style scoped>\n",
       "    .dataframe tbody tr th:only-of-type {\n",
       "        vertical-align: middle;\n",
       "    }\n",
       "\n",
       "    .dataframe tbody tr th {\n",
       "        vertical-align: top;\n",
       "    }\n",
       "\n",
       "    .dataframe thead th {\n",
       "        text-align: right;\n",
       "    }\n",
       "</style>\n",
       "<table border=\"1\" class=\"dataframe\">\n",
       "  <thead>\n",
       "    <tr style=\"text-align: right;\">\n",
       "      <th></th>\n",
       "      <th>CLNT_ID</th>\n",
       "      <th>SESS_ID</th>\n",
       "      <th>SESS_SEQ</th>\n",
       "      <th>SESS_DT</th>\n",
       "      <th>TOT_PAG_VIEW_CT</th>\n",
       "      <th>TOT_SESS_HR_V</th>\n",
       "      <th>DVC_CTG_NM</th>\n",
       "      <th>ZON_NM</th>\n",
       "      <th>CITY_NM</th>\n",
       "    </tr>\n",
       "  </thead>\n",
       "  <tbody>\n",
       "    <tr>\n",
       "      <th>38</th>\n",
       "      <td>5878756</td>\n",
       "      <td>7465325</td>\n",
       "      <td>5</td>\n",
       "      <td>20180529</td>\n",
       "      <td>1.0</td>\n",
       "      <td>NaN</td>\n",
       "      <td>mobile</td>\n",
       "      <td>Chungcheongnam-do</td>\n",
       "      <td>Cheonan-si</td>\n",
       "    </tr>\n",
       "    <tr>\n",
       "      <th>64</th>\n",
       "      <td>6065738</td>\n",
       "      <td>9564520</td>\n",
       "      <td>26</td>\n",
       "      <td>20180424</td>\n",
       "      <td>1.0</td>\n",
       "      <td>NaN</td>\n",
       "      <td>mobile</td>\n",
       "      <td>Gyeonggi-do</td>\n",
       "      <td>Gwangmyeong-si</td>\n",
       "    </tr>\n",
       "    <tr>\n",
       "      <th>65</th>\n",
       "      <td>6065738</td>\n",
       "      <td>9564529</td>\n",
       "      <td>25</td>\n",
       "      <td>20180424</td>\n",
       "      <td>1.0</td>\n",
       "      <td>NaN</td>\n",
       "      <td>mobile</td>\n",
       "      <td>Gyeonggi-do</td>\n",
       "      <td>Gwangmyeong-si</td>\n",
       "    </tr>\n",
       "    <tr>\n",
       "      <th>246</th>\n",
       "      <td>6003295</td>\n",
       "      <td>1035552</td>\n",
       "      <td>2</td>\n",
       "      <td>20180913</td>\n",
       "      <td>1.0</td>\n",
       "      <td>NaN</td>\n",
       "      <td>desktop</td>\n",
       "      <td>Daejeon</td>\n",
       "      <td>Daejeon</td>\n",
       "    </tr>\n",
       "    <tr>\n",
       "      <th>604</th>\n",
       "      <td>5946142</td>\n",
       "      <td>9600252</td>\n",
       "      <td>4</td>\n",
       "      <td>20180423</td>\n",
       "      <td>1.0</td>\n",
       "      <td>NaN</td>\n",
       "      <td>mobile</td>\n",
       "      <td>Seoul</td>\n",
       "      <td>Seoul</td>\n",
       "    </tr>\n",
       "  </tbody>\n",
       "</table>\n",
       "</div>"
      ],
      "text/plain": [
       "     CLNT_ID  SESS_ID  SESS_SEQ   SESS_DT  TOT_PAG_VIEW_CT TOT_SESS_HR_V  \\\n",
       "38   5878756  7465325         5  20180529              1.0           NaN   \n",
       "64   6065738  9564520        26  20180424              1.0           NaN   \n",
       "65   6065738  9564529        25  20180424              1.0           NaN   \n",
       "246  6003295  1035552         2  20180913              1.0           NaN   \n",
       "604  5946142  9600252         4  20180423              1.0           NaN   \n",
       "\n",
       "    DVC_CTG_NM             ZON_NM         CITY_NM  \n",
       "38      mobile  Chungcheongnam-do      Cheonan-si  \n",
       "64      mobile        Gyeonggi-do  Gwangmyeong-si  \n",
       "65      mobile        Gyeonggi-do  Gwangmyeong-si  \n",
       "246    desktop            Daejeon         Daejeon  \n",
       "604     mobile              Seoul           Seoul  "
      ]
     },
     "execution_count": 33,
     "metadata": {},
     "output_type": "execute_result"
    }
   ],
   "source": [
    "df_Session[df_Session.TOT_SESS_HR_V.isna()].head()"
   ]
  },
  {
   "cell_type": "code",
   "execution_count": 34,
   "metadata": {},
   "outputs": [
    {
     "name": "stdout",
     "output_type": "stream",
     "text": [
      "TOT_PAG_VIEW_CT == 1 이고 TOT_SESS_HR_V는 NaN인 경우\n"
     ]
    },
    {
     "data": {
      "text/plain": [
       "0.977"
      ]
     },
     "execution_count": 34,
     "metadata": {},
     "output_type": "execute_result"
    }
   ],
   "source": [
    "#TOT_PAG_VIEW_CT == 1 이고 TOT_SESS_HR_V는 NaN인 경우\n",
    "print('TOT_PAG_VIEW_CT == 1 이고 TOT_SESS_HR_V는 NaN인 경우')\n",
    "round(len(df_Session[(df_Session.TOT_PAG_VIEW_CT == 1)&df_Session.TOT_SESS_HR_V.isna()])/len(df_Session[df_Session.TOT_SESS_HR_V.isna()]),3)"
   ]
  },
  {
   "cell_type": "code",
   "execution_count": 35,
   "metadata": {},
   "outputs": [
    {
     "data": {
      "text/html": [
       "<div>\n",
       "<style scoped>\n",
       "    .dataframe tbody tr th:only-of-type {\n",
       "        vertical-align: middle;\n",
       "    }\n",
       "\n",
       "    .dataframe tbody tr th {\n",
       "        vertical-align: top;\n",
       "    }\n",
       "\n",
       "    .dataframe thead th {\n",
       "        text-align: right;\n",
       "    }\n",
       "</style>\n",
       "<table border=\"1\" class=\"dataframe\">\n",
       "  <thead>\n",
       "    <tr style=\"text-align: right;\">\n",
       "      <th></th>\n",
       "      <th>CLNT_ID</th>\n",
       "      <th>SESS_ID</th>\n",
       "      <th>SESS_SEQ</th>\n",
       "      <th>SESS_DT</th>\n",
       "      <th>TOT_PAG_VIEW_CT</th>\n",
       "      <th>TOT_SESS_HR_V</th>\n",
       "      <th>DVC_CTG_NM</th>\n",
       "      <th>ZON_NM</th>\n",
       "      <th>CITY_NM</th>\n",
       "    </tr>\n",
       "  </thead>\n",
       "  <tbody>\n",
       "    <tr>\n",
       "      <th>18500</th>\n",
       "      <td>3107805</td>\n",
       "      <td>2566536</td>\n",
       "      <td>78</td>\n",
       "      <td>20180818</td>\n",
       "      <td>2.0</td>\n",
       "      <td>NaN</td>\n",
       "      <td>mobile</td>\n",
       "      <td>Seoul</td>\n",
       "      <td>Seoul</td>\n",
       "    </tr>\n",
       "    <tr>\n",
       "      <th>36640</th>\n",
       "      <td>5586415</td>\n",
       "      <td>10670905</td>\n",
       "      <td>26</td>\n",
       "      <td>20180405</td>\n",
       "      <td>2.0</td>\n",
       "      <td>NaN</td>\n",
       "      <td>desktop</td>\n",
       "      <td>Seoul</td>\n",
       "      <td>Seoul</td>\n",
       "    </tr>\n",
       "    <tr>\n",
       "      <th>73380</th>\n",
       "      <td>1217492</td>\n",
       "      <td>8268389</td>\n",
       "      <td>70</td>\n",
       "      <td>20180515</td>\n",
       "      <td>2.0</td>\n",
       "      <td>NaN</td>\n",
       "      <td>mobile</td>\n",
       "      <td>Ulsan</td>\n",
       "      <td>Ulsan</td>\n",
       "    </tr>\n",
       "    <tr>\n",
       "      <th>88197</th>\n",
       "      <td>470431</td>\n",
       "      <td>5465686</td>\n",
       "      <td>15</td>\n",
       "      <td>20180701</td>\n",
       "      <td>2.0</td>\n",
       "      <td>NaN</td>\n",
       "      <td>mobile</td>\n",
       "      <td>Busan</td>\n",
       "      <td>Busan</td>\n",
       "    </tr>\n",
       "    <tr>\n",
       "      <th>93259</th>\n",
       "      <td>784998</td>\n",
       "      <td>6224692</td>\n",
       "      <td>23</td>\n",
       "      <td>20180618</td>\n",
       "      <td>2.0</td>\n",
       "      <td>NaN</td>\n",
       "      <td>mobile</td>\n",
       "      <td>Seoul</td>\n",
       "      <td>Seoul</td>\n",
       "    </tr>\n",
       "  </tbody>\n",
       "</table>\n",
       "</div>"
      ],
      "text/plain": [
       "       CLNT_ID   SESS_ID  SESS_SEQ   SESS_DT  TOT_PAG_VIEW_CT TOT_SESS_HR_V  \\\n",
       "18500  3107805   2566536        78  20180818              2.0           NaN   \n",
       "36640  5586415  10670905        26  20180405              2.0           NaN   \n",
       "73380  1217492   8268389        70  20180515              2.0           NaN   \n",
       "88197   470431   5465686        15  20180701              2.0           NaN   \n",
       "93259   784998   6224692        23  20180618              2.0           NaN   \n",
       "\n",
       "      DVC_CTG_NM ZON_NM CITY_NM  \n",
       "18500     mobile  Seoul   Seoul  \n",
       "36640    desktop  Seoul   Seoul  \n",
       "73380     mobile  Ulsan   Ulsan  \n",
       "88197     mobile  Busan   Busan  \n",
       "93259     mobile  Seoul   Seoul  "
      ]
     },
     "execution_count": 35,
     "metadata": {},
     "output_type": "execute_result"
    }
   ],
   "source": [
    "df_Session[(df_Session.TOT_PAG_VIEW_CT>1)&df_Session.TOT_SESS_HR_V.isna()].head()"
   ]
  },
  {
   "cell_type": "code",
   "execution_count": 36,
   "metadata": {},
   "outputs": [
    {
     "data": {
      "text/plain": [
       "67"
      ]
     },
     "execution_count": 36,
     "metadata": {},
     "output_type": "execute_result"
    }
   ],
   "source": [
    "#TOT_PAG_VIEW_CT > 1이고 TOT_SESS_HR_V는 NaN인 경우\n",
    "len(df_Session[(df_Session.TOT_PAG_VIEW_CT>1)&df_Session.TOT_SESS_HR_V.isna()])"
   ]
  },
  {
   "cell_type": "code",
   "execution_count": 37,
   "metadata": {},
   "outputs": [
    {
     "data": {
      "text/html": [
       "<div>\n",
       "<style scoped>\n",
       "    .dataframe tbody tr th:only-of-type {\n",
       "        vertical-align: middle;\n",
       "    }\n",
       "\n",
       "    .dataframe tbody tr th {\n",
       "        vertical-align: top;\n",
       "    }\n",
       "\n",
       "    .dataframe thead th {\n",
       "        text-align: right;\n",
       "    }\n",
       "</style>\n",
       "<table border=\"1\" class=\"dataframe\">\n",
       "  <thead>\n",
       "    <tr style=\"text-align: right;\">\n",
       "      <th></th>\n",
       "      <th>CLNT_ID</th>\n",
       "      <th>SESS_ID</th>\n",
       "      <th>SESS_SEQ</th>\n",
       "      <th>SESS_DT</th>\n",
       "      <th>TOT_PAG_VIEW_CT</th>\n",
       "      <th>TOT_SESS_HR_V</th>\n",
       "      <th>DVC_CTG_NM</th>\n",
       "      <th>ZON_NM</th>\n",
       "      <th>CITY_NM</th>\n",
       "    </tr>\n",
       "  </thead>\n",
       "  <tbody>\n",
       "    <tr>\n",
       "      <th>2167579</th>\n",
       "      <td>5576226</td>\n",
       "      <td>3968457</td>\n",
       "      <td>2</td>\n",
       "      <td>20180725</td>\n",
       "      <td>7.0</td>\n",
       "      <td>NaN</td>\n",
       "      <td>desktop</td>\n",
       "      <td>Seoul</td>\n",
       "      <td>Seoul</td>\n",
       "    </tr>\n",
       "    <tr>\n",
       "      <th>2167580</th>\n",
       "      <td>5576226</td>\n",
       "      <td>3435063</td>\n",
       "      <td>5</td>\n",
       "      <td>20180803</td>\n",
       "      <td>5.0</td>\n",
       "      <td>NaN</td>\n",
       "      <td>desktop</td>\n",
       "      <td>Seoul</td>\n",
       "      <td>Seoul</td>\n",
       "    </tr>\n",
       "  </tbody>\n",
       "</table>\n",
       "</div>"
      ],
      "text/plain": [
       "         CLNT_ID  SESS_ID  SESS_SEQ   SESS_DT  TOT_PAG_VIEW_CT TOT_SESS_HR_V  \\\n",
       "2167579  5576226  3968457         2  20180725              7.0           NaN   \n",
       "2167580  5576226  3435063         5  20180803              5.0           NaN   \n",
       "\n",
       "        DVC_CTG_NM ZON_NM CITY_NM  \n",
       "2167579    desktop  Seoul   Seoul  \n",
       "2167580    desktop  Seoul   Seoul  "
      ]
     },
     "execution_count": 37,
     "metadata": {},
     "output_type": "execute_result"
    }
   ],
   "source": [
    "df_Session[(df_Session.TOT_PAG_VIEW_CT>3)&df_Session.TOT_SESS_HR_V.isna()].head()"
   ]
  },
  {
   "cell_type": "markdown",
   "metadata": {},
   "source": [
    "#### NaN처리 방법\n",
    "\n",
    "#### 1. 결측값이 전체 데이터의 0.005에 불과하므로 결측값을 제거하고 남은 데이터만 이용한다.\n",
    "\n",
    "#### 2. 결측값을 0으로 대체\n",
    "\n",
    "\n",
    "##### TOT_SESS_HR_V의 NaN 값은 세션 내에서 1초 이내동안만 머물렀기 때문 값이 입력이 되지 않은 것으로 생각된다. TOT_SESS_HR_V의 값이 0인 경우가 없다는 점과, TOT_PAG_VIEW_CT 변수는 1이면서 TOT_SESS_HR_V의 값이 NaN인 경우가 97%이상이며 TOT_SESS_HR_V가 NaN일 때 TOT_PAG_VIEW_CT의 최대값이 7이라는 점이 이를 방증해준다. \n",
    "\n",
    "##### 또한 TOT_PAG_VIEW_CT역시 0값이 존재하지 않으며 96%이상이 TOT_SESS_HR_V가 NaN일 때, 즉 세션 내에 머문 시간이 1초 이내일 떄 NaN값을 보인다. TOT_SESS_HR_V가 NaN이 아님에도 TOT_PAG_VIEW_CT가 NaN인 경우는 세션의 오류로 인해 페이지 뷰 수가 늘어나지 않은 것으로 사려된다. \n",
    "\n",
    "##### 따라서 이 두 변수에서의 NaN을 0으로 설정한다."
   ]
  },
  {
   "cell_type": "code",
   "execution_count": 38,
   "metadata": {},
   "outputs": [],
   "source": [
    "df_Session_new = df_Session.copy()\n",
    "df_Session_new.TOT_PAG_VIEW_CT = df_Session_new.TOT_PAG_VIEW_CT.fillna(0)\n",
    "df_Session_new.TOT_SESS_HR_V = df_Session_new.TOT_SESS_HR_V.fillna(0)"
   ]
  },
  {
   "cell_type": "code",
   "execution_count": 39,
   "metadata": {},
   "outputs": [],
   "source": [
    "df_Session_new.CLNT_ID = df_Session_new.CLNT_ID.astype(int)\n",
    "df_Session_new.SESS_ID = df_Session_new.SESS_ID.astype(int)\n",
    "df_Session_new.SESS_SEQ = df_Session_new.SESS_SEQ.astype(int)\n",
    "df_Session_new.SESS_DT = pd.to_datetime(df_Session_new.SESS_DT,format=\"%Y%m%d\")\n",
    "df_Session_new.TOT_PAG_VIEW_CT = df_Session_new.TOT_PAG_VIEW_CT.astype(int)\n",
    "df_Session_new.TOT_SESS_HR_V = df_Session_new.TOT_SESS_HR_V.apply(lambda x : str(x).replace(\",\",\"\")).astype(int)\n",
    "df_Session_new.DVC_CTG_NM = df_Session_new.DVC_CTG_NM.astype(str)\n",
    "df_Session_new.ZON_NM = df_Session_new.ZON_NM.astype(str)\n",
    "df_Session_new.CITY_NM = df_Session_new.CITY_NM.astype(str)"
   ]
  },
  {
   "cell_type": "code",
   "execution_count": 40,
   "metadata": {},
   "outputs": [
    {
     "data": {
      "text/plain": [
       "CLNT_ID                     int32\n",
       "SESS_ID                     int32\n",
       "SESS_SEQ                    int32\n",
       "SESS_DT            datetime64[ns]\n",
       "TOT_PAG_VIEW_CT             int32\n",
       "TOT_SESS_HR_V               int32\n",
       "DVC_CTG_NM                 object\n",
       "ZON_NM                     object\n",
       "CITY_NM                    object\n",
       "dtype: object"
      ]
     },
     "execution_count": 40,
     "metadata": {},
     "output_type": "execute_result"
    }
   ],
   "source": [
    "df_Session_new.dtypes"
   ]
  },
  {
   "cell_type": "markdown",
   "metadata": {},
   "source": [
    "### 6) Master"
   ]
  },
  {
   "cell_type": "code",
   "execution_count": 41,
   "metadata": {},
   "outputs": [
    {
     "data": {
      "text/plain": [
       "PD_C        0\n",
       "PD_NM       0\n",
       "CLAC1_NM    0\n",
       "CLAC2_NM    0\n",
       "CLAC3_NM    0\n",
       "dtype: int64"
      ]
     },
     "execution_count": 41,
     "metadata": {},
     "output_type": "execute_result"
    }
   ],
   "source": [
    "df_Master.isna().sum()"
   ]
  },
  {
   "cell_type": "code",
   "execution_count": 42,
   "metadata": {},
   "outputs": [
    {
     "data": {
      "text/plain": [
       "PD_C         int64\n",
       "PD_NM       object\n",
       "CLAC1_NM    object\n",
       "CLAC2_NM    object\n",
       "CLAC3_NM    object\n",
       "dtype: object"
      ]
     },
     "execution_count": 42,
     "metadata": {},
     "output_type": "execute_result"
    }
   ],
   "source": [
    "df_Master.dtypes"
   ]
  },
  {
   "cell_type": "code",
   "execution_count": 43,
   "metadata": {},
   "outputs": [],
   "source": [
    "df_Master.PD_C = df_Master.PD_C.astype(int)\n",
    "df_Master.PD_NM = df_Master.PD_NM.astype(str)\n",
    "df_Master.CLAC1_NM = df_Master.CLAC1_NM.astype(str)\n",
    "df_Master.CLAC2_NM = df_Master.CLAC2_NM.astype(str)\n",
    "df_Master.CLAC3_NM = df_Master.CLAC3_NM.astype(str)"
   ]
  },
  {
   "cell_type": "code",
   "execution_count": 44,
   "metadata": {},
   "outputs": [
    {
     "data": {
      "text/plain": [
       "PD_C         int32\n",
       "PD_NM       object\n",
       "CLAC1_NM    object\n",
       "CLAC2_NM    object\n",
       "CLAC3_NM    object\n",
       "dtype: object"
      ]
     },
     "execution_count": 44,
     "metadata": {},
     "output_type": "execute_result"
    }
   ],
   "source": [
    "df_Master.dtypes"
   ]
  },
  {
   "cell_type": "markdown",
   "metadata": {},
   "source": [
    "### 데이터 저장"
   ]
  },
  {
   "cell_type": "code",
   "execution_count": 45,
   "metadata": {},
   "outputs": [],
   "source": [
    "#df_Product.to_csv('Data//Product_new.csv',index =False)\n",
    "#df_Search1.to_csv('Data//Search1_new.csv',index =False)\n",
    "#df_Search2.to_csv('Data//Search2_new.csv',index =False)\n",
    "#df_Custom.to_csv('Data//Custom_new.csv',index =False)\n",
    "#df_Session_new.to_csv('Data//Session_new.csv',index =False)\n",
    "#df_Master.to_csv('Data//Master_new.csv',index =False)"
   ]
  },
  {
   "cell_type": "markdown",
   "metadata": {},
   "source": [
    "## 2. 데이터 병합"
   ]
  },
  {
   "cell_type": "code",
   "execution_count": 46,
   "metadata": {},
   "outputs": [],
   "source": [
    "#get month and week day\n",
    "df_Session_new.loc[:,'MONTH'] = df_Session_new.SESS_DT.dt.month\n",
    "df_Session_new.loc[:,'WKDAY'] = df_Session_new.SESS_DT.dt.weekday"
   ]
  },
  {
   "cell_type": "code",
   "execution_count": 47,
   "metadata": {},
   "outputs": [],
   "source": [
    "#총 구매 금액\n",
    "df_Product.loc[:,'PD_BUY_TOT'] = df_Product.PD_BUY_AM*df_Product.PD_BUY_CT"
   ]
  },
  {
   "cell_type": "code",
   "execution_count": 48,
   "metadata": {},
   "outputs": [],
   "source": [
    "#고객정보와 세션 정보 병합\n",
    "df_Custom_Session = pd.merge(df_Custom,df_Session_new,on='CLNT_ID',how='outer')"
   ]
  },
  {
   "cell_type": "code",
   "execution_count": 49,
   "metadata": {},
   "outputs": [],
   "source": [
    "#고객 세션정보와 구매정보 병합\n",
    "df_Product_Custom_Session = pd.merge(df_Product,df_Custom_Session,on=['CLNT_ID','SESS_ID'],how='outer')\n",
    "df_Product_full = pd.merge(df_Product_Custom_Session,df_Master,on ='PD_C',how='outer')"
   ]
  },
  {
   "cell_type": "code",
   "execution_count": 50,
   "metadata": {},
   "outputs": [],
   "source": [
    "#고객 세션정보와 검색정보 병합\n",
    "df_Search1_Custom_Session = pd.merge(df_Search1,df_Custom_Session,on = ['CLNT_ID','SESS_ID'],how = 'outer')\n",
    "df_Search_full = pd.merge(df_Search1_Custom_Session, df_Search2, on = ['SESS_DT','KWD_NM'],how='inner')\n",
    "df_Search_full = df_Search_full.rename(columns = {'SEARCH_CNT_x':'SEARCH_CNT','SEARCH_CNT_y':'SEARCH_CNT_DT'})"
   ]
  },
  {
   "cell_type": "code",
   "execution_count": 51,
   "metadata": {},
   "outputs": [],
   "source": [
    "#구매정보와 검색정보 병합\n",
    "\n",
    "#검색, 구매 여부 명시\n",
    "df_Product_full.loc[:,'ACTION'] = 'product'\n",
    "df_Search_full.loc[:,'ACTION'] = 'search'\n",
    "\n",
    "#병합\n",
    "df_interaction_full = df_Product_full.append(df_Search_full,sort=False)\n",
    "df_interaction_full = df_interaction_full.reset_index(drop=True)"
   ]
  },
  {
   "cell_type": "code",
   "execution_count": 52,
   "metadata": {},
   "outputs": [],
   "source": [
    "#불필요한 용량 줄이기\n",
    "del df_Product, df_Search1, df_Search2, df_Custom, df_Session, df_Session_new, df_Master, df_Custom_Session, df_Product_Custom_Session, df_Product_full, df_Search1_Custom_Session, df_Search_full"
   ]
  },
  {
   "cell_type": "code",
   "execution_count": 53,
   "metadata": {},
   "outputs": [],
   "source": [
    "# 회원정보 유무여부 확인\n",
    "df_interaction_full.loc[:,'CUSTOM']= 'Y'\n",
    "df_interaction_full.loc[(df_interaction_full.CLNT_GENDER.isna()) & (df_interaction_full.CLNT_AGE.isna()),'CUSTOM'] = 'N' "
   ]
  },
  {
   "cell_type": "code",
   "execution_count": 54,
   "metadata": {},
   "outputs": [],
   "source": [
    "#fill na\n",
    "df_interaction_full = df_interaction_full.fillna(0)\n",
    "\n",
    "#change float to int\n",
    "df_interaction_full.HITS_SEQ = df_interaction_full.HITS_SEQ.astype(int)\n",
    "df_interaction_full.PD_C = df_interaction_full.PD_C.astype(int)\n",
    "df_interaction_full.PD_BUY_AM = df_interaction_full.PD_BUY_AM.astype(int)\n",
    "df_interaction_full.PD_BUY_CT = df_interaction_full.PD_BUY_CT.astype(int)\n",
    "df_interaction_full.SEARCH_CNT = df_interaction_full.SEARCH_CNT.astype(int)\n",
    "df_interaction_full.SEARCH_CNT_DT = df_interaction_full.SEARCH_CNT_DT.astype(int)\n",
    "df_interaction_full.SESS_SEQ = df_interaction_full.SESS_SEQ.astype(int)\n",
    "df_interaction_full.TOT_PAG_VIEW_CT = df_interaction_full.TOT_PAG_VIEW_CT.astype(int)\n",
    "df_interaction_full.TOT_SESS_HR_V = df_interaction_full.TOT_SESS_HR_V.astype(int)\n",
    "df_interaction_full.CLNT_AGE = df_interaction_full.CLNT_AGE.astype(int)\n",
    "df_interaction_full.PD_BUY_TOT = df_interaction_full.PD_BUY_TOT.astype(int)"
   ]
  },
  {
   "cell_type": "markdown",
   "metadata": {},
   "source": [
    "## 3. 탐색적 데이터 분석"
   ]
  },
  {
   "cell_type": "code",
   "execution_count": 55,
   "metadata": {},
   "outputs": [
    {
     "data": {
      "text/html": [
       "<div>\n",
       "<style scoped>\n",
       "    .dataframe tbody tr th:only-of-type {\n",
       "        vertical-align: middle;\n",
       "    }\n",
       "\n",
       "    .dataframe tbody tr th {\n",
       "        vertical-align: top;\n",
       "    }\n",
       "\n",
       "    .dataframe thead th {\n",
       "        text-align: right;\n",
       "    }\n",
       "</style>\n",
       "<table border=\"1\" class=\"dataframe\">\n",
       "  <thead>\n",
       "    <tr style=\"text-align: right;\">\n",
       "      <th></th>\n",
       "      <th>CLNT_ID</th>\n",
       "      <th>SESS_ID</th>\n",
       "      <th>HITS_SEQ</th>\n",
       "      <th>PD_C</th>\n",
       "      <th>PD_ADD_NM</th>\n",
       "      <th>PD_BRA_NM</th>\n",
       "      <th>PD_BUY_AM</th>\n",
       "      <th>PD_BUY_CT</th>\n",
       "      <th>PD_BUY_TOT</th>\n",
       "      <th>CLNT_GENDER</th>\n",
       "      <th>CLNT_AGE</th>\n",
       "      <th>SESS_SEQ</th>\n",
       "      <th>SESS_DT</th>\n",
       "      <th>TOT_PAG_VIEW_CT</th>\n",
       "      <th>TOT_SESS_HR_V</th>\n",
       "      <th>DVC_CTG_NM</th>\n",
       "      <th>ZON_NM</th>\n",
       "      <th>CITY_NM</th>\n",
       "      <th>MONTH</th>\n",
       "      <th>WKDAY</th>\n",
       "      <th>PD_NM</th>\n",
       "      <th>CLAC1_NM</th>\n",
       "      <th>CLAC2_NM</th>\n",
       "      <th>CLAC3_NM</th>\n",
       "      <th>ACTION</th>\n",
       "      <th>KWD_NM</th>\n",
       "      <th>SEARCH_CNT</th>\n",
       "      <th>SEARCH_CNT_DT</th>\n",
       "      <th>CUSTOM</th>\n",
       "    </tr>\n",
       "  </thead>\n",
       "  <tbody>\n",
       "    <tr>\n",
       "      <th>0</th>\n",
       "      <td>4139680</td>\n",
       "      <td>7605037</td>\n",
       "      <td>12</td>\n",
       "      <td>642112</td>\n",
       "      <td>색상:워터멜론</td>\n",
       "      <td>[바비브라운]</td>\n",
       "      <td>39000</td>\n",
       "      <td>1</td>\n",
       "      <td>39000</td>\n",
       "      <td>0</td>\n",
       "      <td>0</td>\n",
       "      <td>1</td>\n",
       "      <td>2018-05-26</td>\n",
       "      <td>21</td>\n",
       "      <td>902</td>\n",
       "      <td>desktop</td>\n",
       "      <td>Seoul</td>\n",
       "      <td>Seoul</td>\n",
       "      <td>5</td>\n",
       "      <td>5</td>\n",
       "      <td>크러쉬드 립칼라 - 플럼</td>\n",
       "      <td>화장품/뷰티케어</td>\n",
       "      <td>메이크업</td>\n",
       "      <td>블러셔/쉐이딩/하이라이터</td>\n",
       "      <td>product</td>\n",
       "      <td>0</td>\n",
       "      <td>0</td>\n",
       "      <td>0</td>\n",
       "      <td>N</td>\n",
       "    </tr>\n",
       "    <tr>\n",
       "      <th>1</th>\n",
       "      <td>4139680</td>\n",
       "      <td>7605037</td>\n",
       "      <td>28</td>\n",
       "      <td>642112</td>\n",
       "      <td>색상:카바나</td>\n",
       "      <td>[바비브라운]</td>\n",
       "      <td>39000</td>\n",
       "      <td>1</td>\n",
       "      <td>39000</td>\n",
       "      <td>0</td>\n",
       "      <td>0</td>\n",
       "      <td>1</td>\n",
       "      <td>2018-05-26</td>\n",
       "      <td>21</td>\n",
       "      <td>902</td>\n",
       "      <td>desktop</td>\n",
       "      <td>Seoul</td>\n",
       "      <td>Seoul</td>\n",
       "      <td>5</td>\n",
       "      <td>5</td>\n",
       "      <td>크러쉬드 립칼라 - 플럼</td>\n",
       "      <td>화장품/뷰티케어</td>\n",
       "      <td>메이크업</td>\n",
       "      <td>블러셔/쉐이딩/하이라이터</td>\n",
       "      <td>product</td>\n",
       "      <td>0</td>\n",
       "      <td>0</td>\n",
       "      <td>0</td>\n",
       "      <td>N</td>\n",
       "    </tr>\n",
       "    <tr>\n",
       "      <th>2</th>\n",
       "      <td>4139680</td>\n",
       "      <td>7605037</td>\n",
       "      <td>12</td>\n",
       "      <td>642112</td>\n",
       "      <td>색상:카바나</td>\n",
       "      <td>[바비브라운]</td>\n",
       "      <td>39000</td>\n",
       "      <td>1</td>\n",
       "      <td>39000</td>\n",
       "      <td>0</td>\n",
       "      <td>0</td>\n",
       "      <td>1</td>\n",
       "      <td>2018-05-26</td>\n",
       "      <td>21</td>\n",
       "      <td>902</td>\n",
       "      <td>desktop</td>\n",
       "      <td>Seoul</td>\n",
       "      <td>Seoul</td>\n",
       "      <td>5</td>\n",
       "      <td>5</td>\n",
       "      <td>크러쉬드 립칼라 - 플럼</td>\n",
       "      <td>화장품/뷰티케어</td>\n",
       "      <td>메이크업</td>\n",
       "      <td>블러셔/쉐이딩/하이라이터</td>\n",
       "      <td>product</td>\n",
       "      <td>0</td>\n",
       "      <td>0</td>\n",
       "      <td>0</td>\n",
       "      <td>N</td>\n",
       "    </tr>\n",
       "    <tr>\n",
       "      <th>3</th>\n",
       "      <td>4139680</td>\n",
       "      <td>7605037</td>\n",
       "      <td>28</td>\n",
       "      <td>642112</td>\n",
       "      <td>색상:워터멜론</td>\n",
       "      <td>[바비브라운]</td>\n",
       "      <td>39000</td>\n",
       "      <td>1</td>\n",
       "      <td>39000</td>\n",
       "      <td>0</td>\n",
       "      <td>0</td>\n",
       "      <td>1</td>\n",
       "      <td>2018-05-26</td>\n",
       "      <td>21</td>\n",
       "      <td>902</td>\n",
       "      <td>desktop</td>\n",
       "      <td>Seoul</td>\n",
       "      <td>Seoul</td>\n",
       "      <td>5</td>\n",
       "      <td>5</td>\n",
       "      <td>크러쉬드 립칼라 - 플럼</td>\n",
       "      <td>화장품/뷰티케어</td>\n",
       "      <td>메이크업</td>\n",
       "      <td>블러셔/쉐이딩/하이라이터</td>\n",
       "      <td>product</td>\n",
       "      <td>0</td>\n",
       "      <td>0</td>\n",
       "      <td>0</td>\n",
       "      <td>N</td>\n",
       "    </tr>\n",
       "    <tr>\n",
       "      <th>4</th>\n",
       "      <td>4350334</td>\n",
       "      <td>2023661</td>\n",
       "      <td>77</td>\n",
       "      <td>642112</td>\n",
       "      <td>색상:엔젤 / 1개</td>\n",
       "      <td>바비브라운</td>\n",
       "      <td>39000</td>\n",
       "      <td>1</td>\n",
       "      <td>39000</td>\n",
       "      <td>F</td>\n",
       "      <td>30</td>\n",
       "      <td>528</td>\n",
       "      <td>2018-08-27</td>\n",
       "      <td>108</td>\n",
       "      <td>738</td>\n",
       "      <td>mobile</td>\n",
       "      <td>Seoul</td>\n",
       "      <td>Seoul</td>\n",
       "      <td>8</td>\n",
       "      <td>0</td>\n",
       "      <td>크러쉬드 립칼라 - 플럼</td>\n",
       "      <td>화장품/뷰티케어</td>\n",
       "      <td>메이크업</td>\n",
       "      <td>블러셔/쉐이딩/하이라이터</td>\n",
       "      <td>product</td>\n",
       "      <td>0</td>\n",
       "      <td>0</td>\n",
       "      <td>0</td>\n",
       "      <td>Y</td>\n",
       "    </tr>\n",
       "  </tbody>\n",
       "</table>\n",
       "</div>"
      ],
      "text/plain": [
       "   CLNT_ID  SESS_ID  HITS_SEQ    PD_C   PD_ADD_NM PD_BRA_NM  PD_BUY_AM  \\\n",
       "0  4139680  7605037        12  642112     색상:워터멜론   [바비브라운]      39000   \n",
       "1  4139680  7605037        28  642112      색상:카바나   [바비브라운]      39000   \n",
       "2  4139680  7605037        12  642112      색상:카바나   [바비브라운]      39000   \n",
       "3  4139680  7605037        28  642112     색상:워터멜론   [바비브라운]      39000   \n",
       "4  4350334  2023661        77  642112  색상:엔젤 / 1개     바비브라운      39000   \n",
       "\n",
       "   PD_BUY_CT  PD_BUY_TOT CLNT_GENDER  CLNT_AGE  SESS_SEQ    SESS_DT  \\\n",
       "0          1       39000           0         0         1 2018-05-26   \n",
       "1          1       39000           0         0         1 2018-05-26   \n",
       "2          1       39000           0         0         1 2018-05-26   \n",
       "3          1       39000           0         0         1 2018-05-26   \n",
       "4          1       39000           F        30       528 2018-08-27   \n",
       "\n",
       "   TOT_PAG_VIEW_CT  TOT_SESS_HR_V DVC_CTG_NM ZON_NM CITY_NM  MONTH  WKDAY  \\\n",
       "0               21            902    desktop  Seoul   Seoul      5      5   \n",
       "1               21            902    desktop  Seoul   Seoul      5      5   \n",
       "2               21            902    desktop  Seoul   Seoul      5      5   \n",
       "3               21            902    desktop  Seoul   Seoul      5      5   \n",
       "4              108            738     mobile  Seoul   Seoul      8      0   \n",
       "\n",
       "           PD_NM  CLAC1_NM CLAC2_NM       CLAC3_NM   ACTION KWD_NM  \\\n",
       "0  크러쉬드 립칼라 - 플럼  화장품/뷰티케어     메이크업  블러셔/쉐이딩/하이라이터  product      0   \n",
       "1  크러쉬드 립칼라 - 플럼  화장품/뷰티케어     메이크업  블러셔/쉐이딩/하이라이터  product      0   \n",
       "2  크러쉬드 립칼라 - 플럼  화장품/뷰티케어     메이크업  블러셔/쉐이딩/하이라이터  product      0   \n",
       "3  크러쉬드 립칼라 - 플럼  화장품/뷰티케어     메이크업  블러셔/쉐이딩/하이라이터  product      0   \n",
       "4  크러쉬드 립칼라 - 플럼  화장품/뷰티케어     메이크업  블러셔/쉐이딩/하이라이터  product      0   \n",
       "\n",
       "   SEARCH_CNT  SEARCH_CNT_DT CUSTOM  \n",
       "0           0              0      N  \n",
       "1           0              0      N  \n",
       "2           0              0      N  \n",
       "3           0              0      N  \n",
       "4           0              0      Y  "
      ]
     },
     "execution_count": 55,
     "metadata": {},
     "output_type": "execute_result"
    }
   ],
   "source": [
    "df_interaction_full.head()"
   ]
  },
  {
   "cell_type": "markdown",
   "metadata": {},
   "source": [
    "### 1) Product"
   ]
  },
  {
   "cell_type": "code",
   "execution_count": 56,
   "metadata": {},
   "outputs": [],
   "source": [
    "#빠른 계산을 위해 데이터를 나눔\n",
    "df_Product = df_interaction_full[df_interaction_full.ACTION == 'product']"
   ]
  },
  {
   "cell_type": "code",
   "execution_count": 57,
   "metadata": {},
   "outputs": [
    {
     "name": "stdout",
     "output_type": "stream",
     "text": [
      "상호작용 수 : 5024906 회\n",
      "클라이언트 수 : 922737 명\n",
      "세션 수 : 2425886 개\n",
      "클라이언트 별 평균 고유 세션 수 : 2.94 개\n",
      "클라이언트 별 평균 세션 수 : 5.45 개\n",
      "상품 브랜드 수 : 22716 개\n",
      "상품 코드 수 : 847652 개\n",
      "평균 구매 금액 : 54089.34 원\n",
      "클라이언트별 평균 구매상품 건수 : 5.45 건\n"
     ]
    }
   ],
   "source": [
    "\n",
    "#총 상호작용 수\n",
    "n_interactions = len(df_Product)\n",
    "\n",
    "#클라이언트 수\n",
    "n_CLNT_ID = len(set(df_Product.CLNT_ID))\n",
    "\n",
    "#세선 수\n",
    "n_SESS_ID = len(set(df_Product.SESS_ID))\n",
    "\n",
    "# 클라이언트 별 평균 고유 세션 수\n",
    "n_unique_SESS_per_CLNT = \\\n",
    "df_Product.SESS_ID.groupby(df_Product.CLNT_ID).nunique().mean()\n",
    "\n",
    "# 클라이언트 별 평균 세션 수 \n",
    "SESS_per_CLNT = \\\n",
    "df_Product.SESS_ID.groupby(df_Product.CLNT_ID).count().mean()\n",
    "\n",
    "# 상품 브랜드 수\n",
    "n_PD_BRA_NM = len(set(df_Product.PD_BRA_NM))\n",
    "\n",
    "# 상품 코드 수\n",
    "n_PD_C = len(set(df_Product.PD_C))\n",
    "\n",
    "#평균 구매 금액\n",
    "n_BUY = np.mean(df_Product.PD_BUY_TOT)\n",
    "\n",
    "# 클라이언트 별 평균 구매 상품 건수\n",
    "n_PD_C_per_CLNT = df_Product.PD_C.groupby(df_Product.CLNT_ID).count().mean()\n",
    "\n",
    "print(\\\n",
    "'상호작용 수 : %d 회\\n\\\n",
    "클라이언트 수 : %d 명\\n\\\n",
    "세션 수 : %d 개\\n\\\n",
    "클라이언트 별 평균 고유 세션 수 : %.2f 개\\n\\\n",
    "클라이언트 별 평균 세션 수 : %.2f 개\\n\\\n",
    "상품 브랜드 수 : %d 개\\n\\\n",
    "상품 코드 수 : %d 개\\n\\\n",
    "평균 구매 금액 : %.2f 원\\n\\\n",
    "클라이언트별 평균 구매상품 건수 : %.2f 건'%(n_interactions,n_CLNT_ID,n_SESS_ID,n_unique_SESS_per_CLNT,\\\n",
    "               SESS_per_CLNT,n_PD_BRA_NM,n_PD_C,n_BUY,n_PD_C_per_CLNT))\n",
    "      \n",
    "\n",
    "\n"
   ]
  },
  {
   "cell_type": "code",
   "execution_count": 58,
   "metadata": {},
   "outputs": [
    {
     "name": "stdout",
     "output_type": "stream",
     "text": [
      "주일별 구매량\n"
     ]
    },
    {
     "data": {
      "text/plain": [
       "0    0.171471\n",
       "1    0.151537\n",
       "2    0.149547\n",
       "6    0.148800\n",
       "3    0.139609\n",
       "4    0.123528\n",
       "5    0.115508\n",
       "Name: WKDAY, dtype: float64"
      ]
     },
     "execution_count": 58,
     "metadata": {},
     "output_type": "execute_result"
    }
   ],
   "source": [
    "#주일별 구매량\n",
    "print('주일별 구매량')\n",
    "df_interaction_full.WKDAY[df_interaction_full.ACTION == 'product'].value_counts()/len(df_interaction_full.WKDAY[df_interaction_full.ACTION == 'product'])"
   ]
  },
  {
   "cell_type": "code",
   "execution_count": 59,
   "metadata": {},
   "outputs": [
    {
     "data": {
      "text/plain": [
       "count     5024906.00\n",
       "mean        54089.34\n",
       "std        127671.25\n",
       "min            10.00\n",
       "25%         14000.00\n",
       "50%         29000.00\n",
       "75%         53000.00\n",
       "max      39000000.00\n",
       "Name: PD_BUY_TOT, dtype: float64"
      ]
     },
     "execution_count": 59,
     "metadata": {},
     "output_type": "execute_result"
    }
   ],
   "source": [
    "#구매 금액\n",
    "\n",
    "BUY = round(df_Product.PD_BUY_TOT)\n",
    "BUY.describe().round(2)\n"
   ]
  },
  {
   "cell_type": "code",
   "execution_count": 60,
   "metadata": {},
   "outputs": [
    {
     "name": "stdout",
     "output_type": "stream",
     "text": [
      "1천만원 이상 사용자\n"
     ]
    },
    {
     "data": {
      "text/html": [
       "<div>\n",
       "<style scoped>\n",
       "    .dataframe tbody tr th:only-of-type {\n",
       "        vertical-align: middle;\n",
       "    }\n",
       "\n",
       "    .dataframe tbody tr th {\n",
       "        vertical-align: top;\n",
       "    }\n",
       "\n",
       "    .dataframe thead th {\n",
       "        text-align: right;\n",
       "    }\n",
       "</style>\n",
       "<table border=\"1\" class=\"dataframe\">\n",
       "  <thead>\n",
       "    <tr style=\"text-align: right;\">\n",
       "      <th></th>\n",
       "      <th>CLNT_ID</th>\n",
       "      <th>SESS_ID</th>\n",
       "      <th>HITS_SEQ</th>\n",
       "      <th>PD_C</th>\n",
       "      <th>PD_ADD_NM</th>\n",
       "      <th>PD_BRA_NM</th>\n",
       "      <th>PD_BUY_AM</th>\n",
       "      <th>PD_BUY_CT</th>\n",
       "      <th>PD_BUY_TOT</th>\n",
       "      <th>CLNT_GENDER</th>\n",
       "      <th>CLNT_AGE</th>\n",
       "      <th>SESS_SEQ</th>\n",
       "      <th>SESS_DT</th>\n",
       "      <th>TOT_PAG_VIEW_CT</th>\n",
       "      <th>TOT_SESS_HR_V</th>\n",
       "      <th>DVC_CTG_NM</th>\n",
       "      <th>ZON_NM</th>\n",
       "      <th>CITY_NM</th>\n",
       "      <th>MONTH</th>\n",
       "      <th>WKDAY</th>\n",
       "      <th>PD_NM</th>\n",
       "      <th>CLAC1_NM</th>\n",
       "      <th>CLAC2_NM</th>\n",
       "      <th>CLAC3_NM</th>\n",
       "      <th>ACTION</th>\n",
       "      <th>KWD_NM</th>\n",
       "      <th>SEARCH_CNT</th>\n",
       "      <th>SEARCH_CNT_DT</th>\n",
       "      <th>CUSTOM</th>\n",
       "    </tr>\n",
       "  </thead>\n",
       "  <tbody>\n",
       "    <tr>\n",
       "      <th>4878030</th>\n",
       "      <td>1980481</td>\n",
       "      <td>5499653</td>\n",
       "      <td>48</td>\n",
       "      <td>495053</td>\n",
       "      <td>폐가전수거요청:있음 / 3개</td>\n",
       "      <td>LG전자</td>\n",
       "      <td>3642540</td>\n",
       "      <td>3</td>\n",
       "      <td>10927620</td>\n",
       "      <td>F</td>\n",
       "      <td>30</td>\n",
       "      <td>46</td>\n",
       "      <td>2018-06-30</td>\n",
       "      <td>56</td>\n",
       "      <td>1627</td>\n",
       "      <td>mobile</td>\n",
       "      <td>Seoul</td>\n",
       "      <td>Seoul</td>\n",
       "      <td>6</td>\n",
       "      <td>5</td>\n",
       "      <td>☆휘센 듀얼P 프리미엄 2in1 에어컨 FQ17P8DSA2M (매립배관/로맨틱 샤인...</td>\n",
       "      <td>계절가전</td>\n",
       "      <td>냉방가전</td>\n",
       "      <td>멀티형에어컨</td>\n",
       "      <td>product</td>\n",
       "      <td>0</td>\n",
       "      <td>0</td>\n",
       "      <td>0</td>\n",
       "      <td>Y</td>\n",
       "    </tr>\n",
       "    <tr>\n",
       "      <th>2183435</th>\n",
       "      <td>5431377</td>\n",
       "      <td>1150072</td>\n",
       "      <td>8</td>\n",
       "      <td>228634</td>\n",
       "      <td>상품명:랑방 메리미 EDP 30ML</td>\n",
       "      <td>[코익퍼퓸(화장품)]</td>\n",
       "      <td>41500</td>\n",
       "      <td>264</td>\n",
       "      <td>10956000</td>\n",
       "      <td>0</td>\n",
       "      <td>0</td>\n",
       "      <td>4</td>\n",
       "      <td>2018-09-11</td>\n",
       "      <td>12</td>\n",
       "      <td>995</td>\n",
       "      <td>desktop</td>\n",
       "      <td>Gyeonggi-do</td>\n",
       "      <td>Namyangju-si</td>\n",
       "      <td>9</td>\n",
       "      <td>1</td>\n",
       "      <td>[T] 랑방 에끌라 EDP 30ML - 랑방 메리미 EDP 30ML</td>\n",
       "      <td>화장품/뷰티케어</td>\n",
       "      <td>향수</td>\n",
       "      <td>여성향수세트</td>\n",
       "      <td>product</td>\n",
       "      <td>0</td>\n",
       "      <td>0</td>\n",
       "      <td>0</td>\n",
       "      <td>N</td>\n",
       "    </tr>\n",
       "    <tr>\n",
       "      <th>4864779</th>\n",
       "      <td>923121</td>\n",
       "      <td>7486313</td>\n",
       "      <td>36</td>\n",
       "      <td>795705</td>\n",
       "      <td>8개</td>\n",
       "      <td>한샘</td>\n",
       "      <td>1405000</td>\n",
       "      <td>8</td>\n",
       "      <td>11240000</td>\n",
       "      <td>0</td>\n",
       "      <td>0</td>\n",
       "      <td>4</td>\n",
       "      <td>2018-05-28</td>\n",
       "      <td>42</td>\n",
       "      <td>2504</td>\n",
       "      <td>mobile</td>\n",
       "      <td>Seoul</td>\n",
       "      <td>Seoul</td>\n",
       "      <td>5</td>\n",
       "      <td>0</td>\n",
       "      <td>EURO 9000 프리모화이트 (ㅡ자/기본형/~1.7m이하)</td>\n",
       "      <td>가구</td>\n",
       "      <td>주방가구</td>\n",
       "      <td>주방수납장</td>\n",
       "      <td>product</td>\n",
       "      <td>0</td>\n",
       "      <td>0</td>\n",
       "      <td>0</td>\n",
       "      <td>N</td>\n",
       "    </tr>\n",
       "    <tr>\n",
       "      <th>4883267</th>\n",
       "      <td>1103732</td>\n",
       "      <td>2124799</td>\n",
       "      <td>17</td>\n",
       "      <td>492949</td>\n",
       "      <td>모델명:231.13.39.21.02.003 / 2개</td>\n",
       "      <td>오메가</td>\n",
       "      <td>5780000</td>\n",
       "      <td>2</td>\n",
       "      <td>11560000</td>\n",
       "      <td>M</td>\n",
       "      <td>40</td>\n",
       "      <td>14</td>\n",
       "      <td>2018-08-26</td>\n",
       "      <td>19</td>\n",
       "      <td>474</td>\n",
       "      <td>mobile</td>\n",
       "      <td>Seoul</td>\n",
       "      <td>Seoul</td>\n",
       "      <td>8</td>\n",
       "      <td>6</td>\n",
       "      <td>231.13.39.21.02.003 아쿠아 테라 39mm - 231.13.39.21...</td>\n",
       "      <td>패션잡화</td>\n",
       "      <td>시계</td>\n",
       "      <td>남성시계</td>\n",
       "      <td>product</td>\n",
       "      <td>0</td>\n",
       "      <td>0</td>\n",
       "      <td>0</td>\n",
       "      <td>Y</td>\n",
       "    </tr>\n",
       "    <tr>\n",
       "      <th>4886066</th>\n",
       "      <td>5274949</td>\n",
       "      <td>1646077</td>\n",
       "      <td>17</td>\n",
       "      <td>684060</td>\n",
       "      <td>1개</td>\n",
       "      <td>피골드</td>\n",
       "      <td>11700000</td>\n",
       "      <td>1</td>\n",
       "      <td>11700000</td>\n",
       "      <td>F</td>\n",
       "      <td>30</td>\n",
       "      <td>64</td>\n",
       "      <td>2018-09-03</td>\n",
       "      <td>18</td>\n",
       "      <td>148</td>\n",
       "      <td>mobile</td>\n",
       "      <td>Seoul</td>\n",
       "      <td>Seoul</td>\n",
       "      <td>9</td>\n",
       "      <td>0</td>\n",
       "      <td>순금 골드바 187.5g 24k</td>\n",
       "      <td>패션잡화</td>\n",
       "      <td>보석</td>\n",
       "      <td>순금/순은/장식품</td>\n",
       "      <td>product</td>\n",
       "      <td>0</td>\n",
       "      <td>0</td>\n",
       "      <td>0</td>\n",
       "      <td>Y</td>\n",
       "    </tr>\n",
       "    <tr>\n",
       "      <th>4883252</th>\n",
       "      <td>6132785</td>\n",
       "      <td>29106</td>\n",
       "      <td>22</td>\n",
       "      <td>105395</td>\n",
       "      <td>2개</td>\n",
       "      <td>LG전자</td>\n",
       "      <td>6117000</td>\n",
       "      <td>2</td>\n",
       "      <td>12234000</td>\n",
       "      <td>F</td>\n",
       "      <td>30</td>\n",
       "      <td>44</td>\n",
       "      <td>2018-09-30</td>\n",
       "      <td>351</td>\n",
       "      <td>3847</td>\n",
       "      <td>mobile</td>\n",
       "      <td>Jeollanam-do</td>\n",
       "      <td>Mokpo-si</td>\n",
       "      <td>9</td>\n",
       "      <td>6</td>\n",
       "      <td>163cm UHD TV OLED65C8BNA (스탠드형)</td>\n",
       "      <td>영상/음향가전</td>\n",
       "      <td>TV</td>\n",
       "      <td>UHD</td>\n",
       "      <td>product</td>\n",
       "      <td>0</td>\n",
       "      <td>0</td>\n",
       "      <td>0</td>\n",
       "      <td>Y</td>\n",
       "    </tr>\n",
       "    <tr>\n",
       "      <th>4864772</th>\n",
       "      <td>923121</td>\n",
       "      <td>7488355</td>\n",
       "      <td>29</td>\n",
       "      <td>795705</td>\n",
       "      <td>9개</td>\n",
       "      <td>한샘</td>\n",
       "      <td>1405000</td>\n",
       "      <td>9</td>\n",
       "      <td>12645000</td>\n",
       "      <td>0</td>\n",
       "      <td>0</td>\n",
       "      <td>3</td>\n",
       "      <td>2018-05-28</td>\n",
       "      <td>28</td>\n",
       "      <td>171</td>\n",
       "      <td>mobile</td>\n",
       "      <td>Seoul</td>\n",
       "      <td>Seoul</td>\n",
       "      <td>5</td>\n",
       "      <td>0</td>\n",
       "      <td>EURO 9000 프리모화이트 (ㅡ자/기본형/~1.7m이하)</td>\n",
       "      <td>가구</td>\n",
       "      <td>주방가구</td>\n",
       "      <td>주방수납장</td>\n",
       "      <td>product</td>\n",
       "      <td>0</td>\n",
       "      <td>0</td>\n",
       "      <td>0</td>\n",
       "      <td>N</td>\n",
       "    </tr>\n",
       "    <tr>\n",
       "      <th>2719161</th>\n",
       "      <td>807356</td>\n",
       "      <td>4337377</td>\n",
       "      <td>12</td>\n",
       "      <td>630476</td>\n",
       "      <td>(not set)</td>\n",
       "      <td>[포트메리온]</td>\n",
       "      <td>259000</td>\n",
       "      <td>50</td>\n",
       "      <td>12950000</td>\n",
       "      <td>0</td>\n",
       "      <td>0</td>\n",
       "      <td>25</td>\n",
       "      <td>2018-07-19</td>\n",
       "      <td>10</td>\n",
       "      <td>520</td>\n",
       "      <td>desktop</td>\n",
       "      <td>Gyeonggi-do</td>\n",
       "      <td>Anyang</td>\n",
       "      <td>7</td>\n",
       "      <td>3</td>\n",
       "      <td>◆보타닉가든 4인 홈세트 15P_A (사은품 포트메리온 랩쟁반)</td>\n",
       "      <td>식기/조리기구</td>\n",
       "      <td>그릇/식기</td>\n",
       "      <td>반상기세트/홈세트</td>\n",
       "      <td>product</td>\n",
       "      <td>0</td>\n",
       "      <td>0</td>\n",
       "      <td>0</td>\n",
       "      <td>N</td>\n",
       "    </tr>\n",
       "    <tr>\n",
       "      <th>4864775</th>\n",
       "      <td>923121</td>\n",
       "      <td>7411517</td>\n",
       "      <td>14</td>\n",
       "      <td>795705</td>\n",
       "      <td>10개</td>\n",
       "      <td>한샘</td>\n",
       "      <td>1405000</td>\n",
       "      <td>10</td>\n",
       "      <td>14050000</td>\n",
       "      <td>0</td>\n",
       "      <td>0</td>\n",
       "      <td>9</td>\n",
       "      <td>2018-05-29</td>\n",
       "      <td>13</td>\n",
       "      <td>131</td>\n",
       "      <td>mobile</td>\n",
       "      <td>Seoul</td>\n",
       "      <td>Seoul</td>\n",
       "      <td>5</td>\n",
       "      <td>1</td>\n",
       "      <td>EURO 9000 프리모화이트 (ㅡ자/기본형/~1.7m이하)</td>\n",
       "      <td>가구</td>\n",
       "      <td>주방가구</td>\n",
       "      <td>주방수납장</td>\n",
       "      <td>product</td>\n",
       "      <td>0</td>\n",
       "      <td>0</td>\n",
       "      <td>0</td>\n",
       "      <td>N</td>\n",
       "    </tr>\n",
       "    <tr>\n",
       "      <th>4886068</th>\n",
       "      <td>929827</td>\n",
       "      <td>609951</td>\n",
       "      <td>57</td>\n",
       "      <td>64167</td>\n",
       "      <td>1개</td>\n",
       "      <td>프레드릭콘스탄트(시계)</td>\n",
       "      <td>14768000</td>\n",
       "      <td>1</td>\n",
       "      <td>14768000</td>\n",
       "      <td>M</td>\n",
       "      <td>20</td>\n",
       "      <td>11</td>\n",
       "      <td>2018-09-20</td>\n",
       "      <td>51</td>\n",
       "      <td>1974</td>\n",
       "      <td>mobile</td>\n",
       "      <td>Seoul</td>\n",
       "      <td>Seoul</td>\n",
       "      <td>9</td>\n",
       "      <td>3</td>\n",
       "      <td>FC-705V4S9</td>\n",
       "      <td>패션잡화</td>\n",
       "      <td>시계</td>\n",
       "      <td>남성시계</td>\n",
       "      <td>product</td>\n",
       "      <td>0</td>\n",
       "      <td>0</td>\n",
       "      <td>0</td>\n",
       "      <td>Y</td>\n",
       "    </tr>\n",
       "    <tr>\n",
       "      <th>4886067</th>\n",
       "      <td>929827</td>\n",
       "      <td>609951</td>\n",
       "      <td>57</td>\n",
       "      <td>51344</td>\n",
       "      <td>1개</td>\n",
       "      <td>프레드릭콘스탄트(시계)</td>\n",
       "      <td>17779000</td>\n",
       "      <td>1</td>\n",
       "      <td>17779000</td>\n",
       "      <td>M</td>\n",
       "      <td>20</td>\n",
       "      <td>11</td>\n",
       "      <td>2018-09-20</td>\n",
       "      <td>51</td>\n",
       "      <td>1974</td>\n",
       "      <td>mobile</td>\n",
       "      <td>Seoul</td>\n",
       "      <td>Seoul</td>\n",
       "      <td>9</td>\n",
       "      <td>3</td>\n",
       "      <td>FC-945MC4H9</td>\n",
       "      <td>패션잡화</td>\n",
       "      <td>시계</td>\n",
       "      <td>남성시계</td>\n",
       "      <td>product</td>\n",
       "      <td>0</td>\n",
       "      <td>0</td>\n",
       "      <td>0</td>\n",
       "      <td>Y</td>\n",
       "    </tr>\n",
       "    <tr>\n",
       "      <th>4372216</th>\n",
       "      <td>2888052</td>\n",
       "      <td>3745284</td>\n",
       "      <td>73</td>\n",
       "      <td>709299</td>\n",
       "      <td>순서_품번_컬러:03_F1XKZ0503_SVR|사이즈:250 / 280개</td>\n",
       "      <td>휠라 슈즈</td>\n",
       "      <td>69000</td>\n",
       "      <td>280</td>\n",
       "      <td>19320000</td>\n",
       "      <td>0</td>\n",
       "      <td>0</td>\n",
       "      <td>423</td>\n",
       "      <td>2018-07-29</td>\n",
       "      <td>76</td>\n",
       "      <td>1700</td>\n",
       "      <td>mobile</td>\n",
       "      <td>Gyeonggi-do</td>\n",
       "      <td>Pocheon-si</td>\n",
       "      <td>7</td>\n",
       "      <td>6</td>\n",
       "      <td>(공용) 코트디럭스 샤이니 4종 - 01_F1XKZ0501_BPI / 230</td>\n",
       "      <td>스포츠패션</td>\n",
       "      <td>여성스포츠화</td>\n",
       "      <td>여성런닝/트레이닝화</td>\n",
       "      <td>product</td>\n",
       "      <td>0</td>\n",
       "      <td>0</td>\n",
       "      <td>0</td>\n",
       "      <td>N</td>\n",
       "    </tr>\n",
       "    <tr>\n",
       "      <th>4372214</th>\n",
       "      <td>2888052</td>\n",
       "      <td>3726340</td>\n",
       "      <td>28</td>\n",
       "      <td>709299</td>\n",
       "      <td>순서_품번_컬러:02_F1XKZ0502_BPI|사이즈:245 / 280개</td>\n",
       "      <td>휠라 슈즈</td>\n",
       "      <td>69000</td>\n",
       "      <td>280</td>\n",
       "      <td>19320000</td>\n",
       "      <td>0</td>\n",
       "      <td>0</td>\n",
       "      <td>424</td>\n",
       "      <td>2018-07-29</td>\n",
       "      <td>42</td>\n",
       "      <td>1277</td>\n",
       "      <td>mobile</td>\n",
       "      <td>Seoul</td>\n",
       "      <td>Seoul</td>\n",
       "      <td>7</td>\n",
       "      <td>6</td>\n",
       "      <td>(공용) 코트디럭스 샤이니 4종 - 01_F1XKZ0501_BPI / 230</td>\n",
       "      <td>스포츠패션</td>\n",
       "      <td>여성스포츠화</td>\n",
       "      <td>여성런닝/트레이닝화</td>\n",
       "      <td>product</td>\n",
       "      <td>0</td>\n",
       "      <td>0</td>\n",
       "      <td>0</td>\n",
       "      <td>N</td>\n",
       "    </tr>\n",
       "    <tr>\n",
       "      <th>1789094</th>\n",
       "      <td>820884</td>\n",
       "      <td>1963767</td>\n",
       "      <td>48</td>\n",
       "      <td>657768</td>\n",
       "      <td>모델명:홍삼정플러스240 / 100개</td>\n",
       "      <td>정관장</td>\n",
       "      <td>198000</td>\n",
       "      <td>100</td>\n",
       "      <td>19800000</td>\n",
       "      <td>0</td>\n",
       "      <td>0</td>\n",
       "      <td>431</td>\n",
       "      <td>2018-08-28</td>\n",
       "      <td>60</td>\n",
       "      <td>528</td>\n",
       "      <td>mobile</td>\n",
       "      <td>Seoul</td>\n",
       "      <td>Seoul</td>\n",
       "      <td>8</td>\n",
       "      <td>1</td>\n",
       "      <td>홍삼정 240g/쇼핑백증정+메세지카드서비스 - 홍삼정플러스240</td>\n",
       "      <td>건강식품</td>\n",
       "      <td>홍삼/인삼가공식품</td>\n",
       "      <td>홍삼액</td>\n",
       "      <td>product</td>\n",
       "      <td>0</td>\n",
       "      <td>0</td>\n",
       "      <td>0</td>\n",
       "      <td>N</td>\n",
       "    </tr>\n",
       "    <tr>\n",
       "      <th>3589805</th>\n",
       "      <td>820884</td>\n",
       "      <td>5051994</td>\n",
       "      <td>74</td>\n",
       "      <td>718518</td>\n",
       "      <td>290개</td>\n",
       "      <td>정관장</td>\n",
       "      <td>80000</td>\n",
       "      <td>290</td>\n",
       "      <td>23200000</td>\n",
       "      <td>0</td>\n",
       "      <td>0</td>\n",
       "      <td>396</td>\n",
       "      <td>2018-07-07</td>\n",
       "      <td>76</td>\n",
       "      <td>730</td>\n",
       "      <td>mobile</td>\n",
       "      <td>Seoul</td>\n",
       "      <td>Seoul</td>\n",
       "      <td>7</td>\n",
       "      <td>5</td>\n",
       "      <td>홍이장군1단계 (15mlx30포/36개월-4세)</td>\n",
       "      <td>건강식품</td>\n",
       "      <td>홍삼/인삼가공식품</td>\n",
       "      <td>인삼가공식품</td>\n",
       "      <td>product</td>\n",
       "      <td>0</td>\n",
       "      <td>0</td>\n",
       "      <td>0</td>\n",
       "      <td>N</td>\n",
       "    </tr>\n",
       "    <tr>\n",
       "      <th>2719197</th>\n",
       "      <td>807356</td>\n",
       "      <td>4948427</td>\n",
       "      <td>5</td>\n",
       "      <td>630476</td>\n",
       "      <td>(not set)</td>\n",
       "      <td>[포트메리온]</td>\n",
       "      <td>259000</td>\n",
       "      <td>100</td>\n",
       "      <td>25900000</td>\n",
       "      <td>0</td>\n",
       "      <td>0</td>\n",
       "      <td>17</td>\n",
       "      <td>2018-07-09</td>\n",
       "      <td>7</td>\n",
       "      <td>2244</td>\n",
       "      <td>desktop</td>\n",
       "      <td>Gyeonggi-do</td>\n",
       "      <td>Anyang</td>\n",
       "      <td>7</td>\n",
       "      <td>0</td>\n",
       "      <td>◆보타닉가든 4인 홈세트 15P_A (사은품 포트메리온 랩쟁반)</td>\n",
       "      <td>식기/조리기구</td>\n",
       "      <td>그릇/식기</td>\n",
       "      <td>반상기세트/홈세트</td>\n",
       "      <td>product</td>\n",
       "      <td>0</td>\n",
       "      <td>0</td>\n",
       "      <td>0</td>\n",
       "      <td>N</td>\n",
       "    </tr>\n",
       "    <tr>\n",
       "      <th>2719216</th>\n",
       "      <td>807356</td>\n",
       "      <td>6099635</td>\n",
       "      <td>26</td>\n",
       "      <td>630476</td>\n",
       "      <td>(not set)</td>\n",
       "      <td>[포트메리온]</td>\n",
       "      <td>259000</td>\n",
       "      <td>120</td>\n",
       "      <td>31080000</td>\n",
       "      <td>0</td>\n",
       "      <td>0</td>\n",
       "      <td>8</td>\n",
       "      <td>2018-06-20</td>\n",
       "      <td>22</td>\n",
       "      <td>355</td>\n",
       "      <td>desktop</td>\n",
       "      <td>Gyeonggi-do</td>\n",
       "      <td>Anyang</td>\n",
       "      <td>6</td>\n",
       "      <td>2</td>\n",
       "      <td>◆보타닉가든 4인 홈세트 15P_A (사은품 포트메리온 랩쟁반)</td>\n",
       "      <td>식기/조리기구</td>\n",
       "      <td>그릇/식기</td>\n",
       "      <td>반상기세트/홈세트</td>\n",
       "      <td>product</td>\n",
       "      <td>0</td>\n",
       "      <td>0</td>\n",
       "      <td>0</td>\n",
       "      <td>N</td>\n",
       "    </tr>\n",
       "    <tr>\n",
       "      <th>665022</th>\n",
       "      <td>820884</td>\n",
       "      <td>5051994</td>\n",
       "      <td>47</td>\n",
       "      <td>1955</td>\n",
       "      <td>390개</td>\n",
       "      <td>정관장</td>\n",
       "      <td>100000</td>\n",
       "      <td>390</td>\n",
       "      <td>39000000</td>\n",
       "      <td>0</td>\n",
       "      <td>0</td>\n",
       "      <td>396</td>\n",
       "      <td>2018-07-07</td>\n",
       "      <td>76</td>\n",
       "      <td>730</td>\n",
       "      <td>mobile</td>\n",
       "      <td>Seoul</td>\n",
       "      <td>Seoul</td>\n",
       "      <td>7</td>\n",
       "      <td>5</td>\n",
       "      <td>홍이장군2단계(20mlx30포/5세-7세)/롯데 본점</td>\n",
       "      <td>음료</td>\n",
       "      <td>기능성음료</td>\n",
       "      <td>한방음료</td>\n",
       "      <td>product</td>\n",
       "      <td>0</td>\n",
       "      <td>0</td>\n",
       "      <td>0</td>\n",
       "      <td>N</td>\n",
       "    </tr>\n",
       "  </tbody>\n",
       "</table>\n",
       "</div>"
      ],
      "text/plain": [
       "         CLNT_ID  SESS_ID  HITS_SEQ    PD_C  \\\n",
       "4878030  1980481  5499653        48  495053   \n",
       "2183435  5431377  1150072         8  228634   \n",
       "4864779   923121  7486313        36  795705   \n",
       "4883267  1103732  2124799        17  492949   \n",
       "4886066  5274949  1646077        17  684060   \n",
       "4883252  6132785    29106        22  105395   \n",
       "4864772   923121  7488355        29  795705   \n",
       "2719161   807356  4337377        12  630476   \n",
       "4864775   923121  7411517        14  795705   \n",
       "4886068   929827   609951        57   64167   \n",
       "4886067   929827   609951        57   51344   \n",
       "4372216  2888052  3745284        73  709299   \n",
       "4372214  2888052  3726340        28  709299   \n",
       "1789094   820884  1963767        48  657768   \n",
       "3589805   820884  5051994        74  718518   \n",
       "2719197   807356  4948427         5  630476   \n",
       "2719216   807356  6099635        26  630476   \n",
       "665022    820884  5051994        47    1955   \n",
       "\n",
       "                                        PD_ADD_NM     PD_BRA_NM  PD_BUY_AM  \\\n",
       "4878030                           폐가전수거요청:있음 / 3개          LG전자    3642540   \n",
       "2183435                       상품명:랑방 메리미 EDP 30ML   [코익퍼퓸(화장품)]      41500   \n",
       "4864779                                        8개            한샘    1405000   \n",
       "4883267              모델명:231.13.39.21.02.003 / 2개           오메가    5780000   \n",
       "4886066                                        1개           피골드   11700000   \n",
       "4883252                                        2개          LG전자    6117000   \n",
       "4864772                                        9개            한샘    1405000   \n",
       "2719161                                 (not set)       [포트메리온]     259000   \n",
       "4864775                                       10개            한샘    1405000   \n",
       "4886068                                        1개  프레드릭콘스탄트(시계)   14768000   \n",
       "4886067                                        1개  프레드릭콘스탄트(시계)   17779000   \n",
       "4372216  순서_품번_컬러:03_F1XKZ0503_SVR|사이즈:250 / 280개         휠라 슈즈      69000   \n",
       "4372214  순서_품번_컬러:02_F1XKZ0502_BPI|사이즈:245 / 280개         휠라 슈즈      69000   \n",
       "1789094                      모델명:홍삼정플러스240 / 100개           정관장     198000   \n",
       "3589805                                      290개           정관장      80000   \n",
       "2719197                                 (not set)       [포트메리온]     259000   \n",
       "2719216                                 (not set)       [포트메리온]     259000   \n",
       "665022                                       390개           정관장     100000   \n",
       "\n",
       "         PD_BUY_CT  PD_BUY_TOT CLNT_GENDER  CLNT_AGE  SESS_SEQ    SESS_DT  \\\n",
       "4878030          3    10927620           F        30        46 2018-06-30   \n",
       "2183435        264    10956000           0         0         4 2018-09-11   \n",
       "4864779          8    11240000           0         0         4 2018-05-28   \n",
       "4883267          2    11560000           M        40        14 2018-08-26   \n",
       "4886066          1    11700000           F        30        64 2018-09-03   \n",
       "4883252          2    12234000           F        30        44 2018-09-30   \n",
       "4864772          9    12645000           0         0         3 2018-05-28   \n",
       "2719161         50    12950000           0         0        25 2018-07-19   \n",
       "4864775         10    14050000           0         0         9 2018-05-29   \n",
       "4886068          1    14768000           M        20        11 2018-09-20   \n",
       "4886067          1    17779000           M        20        11 2018-09-20   \n",
       "4372216        280    19320000           0         0       423 2018-07-29   \n",
       "4372214        280    19320000           0         0       424 2018-07-29   \n",
       "1789094        100    19800000           0         0       431 2018-08-28   \n",
       "3589805        290    23200000           0         0       396 2018-07-07   \n",
       "2719197        100    25900000           0         0        17 2018-07-09   \n",
       "2719216        120    31080000           0         0         8 2018-06-20   \n",
       "665022         390    39000000           0         0       396 2018-07-07   \n",
       "\n",
       "         TOT_PAG_VIEW_CT  TOT_SESS_HR_V DVC_CTG_NM        ZON_NM  \\\n",
       "4878030               56           1627     mobile         Seoul   \n",
       "2183435               12            995    desktop   Gyeonggi-do   \n",
       "4864779               42           2504     mobile         Seoul   \n",
       "4883267               19            474     mobile         Seoul   \n",
       "4886066               18            148     mobile         Seoul   \n",
       "4883252              351           3847     mobile  Jeollanam-do   \n",
       "4864772               28            171     mobile         Seoul   \n",
       "2719161               10            520    desktop   Gyeonggi-do   \n",
       "4864775               13            131     mobile         Seoul   \n",
       "4886068               51           1974     mobile         Seoul   \n",
       "4886067               51           1974     mobile         Seoul   \n",
       "4372216               76           1700     mobile   Gyeonggi-do   \n",
       "4372214               42           1277     mobile         Seoul   \n",
       "1789094               60            528     mobile         Seoul   \n",
       "3589805               76            730     mobile         Seoul   \n",
       "2719197                7           2244    desktop   Gyeonggi-do   \n",
       "2719216               22            355    desktop   Gyeonggi-do   \n",
       "665022                76            730     mobile         Seoul   \n",
       "\n",
       "              CITY_NM  MONTH  WKDAY  \\\n",
       "4878030         Seoul      6      5   \n",
       "2183435  Namyangju-si      9      1   \n",
       "4864779         Seoul      5      0   \n",
       "4883267         Seoul      8      6   \n",
       "4886066         Seoul      9      0   \n",
       "4883252      Mokpo-si      9      6   \n",
       "4864772         Seoul      5      0   \n",
       "2719161        Anyang      7      3   \n",
       "4864775         Seoul      5      1   \n",
       "4886068         Seoul      9      3   \n",
       "4886067         Seoul      9      3   \n",
       "4372216    Pocheon-si      7      6   \n",
       "4372214         Seoul      7      6   \n",
       "1789094         Seoul      8      1   \n",
       "3589805         Seoul      7      5   \n",
       "2719197        Anyang      7      0   \n",
       "2719216        Anyang      6      2   \n",
       "665022          Seoul      7      5   \n",
       "\n",
       "                                                     PD_NM  CLAC1_NM  \\\n",
       "4878030  ☆휘센 듀얼P 프리미엄 2in1 에어컨 FQ17P8DSA2M (매립배관/로맨틱 샤인...      계절가전   \n",
       "2183435              [T] 랑방 에끌라 EDP 30ML - 랑방 메리미 EDP 30ML  화장품/뷰티케어   \n",
       "4864779                  EURO 9000 프리모화이트 (ㅡ자/기본형/~1.7m이하)        가구   \n",
       "4883267  231.13.39.21.02.003 아쿠아 테라 39mm - 231.13.39.21...      패션잡화   \n",
       "4886066                                  순금 골드바 187.5g 24k      패션잡화   \n",
       "4883252                    163cm UHD TV OLED65C8BNA (스탠드형)   영상/음향가전   \n",
       "4864772                  EURO 9000 프리모화이트 (ㅡ자/기본형/~1.7m이하)        가구   \n",
       "2719161                ◆보타닉가든 4인 홈세트 15P_A (사은품 포트메리온 랩쟁반)   식기/조리기구   \n",
       "4864775                  EURO 9000 프리모화이트 (ㅡ자/기본형/~1.7m이하)        가구   \n",
       "4886068                                         FC-705V4S9      패션잡화   \n",
       "4886067                                        FC-945MC4H9      패션잡화   \n",
       "4372216         (공용) 코트디럭스 샤이니 4종 - 01_F1XKZ0501_BPI / 230     스포츠패션   \n",
       "4372214         (공용) 코트디럭스 샤이니 4종 - 01_F1XKZ0501_BPI / 230     스포츠패션   \n",
       "1789094                홍삼정 240g/쇼핑백증정+메세지카드서비스 - 홍삼정플러스240      건강식품   \n",
       "3589805                         홍이장군1단계 (15mlx30포/36개월-4세)      건강식품   \n",
       "2719197                ◆보타닉가든 4인 홈세트 15P_A (사은품 포트메리온 랩쟁반)   식기/조리기구   \n",
       "2719216                ◆보타닉가든 4인 홈세트 15P_A (사은품 포트메리온 랩쟁반)   식기/조리기구   \n",
       "665022                       홍이장군2단계(20mlx30포/5세-7세)/롯데 본점        음료   \n",
       "\n",
       "          CLAC2_NM    CLAC3_NM   ACTION KWD_NM  SEARCH_CNT  SEARCH_CNT_DT  \\\n",
       "4878030       냉방가전      멀티형에어컨  product      0           0              0   \n",
       "2183435         향수      여성향수세트  product      0           0              0   \n",
       "4864779       주방가구       주방수납장  product      0           0              0   \n",
       "4883267         시계        남성시계  product      0           0              0   \n",
       "4886066         보석   순금/순은/장식품  product      0           0              0   \n",
       "4883252         TV         UHD  product      0           0              0   \n",
       "4864772       주방가구       주방수납장  product      0           0              0   \n",
       "2719161      그릇/식기   반상기세트/홈세트  product      0           0              0   \n",
       "4864775       주방가구       주방수납장  product      0           0              0   \n",
       "4886068         시계        남성시계  product      0           0              0   \n",
       "4886067         시계        남성시계  product      0           0              0   \n",
       "4372216     여성스포츠화  여성런닝/트레이닝화  product      0           0              0   \n",
       "4372214     여성스포츠화  여성런닝/트레이닝화  product      0           0              0   \n",
       "1789094  홍삼/인삼가공식품         홍삼액  product      0           0              0   \n",
       "3589805  홍삼/인삼가공식품      인삼가공식품  product      0           0              0   \n",
       "2719197      그릇/식기   반상기세트/홈세트  product      0           0              0   \n",
       "2719216      그릇/식기   반상기세트/홈세트  product      0           0              0   \n",
       "665022       기능성음료        한방음료  product      0           0              0   \n",
       "\n",
       "        CUSTOM  \n",
       "4878030      Y  \n",
       "2183435      N  \n",
       "4864779      N  \n",
       "4883267      Y  \n",
       "4886066      Y  \n",
       "4883252      Y  \n",
       "4864772      N  \n",
       "2719161      N  \n",
       "4864775      N  \n",
       "4886068      Y  \n",
       "4886067      Y  \n",
       "4372216      N  \n",
       "4372214      N  \n",
       "1789094      N  \n",
       "3589805      N  \n",
       "2719197      N  \n",
       "2719216      N  \n",
       "665022       N  "
      ]
     },
     "execution_count": 60,
     "metadata": {},
     "output_type": "execute_result"
    }
   ],
   "source": [
    "#1천만원 이상 사용자\n",
    "print('1천만원 이상 사용자')\n",
    "df_Product[df_Product.PD_BUY_TOT > 10000000].sort_values(by = 'PD_BUY_TOT')"
   ]
  },
  {
   "cell_type": "code",
   "execution_count": 61,
   "metadata": {},
   "outputs": [],
   "source": [
    "#이상치 제거\n",
    "def IQR_filter(data):\n",
    "    # Computing IQR\n",
    "    Q1 = data.quantile(0.25)\n",
    "    Q3 = data.quantile(0.75)\n",
    "    IQR = Q3 - Q1\n",
    "    # Filtering Values between Q1-1.5IQR and Q3+1.5IQR\n",
    "    data_filtered = data[(data>Q1-1.5*IQR)&(data<Q3+1.5*IQR)]\n",
    "    return data_filtered"
   ]
  },
  {
   "cell_type": "code",
   "execution_count": 62,
   "metadata": {},
   "outputs": [
    {
     "data": {
      "text/plain": [
       "count    4572297.00\n",
       "mean       31897.05\n",
       "std        24385.17\n",
       "min           10.00\n",
       "25%        12900.00\n",
       "50%        25900.00\n",
       "75%        43040.00\n",
       "max       111480.00\n",
       "Name: PD_BUY_TOT, dtype: float64"
      ]
     },
     "execution_count": 62,
     "metadata": {},
     "output_type": "execute_result"
    }
   ],
   "source": [
    "BUY_filtered = IQR_filter(BUY)\n",
    "BUY_filtered.describe().round(2)"
   ]
  },
  {
   "cell_type": "code",
   "execution_count": 63,
   "metadata": {},
   "outputs": [
    {
     "name": "stderr",
     "output_type": "stream",
     "text": [
      "C:\\Users\\taeny\\AppData\\Local\\Continuum\\anaconda3\\lib\\site-packages\\scipy\\stats\\stats.py:1713: FutureWarning: Using a non-tuple sequence for multidimensional indexing is deprecated; use `arr[tuple(seq)]` instead of `arr[seq]`. In the future this will be interpreted as an array index, `arr[np.array(seq)]`, which will result either in an error or a different result.\n",
      "  return np.add.reduce(sorted[indexer] * weights, axis=axis) / sumval\n"
     ]
    },
    {
     "data": {
      "text/plain": [
       "<matplotlib.axes._subplots.AxesSubplot at 0x2768c87b400>"
      ]
     },
     "execution_count": 63,
     "metadata": {},
     "output_type": "execute_result"
    },
    {
     "data": {
      "image/png": "[encoded data removed]",
      "text/plain": [
       "<matplotlib.figure.Figure at 0x276900d89b0>"
      ]
     },
     "metadata": {},
     "output_type": "display_data"
    }
   ],
   "source": [
    "sns.distplot(BUY_filtered)"
   ]
  },
  {
   "cell_type": "markdown",
   "metadata": {},
   "source": [
    "클라이언트가 한번 접속 시 마다 평균 2-3개의 세션을 약 2번 씩 옮겨다닌다.\n",
    "\n",
    "\n",
    "클라이언트는 평균적으로 5-6개의 물품을 구매한다.\n",
    "\n",
    "\n",
    "클라이언트가 한번 구매하는 물품의 가격은 평균 54000원 정도 이다. 그러나 75% 수준이 53000원이고, 가장 많은 금액을 쓴 사람은 한번에 3900만원을 사용하였다. IQR1.5 선에서 데이터를 필터링하고 히스토그램을 살펴보았는데, 그래프가 positively skewed 되어 있었다. Feature engineering 시 log transfomration을 사용 해야 할 것으로 보인다"
   ]
  },
  {
   "cell_type": "code",
   "execution_count": 64,
   "metadata": {},
   "outputs": [],
   "source": [
    "# 메모리 용량을 위해 쓰지 않는 변수 제거\n",
    "del df_Product"
   ]
  },
  {
   "cell_type": "markdown",
   "metadata": {},
   "source": [
    "### 2) Search1"
   ]
  },
  {
   "cell_type": "code",
   "execution_count": 65,
   "metadata": {},
   "outputs": [],
   "source": [
    "#빠른 계산을 위해 데이터를 나눔\n",
    "df_Search1 = df_interaction_full[df_interaction_full.ACTION == 'search']"
   ]
  },
  {
   "cell_type": "code",
   "execution_count": 66,
   "metadata": {},
   "outputs": [
    {
     "data": {
      "text/html": [
       "<div>\n",
       "<style scoped>\n",
       "    .dataframe tbody tr th:only-of-type {\n",
       "        vertical-align: middle;\n",
       "    }\n",
       "\n",
       "    .dataframe tbody tr th {\n",
       "        vertical-align: top;\n",
       "    }\n",
       "\n",
       "    .dataframe thead th {\n",
       "        text-align: right;\n",
       "    }\n",
       "</style>\n",
       "<table border=\"1\" class=\"dataframe\">\n",
       "  <thead>\n",
       "    <tr style=\"text-align: right;\">\n",
       "      <th></th>\n",
       "      <th>CLNT_ID</th>\n",
       "      <th>SESS_ID</th>\n",
       "      <th>CLNT_GENDER</th>\n",
       "      <th>CLNT_AGE</th>\n",
       "      <th>KWD_NM</th>\n",
       "    </tr>\n",
       "  </thead>\n",
       "  <tbody>\n",
       "    <tr>\n",
       "      <th>5024906</th>\n",
       "      <td>5607714</td>\n",
       "      <td>7112876</td>\n",
       "      <td>F</td>\n",
       "      <td>40</td>\n",
       "      <td>빌리프 아이크림</td>\n",
       "    </tr>\n",
       "    <tr>\n",
       "      <th>5024907</th>\n",
       "      <td>2085191</td>\n",
       "      <td>7139576</td>\n",
       "      <td>F</td>\n",
       "      <td>30</td>\n",
       "      <td>빌리프 아이크림</td>\n",
       "    </tr>\n",
       "    <tr>\n",
       "      <th>5024908</th>\n",
       "      <td>5607714</td>\n",
       "      <td>7112876</td>\n",
       "      <td>F</td>\n",
       "      <td>40</td>\n",
       "      <td>헤라 베이스</td>\n",
       "    </tr>\n",
       "    <tr>\n",
       "      <th>5024909</th>\n",
       "      <td>5607714</td>\n",
       "      <td>7112876</td>\n",
       "      <td>F</td>\n",
       "      <td>40</td>\n",
       "      <td>헤라</td>\n",
       "    </tr>\n",
       "    <tr>\n",
       "      <th>5024910</th>\n",
       "      <td>3704949</td>\n",
       "      <td>7113722</td>\n",
       "      <td>0</td>\n",
       "      <td>0</td>\n",
       "      <td>헤라</td>\n",
       "    </tr>\n",
       "  </tbody>\n",
       "</table>\n",
       "</div>"
      ],
      "text/plain": [
       "         CLNT_ID  SESS_ID CLNT_GENDER  CLNT_AGE    KWD_NM\n",
       "5024906  5607714  7112876           F        40  빌리프 아이크림\n",
       "5024907  2085191  7139576           F        30  빌리프 아이크림\n",
       "5024908  5607714  7112876           F        40    헤라 베이스\n",
       "5024909  5607714  7112876           F        40        헤라\n",
       "5024910  3704949  7113722           0         0        헤라"
      ]
     },
     "execution_count": 66,
     "metadata": {},
     "output_type": "execute_result"
    }
   ],
   "source": [
    "df_Search1.head()[['CLNT_ID','SESS_ID','CLNT_GENDER','CLNT_AGE','KWD_NM']]"
   ]
  },
  {
   "cell_type": "code",
   "execution_count": 67,
   "metadata": {},
   "outputs": [
    {
     "name": "stdout",
     "output_type": "stream",
     "text": [
      "상호작용 수 : 2884943 회\n",
      "클라이언트 수 : 511477 명\n",
      "세션 수 : 1160589 개\n",
      "검색키워드 수 : 81539.00\n",
      "클라이언트 별 평균 고유 세션 수 : 2.39 개\n",
      "클라이언트 별 평균 세션 수 : 5 개\n",
      "클라이언트 별 검색 키워드수 : 5 개\n",
      "클라이언트 별 평균 검색 키워드 수 : 10.77 개\n",
      "\n"
     ]
    }
   ],
   "source": [
    "#총 상호작용 수\n",
    "n_interactions_S1 = len(df_Search1)\n",
    "\n",
    "#클라이언트 수\n",
    "n_CLNT_ID_S1 = len(set(df_Search1.CLNT_ID))\n",
    "\n",
    "#세선 수\n",
    "n_SESS_ID_S1 = len(set(df_Search1.SESS_ID))\n",
    "\n",
    "# 검색 키워드 수\n",
    "n_KWD_NM_S1 = len(set(df_Search1.KWD_NM))\n",
    "\n",
    "# 클라이언트 별 평균 고유 세션 수\n",
    "n_unique_SESS_per_CLNT_S1 = \\\n",
    "df_Search1.SESS_ID.groupby(df_Search1.CLNT_ID).nunique().mean()\n",
    "\n",
    "# 클라이언트 별 평균 세션 수 \n",
    "SESS_per_CLNT_S1 = \\\n",
    "df_Search1.SESS_ID.groupby(df_Search1.CLNT_ID).count().mean()\n",
    "\n",
    "# 클라이언트 별 검색 키워드수\n",
    "n_KWD_per_CLNT_S1 = \\\n",
    "df_Search1.KWD_NM.groupby(df_Search1.CLNT_ID).nunique().mean()\n",
    "\n",
    "\n",
    "# 클라이언트 별 평균 검색 키워드 수\n",
    "SEARCH_CNT_per_CLNT_MEAN_S1 = df_Search1.SEARCH_CNT.groupby(df_Search1.CLNT_ID).sum().mean()\n",
    "\n",
    "print(\\\n",
    "'상호작용 수 : %d 회\\n\\\n",
    "클라이언트 수 : %d 명\\n\\\n",
    "세션 수 : %d 개\\n\\\n",
    "검색키워드 수 : %.2f\\n\\\n",
    "클라이언트 별 평균 고유 세션 수 : %.2f 개\\n\\\n",
    "클라이언트 별 평균 세션 수 : %d 개\\n\\\n",
    "클라이언트 별 검색 키워드수 : %d 개\\n\\\n",
    "클라이언트 별 평균 검색 키워드 수 : %.2f 개\\n\\\n",
    "'%(n_interactions_S1,n_CLNT_ID_S1,n_SESS_ID_S1,n_KWD_NM_S1,n_unique_SESS_per_CLNT_S1,\\\n",
    "               SESS_per_CLNT_S1,n_KWD_per_CLNT_S1,SEARCH_CNT_per_CLNT_MEAN_S1))\n",
    "      "
   ]
  },
  {
   "cell_type": "code",
   "execution_count": 68,
   "metadata": {},
   "outputs": [
    {
     "name": "stdout",
     "output_type": "stream",
     "text": [
      "주일별 검색량\n"
     ]
    },
    {
     "data": {
      "text/plain": [
       "0    0.172103\n",
       "6    0.161191\n",
       "1    0.148241\n",
       "2    0.145951\n",
       "3    0.132532\n",
       "5    0.121282\n",
       "4    0.118699\n",
       "Name: WKDAY, dtype: float64"
      ]
     },
     "execution_count": 68,
     "metadata": {},
     "output_type": "execute_result"
    }
   ],
   "source": [
    "#주일별 검색량\n",
    "print('주일별 검색량')\n",
    "df_Search1.WKDAY.value_counts()/len(df_Search1.WKDAY)"
   ]
  },
  {
   "cell_type": "code",
   "execution_count": 69,
   "metadata": {},
   "outputs": [
    {
     "data": {
      "text/plain": [
       "count    511477.00\n",
       "mean         10.77\n",
       "std          23.62\n",
       "min           1.00\n",
       "25%           2.00\n",
       "50%           5.00\n",
       "75%          11.00\n",
       "max        4053.00\n",
       "Name: SEARCH_CNT, dtype: float64"
      ]
     },
     "execution_count": 69,
     "metadata": {},
     "output_type": "execute_result"
    }
   ],
   "source": [
    "SEARCH_S1= df_Search1.SEARCH_CNT.groupby(df_Search1.CLNT_ID).sum()\n",
    "SEARCH_S1.describe().round(2)"
   ]
  },
  {
   "cell_type": "code",
   "execution_count": 70,
   "metadata": {},
   "outputs": [
    {
     "data": {
      "text/plain": [
       "count    461627.00\n",
       "mean          6.01\n",
       "std           5.49\n",
       "min           1.00\n",
       "25%           2.00\n",
       "50%           4.00\n",
       "75%           8.00\n",
       "max          24.00\n",
       "Name: SEARCH_CNT, dtype: float64"
      ]
     },
     "execution_count": 70,
     "metadata": {},
     "output_type": "execute_result"
    }
   ],
   "source": [
    "SEARCH_S1_filtered = IQR_filter(SEARCH_S1)\n",
    "SEARCH_S1_filtered.describe().round(2)"
   ]
  },
  {
   "cell_type": "code",
   "execution_count": 71,
   "metadata": {},
   "outputs": [
    {
     "name": "stderr",
     "output_type": "stream",
     "text": [
      "C:\\Users\\taeny\\AppData\\Local\\Continuum\\anaconda3\\lib\\site-packages\\scipy\\stats\\stats.py:1713: FutureWarning: Using a non-tuple sequence for multidimensional indexing is deprecated; use `arr[tuple(seq)]` instead of `arr[seq]`. In the future this will be interpreted as an array index, `arr[np.array(seq)]`, which will result either in an error or a different result.\n",
      "  return np.add.reduce(sorted[indexer] * weights, axis=axis) / sumval\n"
     ]
    },
    {
     "data": {
      "text/plain": [
       "<matplotlib.axes._subplots.AxesSubplot at 0x277336feb00>"
      ]
     },
     "execution_count": 71,
     "metadata": {},
     "output_type": "execute_result"
    },
    {
     "data": {
      "image/png": "[encoded data removed]",
      "text/plain": [
       "<matplotlib.figure.Figure at 0x2768e4f5780>"
      ]
     },
     "metadata": {},
     "output_type": "display_data"
    }
   ],
   "source": [
    "sns.distplot(SEARCH_S1_filtered)"
   ]
  },
  {
   "cell_type": "markdown",
   "metadata": {},
   "source": [
    "### Search2"
   ]
  },
  {
   "cell_type": "code",
   "execution_count": 72,
   "metadata": {},
   "outputs": [],
   "source": [
    "df_Search2 = df_Search1[['SESS_DT','KWD_NM','SEARCH_CNT_DT','WKDAY','MONTH']].drop_duplicates()"
   ]
  },
  {
   "cell_type": "code",
   "execution_count": 73,
   "metadata": {},
   "outputs": [
    {
     "data": {
      "text/html": [
       "<div>\n",
       "<style scoped>\n",
       "    .dataframe tbody tr th:only-of-type {\n",
       "        vertical-align: middle;\n",
       "    }\n",
       "\n",
       "    .dataframe tbody tr th {\n",
       "        vertical-align: top;\n",
       "    }\n",
       "\n",
       "    .dataframe thead th {\n",
       "        text-align: right;\n",
       "    }\n",
       "</style>\n",
       "<table border=\"1\" class=\"dataframe\">\n",
       "  <thead>\n",
       "    <tr style=\"text-align: right;\">\n",
       "      <th></th>\n",
       "      <th>SESS_DT</th>\n",
       "      <th>KWD_NM</th>\n",
       "      <th>SEARCH_CNT_DT</th>\n",
       "      <th>WKDAY</th>\n",
       "      <th>MONTH</th>\n",
       "    </tr>\n",
       "  </thead>\n",
       "  <tbody>\n",
       "    <tr>\n",
       "      <th>5024906</th>\n",
       "      <td>2018-06-03</td>\n",
       "      <td>빌리프 아이크림</td>\n",
       "      <td>17</td>\n",
       "      <td>6</td>\n",
       "      <td>6</td>\n",
       "    </tr>\n",
       "    <tr>\n",
       "      <th>5024908</th>\n",
       "      <td>2018-06-03</td>\n",
       "      <td>헤라 베이스</td>\n",
       "      <td>1</td>\n",
       "      <td>6</td>\n",
       "      <td>6</td>\n",
       "    </tr>\n",
       "    <tr>\n",
       "      <th>5024909</th>\n",
       "      <td>2018-06-03</td>\n",
       "      <td>헤라</td>\n",
       "      <td>236</td>\n",
       "      <td>6</td>\n",
       "      <td>6</td>\n",
       "    </tr>\n",
       "    <tr>\n",
       "      <th>5024934</th>\n",
       "      <td>2018-07-23</td>\n",
       "      <td>프리메라 마스크팩</td>\n",
       "      <td>8</td>\n",
       "      <td>0</td>\n",
       "      <td>7</td>\n",
       "    </tr>\n",
       "    <tr>\n",
       "      <th>5024936</th>\n",
       "      <td>2018-07-23</td>\n",
       "      <td>여성청결제</td>\n",
       "      <td>16</td>\n",
       "      <td>0</td>\n",
       "      <td>7</td>\n",
       "    </tr>\n",
       "  </tbody>\n",
       "</table>\n",
       "</div>"
      ],
      "text/plain": [
       "           SESS_DT     KWD_NM  SEARCH_CNT_DT  WKDAY  MONTH\n",
       "5024906 2018-06-03   빌리프 아이크림             17      6      6\n",
       "5024908 2018-06-03     헤라 베이스              1      6      6\n",
       "5024909 2018-06-03         헤라            236      6      6\n",
       "5024934 2018-07-23  프리메라 마스크팩              8      0      7\n",
       "5024936 2018-07-23      여성청결제             16      0      7"
      ]
     },
     "execution_count": 73,
     "metadata": {},
     "output_type": "execute_result"
    }
   ],
   "source": [
    "df_Search2.head()"
   ]
  },
  {
   "cell_type": "code",
   "execution_count": 74,
   "metadata": {},
   "outputs": [],
   "source": [
    "df_Search_count = df_Search2.groupby([df_Search2.MONTH, df_Search2.KWD_NM])['SEARCH_CNT_DT'].sum()"
   ]
  },
  {
   "cell_type": "code",
   "execution_count": 75,
   "metadata": {},
   "outputs": [
    {
     "name": "stdout",
     "output_type": "stream",
     "text": [
      "\n",
      "4 월\n",
      "KWD_NM\n",
      "원피스         48847\n",
      "블라우스        34161\n",
      "에이치커넥트      32014\n",
      "에고이스트       29560\n",
      "써스데이아일랜드    28107\n",
      "Name: SEARCH_CNT_DT, dtype: int32\n",
      "\n",
      "5 월\n",
      "KWD_NM\n",
      "원피스       59133\n",
      "에이치커넥트    30454\n",
      "블라우스      28029\n",
      "여성샌들      27635\n",
      "에고이스트     26387\n",
      "Name: SEARCH_CNT_DT, dtype: int32\n",
      "\n",
      "6 월\n",
      "KWD_NM\n",
      "원피스       66320\n",
      "여성샌들      48235\n",
      "블라우스      28903\n",
      "빈폴레이디스    25160\n",
      "에고이스트     24722\n",
      "Name: SEARCH_CNT_DT, dtype: int32\n",
      "\n",
      "7 월\n",
      "KWD_NM\n",
      "원피스      74965\n",
      "여성샌들     40858\n",
      "양산       32025\n",
      "래쉬가드     28960\n",
      "에고이스트    26315\n",
      "Name: SEARCH_CNT_DT, dtype: int32\n",
      "\n",
      "8 월\n",
      "KWD_NM\n",
      "원피스       53132\n",
      "에고이스트     26504\n",
      "빈폴레이디스    22155\n",
      "블라우스      21007\n",
      "롱패딩       19933\n",
      "Name: SEARCH_CNT_DT, dtype: int32\n",
      "\n",
      "9 월\n",
      "KWD_NM\n",
      "원피스        43360\n",
      "에고이스트      29426\n",
      "헤지스레이디스    28392\n",
      "롱패딩        25608\n",
      "빈폴레이디스     25597\n",
      "Name: SEARCH_CNT_DT, dtype: int32\n"
     ]
    }
   ],
   "source": [
    "for month in range(4,10):\n",
    "    print('\\n%d 월'%month)\n",
    "    print(df_Search_count[month].sort_values(ascending=False).head(5))\n"
   ]
  },
  {
   "cell_type": "markdown",
   "metadata": {},
   "source": [
    "사람을이 5월달부터 샌들을 찾고, 8-9월부터 롱패딩을 찾는다. 세일 이벤트 떄문일까? 그리고 에고이스트라는 브랜드를 많이 찾는다. 찾아봤는데 뭔지 잘 모르겠다"
   ]
  },
  {
   "cell_type": "code",
   "execution_count": 76,
   "metadata": {},
   "outputs": [],
   "source": [
    "#메모리 확보를 위해 불필요한 변수 제거\n",
    "del df_Search1, df_Search2"
   ]
  },
  {
   "cell_type": "markdown",
   "metadata": {},
   "source": [
    "### Custom"
   ]
  },
  {
   "cell_type": "code",
   "execution_count": 77,
   "metadata": {},
   "outputs": [],
   "source": [
    "df_Custom = df_interaction_full[['CLNT_ID','CLNT_GENDER','CLNT_AGE']].drop_duplicates()"
   ]
  },
  {
   "cell_type": "code",
   "execution_count": 78,
   "metadata": {},
   "outputs": [
    {
     "data": {
      "text/html": [
       "<div>\n",
       "<style scoped>\n",
       "    .dataframe tbody tr th:only-of-type {\n",
       "        vertical-align: middle;\n",
       "    }\n",
       "\n",
       "    .dataframe tbody tr th {\n",
       "        vertical-align: top;\n",
       "    }\n",
       "\n",
       "    .dataframe thead th {\n",
       "        text-align: right;\n",
       "    }\n",
       "</style>\n",
       "<table border=\"1\" class=\"dataframe\">\n",
       "  <thead>\n",
       "    <tr style=\"text-align: right;\">\n",
       "      <th></th>\n",
       "      <th>CLNT_ID</th>\n",
       "      <th>CLNT_GENDER</th>\n",
       "      <th>CLNT_AGE</th>\n",
       "    </tr>\n",
       "  </thead>\n",
       "  <tbody>\n",
       "    <tr>\n",
       "      <th>0</th>\n",
       "      <td>4139680</td>\n",
       "      <td>0</td>\n",
       "      <td>0</td>\n",
       "    </tr>\n",
       "    <tr>\n",
       "      <th>4</th>\n",
       "      <td>4350334</td>\n",
       "      <td>F</td>\n",
       "      <td>30</td>\n",
       "    </tr>\n",
       "    <tr>\n",
       "      <th>5</th>\n",
       "      <td>5131391</td>\n",
       "      <td>F</td>\n",
       "      <td>30</td>\n",
       "    </tr>\n",
       "    <tr>\n",
       "      <th>7</th>\n",
       "      <td>5172356</td>\n",
       "      <td>0</td>\n",
       "      <td>0</td>\n",
       "    </tr>\n",
       "    <tr>\n",
       "      <th>8</th>\n",
       "      <td>5444959</td>\n",
       "      <td>F</td>\n",
       "      <td>30</td>\n",
       "    </tr>\n",
       "  </tbody>\n",
       "</table>\n",
       "</div>"
      ],
      "text/plain": [
       "   CLNT_ID CLNT_GENDER  CLNT_AGE\n",
       "0  4139680           0         0\n",
       "4  4350334           F        30\n",
       "5  5131391           F        30\n",
       "7  5172356           0         0\n",
       "8  5444959           F        30"
      ]
     },
     "execution_count": 78,
     "metadata": {},
     "output_type": "execute_result"
    }
   ],
   "source": [
    "df_Custom.head()"
   ]
  },
  {
   "cell_type": "code",
   "execution_count": 79,
   "metadata": {},
   "outputs": [
    {
     "name": "stdout",
     "output_type": "stream",
     "text": [
      "비회원 비율\n"
     ]
    },
    {
     "data": {
      "text/plain": [
       "0.27207969334707505"
      ]
     },
     "execution_count": 79,
     "metadata": {},
     "output_type": "execute_result"
    }
   ],
   "source": [
    "#비회원 비율\n",
    "print('비회원 비율')\n",
    "len(df_Custom[(df_Custom.CLNT_GENDER == 0)&(df_Custom.CLNT_AGE == 0)])/len(df_Custom)"
   ]
  },
  {
   "cell_type": "code",
   "execution_count": 80,
   "metadata": {},
   "outputs": [],
   "source": [
    "df_Custom_only = df_Custom[(df_Custom.CLNT_GENDER != 0)&(df_Custom.CLNT_AGE != 0)]"
   ]
  },
  {
   "cell_type": "code",
   "execution_count": 81,
   "metadata": {},
   "outputs": [
    {
     "name": "stdout",
     "output_type": "stream",
     "text": [
      "남녀 비율\n"
     ]
    },
    {
     "data": {
      "text/plain": [
       "F    0.849537\n",
       "M    0.150463\n",
       "Name: CLNT_GENDER, dtype: float64"
      ]
     },
     "execution_count": 81,
     "metadata": {},
     "output_type": "execute_result"
    }
   ],
   "source": [
    "#남성/여성 비율\n",
    "print('남녀 비율')\n",
    "df_Custom_only.CLNT_GENDER.value_counts()/len(df_Custom_only.CLNT_GENDER)"
   ]
  },
  {
   "cell_type": "code",
   "execution_count": 82,
   "metadata": {},
   "outputs": [
    {
     "name": "stdout",
     "output_type": "stream",
     "text": [
      "연령 비율\n"
     ]
    },
    {
     "data": {
      "text/plain": [
       "30    0.466890\n",
       "40    0.321905\n",
       "20    0.141879\n",
       "50    0.054526\n",
       "60    0.007825\n",
       "10    0.005668\n",
       "70    0.001260\n",
       "80    0.000048\n",
       "Name: CLNT_AGE, dtype: float64"
      ]
     },
     "execution_count": 82,
     "metadata": {},
     "output_type": "execute_result"
    }
   ],
   "source": [
    "#연령 비율\n",
    "print('연령 비율')\n",
    "df_Custom_only.CLNT_AGE.value_counts()/len(df_Custom_only.CLNT_AGE)"
   ]
  },
  {
   "cell_type": "code",
   "execution_count": 83,
   "metadata": {},
   "outputs": [
    {
     "name": "stdout",
     "output_type": "stream",
     "text": [
      "30-40대 여성 비율 : 67.31%\n"
     ]
    }
   ],
   "source": [
    "f3040 = len(df_Custom_only[(df_Custom_only.CLNT_GENDER == 'F') & ((df_Custom_only.CLNT_AGE == 30)|(df_Custom_only.CLNT_AGE == 40))])/len(df_Custom_only)\n",
    "print('30-40대 여성 비율 : %.2f%%'%(f3040*100))\n"
   ]
  },
  {
   "cell_type": "markdown",
   "metadata": {},
   "source": [
    "L.pay의 주요 고객층은 3-40대의 여성(67.31%)이므로 이들을 위한 타겟팅이 필요하다"
   ]
  },
  {
   "cell_type": "code",
   "execution_count": 84,
   "metadata": {},
   "outputs": [],
   "source": [
    "del df_Custom, df_Custom_only"
   ]
  },
  {
   "cell_type": "markdown",
   "metadata": {},
   "source": [
    "### Session"
   ]
  },
  {
   "cell_type": "code",
   "execution_count": 85,
   "metadata": {},
   "outputs": [],
   "source": [
    "df_Session_new = df_interaction_full[['CLNT_ID','SESS_ID','SESS_SEQ','SESS_DT','TOT_PAG_VIEW_CT','TOT_SESS_HR_V','DVC_CTG_NM','ZON_NM','CITY_NM']].drop_duplicates()"
   ]
  },
  {
   "cell_type": "code",
   "execution_count": 86,
   "metadata": {},
   "outputs": [
    {
     "name": "stdout",
     "output_type": "stream",
     "text": [
      "클라이언트 평균 체류시간 : 24.11 분\n",
      "클라이언트 평균 페이지 조회건수 : 73.49 회\n"
     ]
    }
   ],
   "source": [
    "#클라이언트의 평균 체류시간\n",
    "\n",
    "HR_V_per_CLNT_MEAN = df_Session_new.TOT_SESS_HR_V.groupby(df_Session_new.CLNT_ID).mean().mean()\n",
    "\n",
    "#클라이언트 평균 페이지 조회건수\n",
    "PAG_per_CLNT_MEAN = df_Session_new.TOT_PAG_VIEW_CT.groupby(df_Session_new.CLNT_ID).mean().mean()\n",
    "\n",
    "print(\\\n",
    "'클라이언트 평균 체류시간 : %.2f 분\\n\\\n",
    "클라이언트 평균 페이지 조회건수 : %.2f 회'%(HR_V_per_CLNT_MEAN/60, PAG_per_CLNT_MEAN))"
   ]
  },
  {
   "cell_type": "code",
   "execution_count": 87,
   "metadata": {},
   "outputs": [
    {
     "name": "stdout",
     "output_type": "stream",
     "text": [
      "사용 기기유형\n"
     ]
    },
    {
     "data": {
      "text/plain": [
       "mobile     0.843995\n",
       "desktop    0.151560\n",
       "tablet     0.004444\n",
       "Name: DVC_CTG_NM, dtype: float64"
      ]
     },
     "execution_count": 87,
     "metadata": {},
     "output_type": "execute_result"
    }
   ],
   "source": [
    "#사용 기기유형\n",
    "print('사용 기기유형')\n",
    "df_Session_new.DVC_CTG_NM.value_counts()/len(df_Session_new.DVC_CTG_NM)"
   ]
  },
  {
   "cell_type": "code",
   "execution_count": 88,
   "metadata": {},
   "outputs": [
    {
     "name": "stdout",
     "output_type": "stream",
     "text": [
      "사용지역 대분류\n"
     ]
    },
    {
     "data": {
      "text/plain": [
       "Seoul                0.375923\n",
       "Gyeonggi-do          0.173229\n",
       "Busan                0.109086\n",
       "Gyeongsangnam-do     0.047446\n",
       "Daegu                0.043019\n",
       "Incheon              0.037129\n",
       "Gyeongsangbuk-do     0.033611\n",
       "Jeollabuk-do         0.028913\n",
       "Chungcheongnam-do    0.028778\n",
       "Gwangju              0.026088\n",
       "Daejeon              0.022279\n",
       "Jeollanam-do         0.018172\n",
       "Ulsan                0.017171\n",
       "Chungcheongbuk-do    0.016386\n",
       "Gangwon-do           0.015740\n",
       "Jeju-do              0.007030\n",
       "Name: ZON_NM, dtype: float64"
      ]
     },
     "execution_count": 88,
     "metadata": {},
     "output_type": "execute_result"
    }
   ],
   "source": [
    "# 사용 지역 대분류\n",
    "print('사용지역 대분류')\n",
    "df_Session_new.ZON_NM.value_counts()/len(df_Session_new.ZON_NM)"
   ]
  },
  {
   "cell_type": "code",
   "execution_count": 89,
   "metadata": {},
   "outputs": [
    {
     "name": "stdout",
     "output_type": "stream",
     "text": [
      "사용지역 중분류\n"
     ]
    },
    {
     "data": {
      "text/plain": [
       "Seoul        0.375922\n",
       "Busan        0.109086\n",
       "Daegu        0.043019\n",
       "Incheon      0.037129\n",
       "Gwangju      0.026088\n",
       "Daejeon      0.022279\n",
       "Gimhae-si    0.018105\n",
       "Goyang-si    0.017549\n",
       "Suwon-si     0.017369\n",
       "Ulsan        0.017171\n",
       "Name: CITY_NM, dtype: float64"
      ]
     },
     "execution_count": 89,
     "metadata": {},
     "output_type": "execute_result"
    }
   ],
   "source": [
    "# 사용 지역 대분류\n",
    "print('사용지역 중분류')\n",
    "(df_Session_new.CITY_NM.value_counts()/len(df_Session_new.CITY_NM))[:10]"
   ]
  },
  {
   "cell_type": "code",
   "execution_count": 90,
   "metadata": {},
   "outputs": [
    {
     "data": {
      "text/plain": [
       "count    922737.000000\n",
       "mean          0.401831\n",
       "std           0.357324\n",
       "min           0.000000\n",
       "25%           0.165000\n",
       "50%           0.307222\n",
       "75%           0.522500\n",
       "max           7.810000\n",
       "Name: TOT_SESS_HR_V, dtype: float64"
      ]
     },
     "execution_count": 90,
     "metadata": {},
     "output_type": "execute_result"
    }
   ],
   "source": [
    "HR_V_per_CLNT = df_Session_new.TOT_SESS_HR_V.groupby(df_Session_new.CLNT_ID).mean()/3600\n",
    "HR_V_per_CLNT.describe()"
   ]
  },
  {
   "cell_type": "code",
   "execution_count": 91,
   "metadata": {},
   "outputs": [
    {
     "name": "stdout",
     "output_type": "stream",
     "text": [
      "평균 체류시간\n"
     ]
    },
    {
     "name": "stderr",
     "output_type": "stream",
     "text": [
      "C:\\Users\\taeny\\AppData\\Local\\Continuum\\anaconda3\\lib\\site-packages\\scipy\\stats\\stats.py:1713: FutureWarning: Using a non-tuple sequence for multidimensional indexing is deprecated; use `arr[tuple(seq)]` instead of `arr[seq]`. In the future this will be interpreted as an array index, `arr[np.array(seq)]`, which will result either in an error or a different result.\n",
      "  return np.add.reduce(sorted[indexer] * weights, axis=axis) / sumval\n"
     ]
    },
    {
     "data": {
      "text/plain": [
       "<matplotlib.axes._subplots.AxesSubplot at 0x2768f2b2860>"
      ]
     },
     "execution_count": 91,
     "metadata": {},
     "output_type": "execute_result"
    },
    {
     "data": {
      "image/png": "[encoded data removed]",
      "text/plain": [
       "<matplotlib.figure.Figure at 0x2768f2a0a90>"
      ]
     },
     "metadata": {},
     "output_type": "display_data"
    }
   ],
   "source": [
    "#평균 체류 시간\n",
    "print('평균 체류시간')\n",
    "sns.distplot(HR_V_per_CLNT)"
   ]
  },
  {
   "cell_type": "code",
   "execution_count": 92,
   "metadata": {},
   "outputs": [
    {
     "data": {
      "text/plain": [
       "count    876047.00\n",
       "mean          0.34\n",
       "std           0.23\n",
       "min           0.00\n",
       "25%           0.16\n",
       "50%           0.29\n",
       "75%           0.48\n",
       "max           1.06\n",
       "Name: TOT_SESS_HR_V, dtype: float64"
      ]
     },
     "execution_count": 92,
     "metadata": {},
     "output_type": "execute_result"
    }
   ],
   "source": [
    "# 이상치 제거\n",
    "\n",
    "HR_V_per_CLNT_filtered = IQR_filter(HR_V_per_CLNT)\n",
    "HR_V_per_CLNT_filtered.describe().round(2)"
   ]
  },
  {
   "cell_type": "code",
   "execution_count": 93,
   "metadata": {},
   "outputs": [
    {
     "name": "stderr",
     "output_type": "stream",
     "text": [
      "C:\\Users\\taeny\\AppData\\Local\\Continuum\\anaconda3\\lib\\site-packages\\scipy\\stats\\stats.py:1713: FutureWarning: Using a non-tuple sequence for multidimensional indexing is deprecated; use `arr[tuple(seq)]` instead of `arr[seq]`. In the future this will be interpreted as an array index, `arr[np.array(seq)]`, which will result either in an error or a different result.\n",
      "  return np.add.reduce(sorted[indexer] * weights, axis=axis) / sumval\n"
     ]
    },
    {
     "data": {
      "text/plain": [
       "<matplotlib.axes._subplots.AxesSubplot at 0x2769b67e080>"
      ]
     },
     "execution_count": 93,
     "metadata": {},
     "output_type": "execute_result"
    },
    {
     "data": {
      "image/png": "[encoded data removed]",
      "text/plain": [
       "<matplotlib.figure.Figure at 0x2769b691cc0>"
      ]
     },
     "metadata": {},
     "output_type": "display_data"
    }
   ],
   "source": [
    "#평균 체류시간\n",
    "sns.distplot(HR_V_per_CLNT_filtered)"
   ]
  },
  {
   "cell_type": "code",
   "execution_count": 94,
   "metadata": {},
   "outputs": [
    {
     "data": {
      "text/plain": [
       "count    922737.00\n",
       "mean         73.49\n",
       "std          63.63\n",
       "min           0.00\n",
       "25%          30.00\n",
       "50%          55.00\n",
       "75%          96.33\n",
       "max         499.00\n",
       "Name: TOT_PAG_VIEW_CT, dtype: float64"
      ]
     },
     "execution_count": 94,
     "metadata": {},
     "output_type": "execute_result"
    }
   ],
   "source": [
    "#평균 페이지뷰 수\n",
    "PAG_per_CLNT = df_Session_new.TOT_PAG_VIEW_CT.groupby(df_Session_new.CLNT_ID).mean()\n",
    "PAG_per_CLNT.describe().round(2)"
   ]
  },
  {
   "cell_type": "code",
   "execution_count": 95,
   "metadata": {},
   "outputs": [
    {
     "name": "stderr",
     "output_type": "stream",
     "text": [
      "C:\\Users\\taeny\\AppData\\Local\\Continuum\\anaconda3\\lib\\site-packages\\scipy\\stats\\stats.py:1713: FutureWarning: Using a non-tuple sequence for multidimensional indexing is deprecated; use `arr[tuple(seq)]` instead of `arr[seq]`. In the future this will be interpreted as an array index, `arr[np.array(seq)]`, which will result either in an error or a different result.\n",
      "  return np.add.reduce(sorted[indexer] * weights, axis=axis) / sumval\n"
     ]
    },
    {
     "data": {
      "text/plain": [
       "<matplotlib.axes._subplots.AxesSubplot at 0x2769d1109e8>"
      ]
     },
     "execution_count": 95,
     "metadata": {},
     "output_type": "execute_result"
    },
    {
     "data": {
      "image/png": "[encoded data removed]",
      "text/plain": [
       "<matplotlib.figure.Figure at 0x2769b6d67f0>"
      ]
     },
     "metadata": {},
     "output_type": "display_data"
    }
   ],
   "source": [
    "#평균 페이지 뷰수\n",
    "sns.distplot(PAG_per_CLNT)"
   ]
  },
  {
   "cell_type": "code",
   "execution_count": 96,
   "metadata": {},
   "outputs": [
    {
     "data": {
      "text/plain": [
       "count    874935.00\n",
       "mean         62.99\n",
       "std          43.47\n",
       "min           0.00\n",
       "25%          29.00\n",
       "50%          52.00\n",
       "75%          87.75\n",
       "max         195.82\n",
       "Name: TOT_PAG_VIEW_CT, dtype: float64"
      ]
     },
     "execution_count": 96,
     "metadata": {},
     "output_type": "execute_result"
    }
   ],
   "source": [
    "PAG_per_CLNT_filtered = IQR_filter(PAG_per_CLNT)\n",
    "PAG_per_CLNT_filtered.describe().round(2)"
   ]
  },
  {
   "cell_type": "code",
   "execution_count": 97,
   "metadata": {},
   "outputs": [
    {
     "name": "stderr",
     "output_type": "stream",
     "text": [
      "C:\\Users\\taeny\\AppData\\Local\\Continuum\\anaconda3\\lib\\site-packages\\scipy\\stats\\stats.py:1713: FutureWarning: Using a non-tuple sequence for multidimensional indexing is deprecated; use `arr[tuple(seq)]` instead of `arr[seq]`. In the future this will be interpreted as an array index, `arr[np.array(seq)]`, which will result either in an error or a different result.\n",
      "  return np.add.reduce(sorted[indexer] * weights, axis=axis) / sumval\n"
     ]
    },
    {
     "data": {
      "text/plain": [
       "<matplotlib.axes._subplots.AxesSubplot at 0x2769d17aa58>"
      ]
     },
     "execution_count": 97,
     "metadata": {},
     "output_type": "execute_result"
    },
    {
     "data": {
      "image/png": "[encoded data removed]",
      "text/plain": [
       "<matplotlib.figure.Figure at 0x2768f262128>"
      ]
     },
     "metadata": {},
     "output_type": "display_data"
    }
   ],
   "source": [
    "#클라이언트 당 평균 페이지 뷰수\n",
    "sns.distplot(PAG_per_CLNT_filtered)"
   ]
  },
  {
   "cell_type": "markdown",
   "metadata": {},
   "source": [
    "### Master"
   ]
  },
  {
   "cell_type": "code",
   "execution_count": 98,
   "metadata": {},
   "outputs": [],
   "source": [
    "df_Master = df_interaction_full[['PD_C','PD_NM','CLAC1_NM','CLAC2_NM','CLAC3_NM']].drop_duplicates()"
   ]
  },
  {
   "cell_type": "code",
   "execution_count": 99,
   "metadata": {},
   "outputs": [
    {
     "name": "stdout",
     "output_type": "stream",
     "text": [
      "총 상품 코드 수 : 847653 개\n",
      "총 상품 개수 : 817422 개\n",
      "상품 대분류 개수 : 38 개\n",
      "상품 중분류 개수 : 129 개\n",
      "상품 소분류 개수 : 899 개\n",
      "\n"
     ]
    }
   ],
   "source": [
    "#총 상품 코드 수\n",
    "n_PD_C_m = len(df_Master)\n",
    "\n",
    "#총 상품명\n",
    "n_PD_NM_m = len(set(df_Master.PD_NM))\n",
    "\n",
    "#상품 대분류 갯수\n",
    "n_CLAC1_NM = len(set(df_Master.CLAC1_NM))\n",
    "\n",
    "#상품 중분류 갯수\n",
    "n_CLAC2_NM = len(set(df_Master.CLAC2_NM))\n",
    "\n",
    "#상품 소분류 갯수\n",
    "n_CLAC3_NM = len(set(df_Master.CLAC3_NM))\n",
    "\n",
    "print(\\\n",
    "'총 상품 코드 수 : %d 개\\n\\\n",
    "총 상품 개수 : %d 개\\n\\\n",
    "상품 대분류 개수 : %d 개\\n\\\n",
    "상품 중분류 개수 : %d 개\\n\\\n",
    "상품 소분류 개수 : %d 개\\n'\\\n",
    "%(n_PD_C_m,n_PD_NM_m,n_CLAC1_NM,n_CLAC2_NM,n_CLAC3_NM))\n"
   ]
  },
  {
   "cell_type": "code",
   "execution_count": 100,
   "metadata": {},
   "outputs": [
    {
     "name": "stdout",
     "output_type": "stream",
     "text": [
      "상품 대분류 비율\n"
     ]
    },
    {
     "data": {
      "text/plain": [
       "여성의류         0.213657\n",
       "패션잡화         0.131662\n",
       "스포츠패션        0.123037\n",
       "남성의류         0.102858\n",
       "유아동의류        0.072877\n",
       "속옷/양말/홈웨어    0.072746\n",
       "화장품/뷰티케어     0.035405\n",
       "시즌스포츠        0.026291\n",
       "문구/사무용품      0.021864\n",
       "식기/조리기구      0.020669\n",
       "Name: CLAC1_NM, dtype: float64"
      ]
     },
     "execution_count": 100,
     "metadata": {},
     "output_type": "execute_result"
    }
   ],
   "source": [
    "#상품 대분류 비율\n",
    "print('상품 대분류 비율')\n",
    "(df_Master.CLAC1_NM.value_counts()/len(df_Master.CLAC1_NM))[:10]"
   ]
  },
  {
   "cell_type": "markdown",
   "metadata": {},
   "source": [
    "### 쇼핑몰 주요 고객"
   ]
  },
  {
   "cell_type": "code",
   "execution_count": 101,
   "metadata": {},
   "outputs": [],
   "source": [
    "df_Product = df_interaction_full[(df_interaction_full.ACTION =='product')]"
   ]
  },
  {
   "cell_type": "code",
   "execution_count": 102,
   "metadata": {},
   "outputs": [
    {
     "name": "stdout",
     "output_type": "stream",
     "text": [
      "모바일 사용 30-40대 여성 비율 : 58.60%\n"
     ]
    }
   ],
   "source": [
    "#session 사용자 중 모바일 사용 30-40 여성 비율\n",
    "f3040m = len(df_interaction_full[(df_interaction_full.CLNT_GENDER == 'F') & ((df_interaction_full.CLNT_AGE == 30)|(df_interaction_full.CLNT_AGE == 40))&(df_interaction_full.DVC_CTG_NM == 'mobile')])/len(df_interaction_full)\n",
    "print('모바일 사용 30-40대 여성 비율 : %.2f%%'%(f3040m*100))\n"
   ]
  },
  {
   "cell_type": "code",
   "execution_count": 103,
   "metadata": {},
   "outputs": [
    {
     "name": "stdout",
     "output_type": "stream",
     "text": [
      "모바일 사용 30-40대 여성의 구매율 : 58.10%\n"
     ]
    }
   ],
   "source": [
    "#session 사용자 중 모바일 사용 30-40 여성의 구매율\n",
    "f3040m_buy = len(df_Product[(df_Product.CLNT_GENDER == 'F') & ((df_Product.CLNT_AGE == 30)|(df_Product.CLNT_AGE == 40))&\n",
    "                                     (df_Product.DVC_CTG_NM == 'mobile')])/len(df_Product)\n",
    "print('모바일 사용 30-40대 여성의 구매율 : %.2f%%'%(f3040m_buy*100))"
   ]
  },
  {
   "cell_type": "code",
   "execution_count": 104,
   "metadata": {},
   "outputs": [],
   "source": [
    "df_f3040m_product = df_Product[(df_Product.CLNT_GENDER == 'F') & ((df_Product.CLNT_AGE == 30)|(df_Product.CLNT_AGE == 40))&(df_Product.DVC_CTG_NM == 'mobile')]"
   ]
  },
  {
   "cell_type": "code",
   "execution_count": 105,
   "metadata": {},
   "outputs": [
    {
     "data": {
      "text/html": [
       "<div>\n",
       "<style scoped>\n",
       "    .dataframe tbody tr th:only-of-type {\n",
       "        vertical-align: middle;\n",
       "    }\n",
       "\n",
       "    .dataframe tbody tr th {\n",
       "        vertical-align: top;\n",
       "    }\n",
       "\n",
       "    .dataframe thead th {\n",
       "        text-align: right;\n",
       "    }\n",
       "</style>\n",
       "<table border=\"1\" class=\"dataframe\">\n",
       "  <thead>\n",
       "    <tr style=\"text-align: right;\">\n",
       "      <th></th>\n",
       "      <th>CLNT_ID</th>\n",
       "      <th>SESS_ID</th>\n",
       "      <th>HITS_SEQ</th>\n",
       "      <th>PD_C</th>\n",
       "      <th>PD_ADD_NM</th>\n",
       "      <th>PD_BRA_NM</th>\n",
       "      <th>PD_BUY_AM</th>\n",
       "      <th>PD_BUY_CT</th>\n",
       "      <th>PD_BUY_TOT</th>\n",
       "      <th>CLNT_GENDER</th>\n",
       "      <th>CLNT_AGE</th>\n",
       "      <th>SESS_SEQ</th>\n",
       "      <th>SESS_DT</th>\n",
       "      <th>TOT_PAG_VIEW_CT</th>\n",
       "      <th>TOT_SESS_HR_V</th>\n",
       "      <th>DVC_CTG_NM</th>\n",
       "      <th>ZON_NM</th>\n",
       "      <th>CITY_NM</th>\n",
       "      <th>MONTH</th>\n",
       "      <th>WKDAY</th>\n",
       "      <th>PD_NM</th>\n",
       "      <th>CLAC1_NM</th>\n",
       "      <th>CLAC2_NM</th>\n",
       "      <th>CLAC3_NM</th>\n",
       "      <th>ACTION</th>\n",
       "      <th>KWD_NM</th>\n",
       "      <th>SEARCH_CNT</th>\n",
       "      <th>SEARCH_CNT_DT</th>\n",
       "      <th>CUSTOM</th>\n",
       "    </tr>\n",
       "  </thead>\n",
       "  <tbody>\n",
       "    <tr>\n",
       "      <th>4</th>\n",
       "      <td>4350334</td>\n",
       "      <td>2023661</td>\n",
       "      <td>77</td>\n",
       "      <td>642112</td>\n",
       "      <td>색상:엔젤 / 1개</td>\n",
       "      <td>바비브라운</td>\n",
       "      <td>39000</td>\n",
       "      <td>1</td>\n",
       "      <td>39000</td>\n",
       "      <td>F</td>\n",
       "      <td>30</td>\n",
       "      <td>528</td>\n",
       "      <td>2018-08-27</td>\n",
       "      <td>108</td>\n",
       "      <td>738</td>\n",
       "      <td>mobile</td>\n",
       "      <td>Seoul</td>\n",
       "      <td>Seoul</td>\n",
       "      <td>8</td>\n",
       "      <td>0</td>\n",
       "      <td>크러쉬드 립칼라 - 플럼</td>\n",
       "      <td>화장품/뷰티케어</td>\n",
       "      <td>메이크업</td>\n",
       "      <td>블러셔/쉐이딩/하이라이터</td>\n",
       "      <td>product</td>\n",
       "      <td>0</td>\n",
       "      <td>0</td>\n",
       "      <td>0</td>\n",
       "      <td>Y</td>\n",
       "    </tr>\n",
       "    <tr>\n",
       "      <th>5</th>\n",
       "      <td>5131391</td>\n",
       "      <td>7757426</td>\n",
       "      <td>77</td>\n",
       "      <td>642112</td>\n",
       "      <td>색상:루비 / 1개</td>\n",
       "      <td>바비브라운</td>\n",
       "      <td>39000</td>\n",
       "      <td>1</td>\n",
       "      <td>39000</td>\n",
       "      <td>F</td>\n",
       "      <td>30</td>\n",
       "      <td>14</td>\n",
       "      <td>2018-05-24</td>\n",
       "      <td>82</td>\n",
       "      <td>1925</td>\n",
       "      <td>mobile</td>\n",
       "      <td>Busan</td>\n",
       "      <td>Busan</td>\n",
       "      <td>5</td>\n",
       "      <td>3</td>\n",
       "      <td>크러쉬드 립칼라 - 플럼</td>\n",
       "      <td>화장품/뷰티케어</td>\n",
       "      <td>메이크업</td>\n",
       "      <td>블러셔/쉐이딩/하이라이터</td>\n",
       "      <td>product</td>\n",
       "      <td>0</td>\n",
       "      <td>0</td>\n",
       "      <td>0</td>\n",
       "      <td>Y</td>\n",
       "    </tr>\n",
       "    <tr>\n",
       "      <th>6</th>\n",
       "      <td>5131391</td>\n",
       "      <td>7757426</td>\n",
       "      <td>77</td>\n",
       "      <td>642112</td>\n",
       "      <td>색상:카바나 / 1개</td>\n",
       "      <td>바비브라운</td>\n",
       "      <td>39000</td>\n",
       "      <td>1</td>\n",
       "      <td>39000</td>\n",
       "      <td>F</td>\n",
       "      <td>30</td>\n",
       "      <td>14</td>\n",
       "      <td>2018-05-24</td>\n",
       "      <td>82</td>\n",
       "      <td>1925</td>\n",
       "      <td>mobile</td>\n",
       "      <td>Busan</td>\n",
       "      <td>Busan</td>\n",
       "      <td>5</td>\n",
       "      <td>3</td>\n",
       "      <td>크러쉬드 립칼라 - 플럼</td>\n",
       "      <td>화장품/뷰티케어</td>\n",
       "      <td>메이크업</td>\n",
       "      <td>블러셔/쉐이딩/하이라이터</td>\n",
       "      <td>product</td>\n",
       "      <td>0</td>\n",
       "      <td>0</td>\n",
       "      <td>0</td>\n",
       "      <td>Y</td>\n",
       "    </tr>\n",
       "    <tr>\n",
       "      <th>8</th>\n",
       "      <td>5444959</td>\n",
       "      <td>6843465</td>\n",
       "      <td>24</td>\n",
       "      <td>642112</td>\n",
       "      <td>색상:워터멜론 / 1개</td>\n",
       "      <td>바비브라운</td>\n",
       "      <td>39000</td>\n",
       "      <td>1</td>\n",
       "      <td>39000</td>\n",
       "      <td>F</td>\n",
       "      <td>30</td>\n",
       "      <td>130</td>\n",
       "      <td>2018-06-08</td>\n",
       "      <td>40</td>\n",
       "      <td>400</td>\n",
       "      <td>mobile</td>\n",
       "      <td>Gyeonggi-do</td>\n",
       "      <td>Namyangju-si</td>\n",
       "      <td>6</td>\n",
       "      <td>4</td>\n",
       "      <td>크러쉬드 립칼라 - 플럼</td>\n",
       "      <td>화장품/뷰티케어</td>\n",
       "      <td>메이크업</td>\n",
       "      <td>블러셔/쉐이딩/하이라이터</td>\n",
       "      <td>product</td>\n",
       "      <td>0</td>\n",
       "      <td>0</td>\n",
       "      <td>0</td>\n",
       "      <td>Y</td>\n",
       "    </tr>\n",
       "    <tr>\n",
       "      <th>9</th>\n",
       "      <td>5461276</td>\n",
       "      <td>7896792</td>\n",
       "      <td>53</td>\n",
       "      <td>642112</td>\n",
       "      <td>색상:워터멜론 / 1개</td>\n",
       "      <td>바비브라운</td>\n",
       "      <td>39000</td>\n",
       "      <td>1</td>\n",
       "      <td>39000</td>\n",
       "      <td>F</td>\n",
       "      <td>30</td>\n",
       "      <td>2</td>\n",
       "      <td>2018-05-21</td>\n",
       "      <td>53</td>\n",
       "      <td>1553</td>\n",
       "      <td>mobile</td>\n",
       "      <td>Daegu</td>\n",
       "      <td>Daegu</td>\n",
       "      <td>5</td>\n",
       "      <td>0</td>\n",
       "      <td>크러쉬드 립칼라 - 플럼</td>\n",
       "      <td>화장품/뷰티케어</td>\n",
       "      <td>메이크업</td>\n",
       "      <td>블러셔/쉐이딩/하이라이터</td>\n",
       "      <td>product</td>\n",
       "      <td>0</td>\n",
       "      <td>0</td>\n",
       "      <td>0</td>\n",
       "      <td>Y</td>\n",
       "    </tr>\n",
       "  </tbody>\n",
       "</table>\n",
       "</div>"
      ],
      "text/plain": [
       "   CLNT_ID  SESS_ID  HITS_SEQ    PD_C     PD_ADD_NM PD_BRA_NM  PD_BUY_AM  \\\n",
       "4  4350334  2023661        77  642112    색상:엔젤 / 1개     바비브라운      39000   \n",
       "5  5131391  7757426        77  642112    색상:루비 / 1개     바비브라운      39000   \n",
       "6  5131391  7757426        77  642112   색상:카바나 / 1개     바비브라운      39000   \n",
       "8  5444959  6843465        24  642112  색상:워터멜론 / 1개     바비브라운      39000   \n",
       "9  5461276  7896792        53  642112  색상:워터멜론 / 1개     바비브라운      39000   \n",
       "\n",
       "   PD_BUY_CT  PD_BUY_TOT CLNT_GENDER  CLNT_AGE  SESS_SEQ    SESS_DT  \\\n",
       "4          1       39000           F        30       528 2018-08-27   \n",
       "5          1       39000           F        30        14 2018-05-24   \n",
       "6          1       39000           F        30        14 2018-05-24   \n",
       "8          1       39000           F        30       130 2018-06-08   \n",
       "9          1       39000           F        30         2 2018-05-21   \n",
       "\n",
       "   TOT_PAG_VIEW_CT  TOT_SESS_HR_V DVC_CTG_NM       ZON_NM       CITY_NM  \\\n",
       "4              108            738     mobile        Seoul         Seoul   \n",
       "5               82           1925     mobile        Busan         Busan   \n",
       "6               82           1925     mobile        Busan         Busan   \n",
       "8               40            400     mobile  Gyeonggi-do  Namyangju-si   \n",
       "9               53           1553     mobile        Daegu         Daegu   \n",
       "\n",
       "   MONTH  WKDAY          PD_NM  CLAC1_NM CLAC2_NM       CLAC3_NM   ACTION  \\\n",
       "4      8      0  크러쉬드 립칼라 - 플럼  화장품/뷰티케어     메이크업  블러셔/쉐이딩/하이라이터  product   \n",
       "5      5      3  크러쉬드 립칼라 - 플럼  화장품/뷰티케어     메이크업  블러셔/쉐이딩/하이라이터  product   \n",
       "6      5      3  크러쉬드 립칼라 - 플럼  화장품/뷰티케어     메이크업  블러셔/쉐이딩/하이라이터  product   \n",
       "8      6      4  크러쉬드 립칼라 - 플럼  화장품/뷰티케어     메이크업  블러셔/쉐이딩/하이라이터  product   \n",
       "9      5      0  크러쉬드 립칼라 - 플럼  화장품/뷰티케어     메이크업  블러셔/쉐이딩/하이라이터  product   \n",
       "\n",
       "  KWD_NM  SEARCH_CNT  SEARCH_CNT_DT CUSTOM  \n",
       "4      0           0              0      Y  \n",
       "5      0           0              0      Y  \n",
       "6      0           0              0      Y  \n",
       "8      0           0              0      Y  \n",
       "9      0           0              0      Y  "
      ]
     },
     "execution_count": 105,
     "metadata": {},
     "output_type": "execute_result"
    }
   ],
   "source": [
    "df_f3040m_product.head()"
   ]
  },
  {
   "cell_type": "code",
   "execution_count": 106,
   "metadata": {},
   "outputs": [
    {
     "data": {
      "text/plain": [
       "count     2919430.00\n",
       "mean        50072.09\n",
       "std        109626.01\n",
       "min           100.00\n",
       "25%         13900.00\n",
       "50%         28900.00\n",
       "75%         49900.00\n",
       "max      12234000.00\n",
       "dtype: float64"
      ]
     },
     "execution_count": 106,
     "metadata": {},
     "output_type": "execute_result"
    }
   ],
   "source": [
    "f3040m_buy = (df_f3040m_product.PD_BUY_AM*df_f3040m_product.PD_BUY_CT)\n",
    "f3040m_buy.describe().round(2)"
   ]
  },
  {
   "cell_type": "code",
   "execution_count": 107,
   "metadata": {},
   "outputs": [
    {
     "data": {
      "text/plain": [
       "count    2662201.00\n",
       "mean       30863.23\n",
       "std        23065.59\n",
       "min          100.00\n",
       "25%        12800.00\n",
       "50%        25000.00\n",
       "75%        42000.00\n",
       "max       103840.00\n",
       "dtype: float64"
      ]
     },
     "execution_count": 107,
     "metadata": {},
     "output_type": "execute_result"
    }
   ],
   "source": [
    "f3040m_buy_filtered = IQR_filter(f3040m_buy)\n",
    "f3040m_buy_filtered.describe().round(2)"
   ]
  },
  {
   "cell_type": "code",
   "execution_count": 108,
   "metadata": {},
   "outputs": [
    {
     "name": "stderr",
     "output_type": "stream",
     "text": [
      "C:\\Users\\taeny\\AppData\\Local\\Continuum\\anaconda3\\lib\\site-packages\\scipy\\stats\\stats.py:1713: FutureWarning: Using a non-tuple sequence for multidimensional indexing is deprecated; use `arr[tuple(seq)]` instead of `arr[seq]`. In the future this will be interpreted as an array index, `arr[np.array(seq)]`, which will result either in an error or a different result.\n",
      "  return np.add.reduce(sorted[indexer] * weights, axis=axis) / sumval\n"
     ]
    },
    {
     "data": {
      "text/plain": [
       "<matplotlib.axes._subplots.AxesSubplot at 0x2769d919198>"
      ]
     },
     "execution_count": 108,
     "metadata": {},
     "output_type": "execute_result"
    },
    {
     "data": {
      "image/png": "[encoded data removed]",
      "text/plain": [
       "<matplotlib.figure.Figure at 0x2769b6e3780>"
      ]
     },
     "metadata": {},
     "output_type": "display_data"
    }
   ],
   "source": [
    "sns.distplot(f3040m_buy_filtered)"
   ]
  },
  {
   "cell_type": "markdown",
   "metadata": {},
   "source": [
    "### 변수 의미 파악하기"
   ]
  },
  {
   "cell_type": "code",
   "execution_count": 116,
   "metadata": {},
   "outputs": [
    {
     "data": {
      "text/html": [
       "<div>\n",
       "<style scoped>\n",
       "    .dataframe tbody tr th:only-of-type {\n",
       "        vertical-align: middle;\n",
       "    }\n",
       "\n",
       "    .dataframe tbody tr th {\n",
       "        vertical-align: top;\n",
       "    }\n",
       "\n",
       "    .dataframe thead th {\n",
       "        text-align: right;\n",
       "    }\n",
       "</style>\n",
       "<table border=\"1\" class=\"dataframe\">\n",
       "  <thead>\n",
       "    <tr style=\"text-align: right;\">\n",
       "      <th></th>\n",
       "      <th>CLNT_ID</th>\n",
       "      <th>SESS_ID</th>\n",
       "      <th>SESS_SEQ</th>\n",
       "      <th>SESS_DT</th>\n",
       "      <th>TOT_PAG_VIEW_CT</th>\n",
       "      <th>TOT_SESS_HR_V</th>\n",
       "      <th>DVC_CTG_NM</th>\n",
       "      <th>ZON_NM</th>\n",
       "      <th>CITY_NM</th>\n",
       "    </tr>\n",
       "  </thead>\n",
       "  <tbody>\n",
       "    <tr>\n",
       "      <th>0</th>\n",
       "      <td>4139680</td>\n",
       "      <td>7605037</td>\n",
       "      <td>1</td>\n",
       "      <td>2018-05-26</td>\n",
       "      <td>21</td>\n",
       "      <td>902</td>\n",
       "      <td>desktop</td>\n",
       "      <td>Seoul</td>\n",
       "      <td>Seoul</td>\n",
       "    </tr>\n",
       "    <tr>\n",
       "      <th>250408</th>\n",
       "      <td>2949012</td>\n",
       "      <td>10504303</td>\n",
       "      <td>1</td>\n",
       "      <td>2018-04-08</td>\n",
       "      <td>61</td>\n",
       "      <td>3101</td>\n",
       "      <td>desktop</td>\n",
       "      <td>Gyeonggi-do</td>\n",
       "      <td>Gwacheon-si</td>\n",
       "    </tr>\n",
       "    <tr>\n",
       "      <th>1958921</th>\n",
       "      <td>1906660</td>\n",
       "      <td>9497431</td>\n",
       "      <td>1</td>\n",
       "      <td>2018-04-25</td>\n",
       "      <td>47</td>\n",
       "      <td>1690</td>\n",
       "      <td>desktop</td>\n",
       "      <td>Gyeongsangnam-do</td>\n",
       "      <td>Gimhae-si</td>\n",
       "    </tr>\n",
       "    <tr>\n",
       "      <th>250420</th>\n",
       "      <td>2254029</td>\n",
       "      <td>8595481</td>\n",
       "      <td>1</td>\n",
       "      <td>2018-05-10</td>\n",
       "      <td>55</td>\n",
       "      <td>1272</td>\n",
       "      <td>desktop</td>\n",
       "      <td>Gyeonggi-do</td>\n",
       "      <td>Namyangju-si</td>\n",
       "    </tr>\n",
       "    <tr>\n",
       "      <th>4234497</th>\n",
       "      <td>792757</td>\n",
       "      <td>9500530</td>\n",
       "      <td>1</td>\n",
       "      <td>2018-04-25</td>\n",
       "      <td>53</td>\n",
       "      <td>742</td>\n",
       "      <td>mobile</td>\n",
       "      <td>Seoul</td>\n",
       "      <td>Seoul</td>\n",
       "    </tr>\n",
       "  </tbody>\n",
       "</table>\n",
       "</div>"
      ],
      "text/plain": [
       "         CLNT_ID   SESS_ID  SESS_SEQ    SESS_DT  TOT_PAG_VIEW_CT  \\\n",
       "0        4139680   7605037         1 2018-05-26               21   \n",
       "250408   2949012  10504303         1 2018-04-08               61   \n",
       "1958921  1906660   9497431         1 2018-04-25               47   \n",
       "250420   2254029   8595481         1 2018-05-10               55   \n",
       "4234497   792757   9500530         1 2018-04-25               53   \n",
       "\n",
       "         TOT_SESS_HR_V DVC_CTG_NM            ZON_NM       CITY_NM  \n",
       "0                  902    desktop             Seoul         Seoul  \n",
       "250408            3101    desktop       Gyeonggi-do   Gwacheon-si  \n",
       "1958921           1690    desktop  Gyeongsangnam-do     Gimhae-si  \n",
       "250420            1272    desktop       Gyeonggi-do  Namyangju-si  \n",
       "4234497            742     mobile             Seoul         Seoul  "
      ]
     },
     "execution_count": 116,
     "metadata": {},
     "output_type": "execute_result"
    }
   ],
   "source": [
    "#세션일련번호\n",
    "df_Session_new.sort_values(by=['SESS_SEQ']).head()"
   ]
  },
  {
   "cell_type": "code",
   "execution_count": 117,
   "metadata": {},
   "outputs": [
    {
     "data": {
      "text/html": [
       "<div>\n",
       "<style scoped>\n",
       "    .dataframe tbody tr th:only-of-type {\n",
       "        vertical-align: middle;\n",
       "    }\n",
       "\n",
       "    .dataframe tbody tr th {\n",
       "        vertical-align: top;\n",
       "    }\n",
       "\n",
       "    .dataframe thead th {\n",
       "        text-align: right;\n",
       "    }\n",
       "</style>\n",
       "<table border=\"1\" class=\"dataframe\">\n",
       "  <thead>\n",
       "    <tr style=\"text-align: right;\">\n",
       "      <th></th>\n",
       "      <th>CLNT_ID</th>\n",
       "      <th>SESS_ID</th>\n",
       "      <th>HITS_SEQ</th>\n",
       "      <th>PD_C</th>\n",
       "      <th>PD_ADD_NM</th>\n",
       "      <th>PD_BRA_NM</th>\n",
       "      <th>PD_BUY_AM</th>\n",
       "      <th>PD_BUY_CT</th>\n",
       "      <th>PD_BUY_TOT</th>\n",
       "      <th>CLNT_GENDER</th>\n",
       "      <th>CLNT_AGE</th>\n",
       "      <th>SESS_SEQ</th>\n",
       "      <th>SESS_DT</th>\n",
       "      <th>TOT_PAG_VIEW_CT</th>\n",
       "      <th>TOT_SESS_HR_V</th>\n",
       "      <th>DVC_CTG_NM</th>\n",
       "      <th>ZON_NM</th>\n",
       "      <th>CITY_NM</th>\n",
       "      <th>MONTH</th>\n",
       "      <th>WKDAY</th>\n",
       "      <th>PD_NM</th>\n",
       "      <th>CLAC1_NM</th>\n",
       "      <th>CLAC2_NM</th>\n",
       "      <th>CLAC3_NM</th>\n",
       "      <th>ACTION</th>\n",
       "      <th>KWD_NM</th>\n",
       "      <th>SEARCH_CNT</th>\n",
       "      <th>SEARCH_CNT_DT</th>\n",
       "      <th>CUSTOM</th>\n",
       "    </tr>\n",
       "  </thead>\n",
       "  <tbody>\n",
       "    <tr>\n",
       "      <th>6528868</th>\n",
       "      <td>1000021</td>\n",
       "      <td>5084873</td>\n",
       "      <td>0</td>\n",
       "      <td>0</td>\n",
       "      <td>0</td>\n",
       "      <td>0</td>\n",
       "      <td>0</td>\n",
       "      <td>0</td>\n",
       "      <td>0</td>\n",
       "      <td>F</td>\n",
       "      <td>30</td>\n",
       "      <td>88</td>\n",
       "      <td>2018-07-07</td>\n",
       "      <td>210</td>\n",
       "      <td>1515</td>\n",
       "      <td>mobile</td>\n",
       "      <td>Seoul</td>\n",
       "      <td>Seoul</td>\n",
       "      <td>7</td>\n",
       "      <td>5</td>\n",
       "      <td>0</td>\n",
       "      <td>0</td>\n",
       "      <td>0</td>\n",
       "      <td>0</td>\n",
       "      <td>search</td>\n",
       "      <td>세럼</td>\n",
       "      <td>1</td>\n",
       "      <td>17</td>\n",
       "      <td>Y</td>\n",
       "    </tr>\n",
       "    <tr>\n",
       "      <th>5387153</th>\n",
       "      <td>1000021</td>\n",
       "      <td>5084873</td>\n",
       "      <td>0</td>\n",
       "      <td>0</td>\n",
       "      <td>0</td>\n",
       "      <td>0</td>\n",
       "      <td>0</td>\n",
       "      <td>0</td>\n",
       "      <td>0</td>\n",
       "      <td>F</td>\n",
       "      <td>30</td>\n",
       "      <td>88</td>\n",
       "      <td>2018-07-07</td>\n",
       "      <td>210</td>\n",
       "      <td>1515</td>\n",
       "      <td>mobile</td>\n",
       "      <td>Seoul</td>\n",
       "      <td>Seoul</td>\n",
       "      <td>7</td>\n",
       "      <td>5</td>\n",
       "      <td>0</td>\n",
       "      <td>0</td>\n",
       "      <td>0</td>\n",
       "      <td>0</td>\n",
       "      <td>search</td>\n",
       "      <td>헤라</td>\n",
       "      <td>2</td>\n",
       "      <td>256</td>\n",
       "      <td>Y</td>\n",
       "    </tr>\n",
       "    <tr>\n",
       "      <th>5735498</th>\n",
       "      <td>1000021</td>\n",
       "      <td>5084873</td>\n",
       "      <td>0</td>\n",
       "      <td>0</td>\n",
       "      <td>0</td>\n",
       "      <td>0</td>\n",
       "      <td>0</td>\n",
       "      <td>0</td>\n",
       "      <td>0</td>\n",
       "      <td>F</td>\n",
       "      <td>30</td>\n",
       "      <td>88</td>\n",
       "      <td>2018-07-07</td>\n",
       "      <td>210</td>\n",
       "      <td>1515</td>\n",
       "      <td>mobile</td>\n",
       "      <td>Seoul</td>\n",
       "      <td>Seoul</td>\n",
       "      <td>7</td>\n",
       "      <td>5</td>\n",
       "      <td>0</td>\n",
       "      <td>0</td>\n",
       "      <td>0</td>\n",
       "      <td>0</td>\n",
       "      <td>search</td>\n",
       "      <td>에센스</td>\n",
       "      <td>5</td>\n",
       "      <td>47</td>\n",
       "      <td>Y</td>\n",
       "    </tr>\n",
       "    <tr>\n",
       "      <th>7516684</th>\n",
       "      <td>1000021</td>\n",
       "      <td>10346015</td>\n",
       "      <td>0</td>\n",
       "      <td>0</td>\n",
       "      <td>0</td>\n",
       "      <td>0</td>\n",
       "      <td>0</td>\n",
       "      <td>0</td>\n",
       "      <td>0</td>\n",
       "      <td>F</td>\n",
       "      <td>30</td>\n",
       "      <td>79</td>\n",
       "      <td>2018-04-11</td>\n",
       "      <td>230</td>\n",
       "      <td>5086</td>\n",
       "      <td>mobile</td>\n",
       "      <td>Seoul</td>\n",
       "      <td>Seoul</td>\n",
       "      <td>4</td>\n",
       "      <td>2</td>\n",
       "      <td>0</td>\n",
       "      <td>0</td>\n",
       "      <td>0</td>\n",
       "      <td>0</td>\n",
       "      <td>search</td>\n",
       "      <td>그라탕기</td>\n",
       "      <td>1</td>\n",
       "      <td>7</td>\n",
       "      <td>Y</td>\n",
       "    </tr>\n",
       "    <tr>\n",
       "      <th>5666814</th>\n",
       "      <td>1000033</td>\n",
       "      <td>6768423</td>\n",
       "      <td>0</td>\n",
       "      <td>0</td>\n",
       "      <td>0</td>\n",
       "      <td>0</td>\n",
       "      <td>0</td>\n",
       "      <td>0</td>\n",
       "      <td>0</td>\n",
       "      <td>F</td>\n",
       "      <td>20</td>\n",
       "      <td>23</td>\n",
       "      <td>2018-06-09</td>\n",
       "      <td>37</td>\n",
       "      <td>278</td>\n",
       "      <td>mobile</td>\n",
       "      <td>Seoul</td>\n",
       "      <td>Seoul</td>\n",
       "      <td>6</td>\n",
       "      <td>5</td>\n",
       "      <td>0</td>\n",
       "      <td>0</td>\n",
       "      <td>0</td>\n",
       "      <td>0</td>\n",
       "      <td>search</td>\n",
       "      <td>샤넬 향수</td>\n",
       "      <td>1</td>\n",
       "      <td>14</td>\n",
       "      <td>Y</td>\n",
       "    </tr>\n",
       "  </tbody>\n",
       "</table>\n",
       "</div>"
      ],
      "text/plain": [
       "         CLNT_ID   SESS_ID  HITS_SEQ PD_C PD_ADD_NM PD_BRA_NM  PD_BUY_AM  \\\n",
       "6528868  1000021   5084873         0    0         0         0          0   \n",
       "5387153  1000021   5084873         0    0         0         0          0   \n",
       "5735498  1000021   5084873         0    0         0         0          0   \n",
       "7516684  1000021  10346015         0    0         0         0          0   \n",
       "5666814  1000033   6768423         0    0         0         0          0   \n",
       "\n",
       "         PD_BUY_CT  PD_BUY_TOT CLNT_GENDER  CLNT_AGE  SESS_SEQ    SESS_DT  \\\n",
       "6528868          0           0           F        30        88 2018-07-07   \n",
       "5387153          0           0           F        30        88 2018-07-07   \n",
       "5735498          0           0           F        30        88 2018-07-07   \n",
       "7516684          0           0           F        30        79 2018-04-11   \n",
       "5666814          0           0           F        20        23 2018-06-09   \n",
       "\n",
       "         TOT_PAG_VIEW_CT  TOT_SESS_HR_V DVC_CTG_NM ZON_NM CITY_NM  MONTH  \\\n",
       "6528868              210           1515     mobile  Seoul   Seoul      7   \n",
       "5387153              210           1515     mobile  Seoul   Seoul      7   \n",
       "5735498              210           1515     mobile  Seoul   Seoul      7   \n",
       "7516684              230           5086     mobile  Seoul   Seoul      4   \n",
       "5666814               37            278     mobile  Seoul   Seoul      6   \n",
       "\n",
       "         WKDAY PD_NM CLAC1_NM CLAC2_NM CLAC3_NM  ACTION KWD_NM  SEARCH_CNT  \\\n",
       "6528868      5     0        0        0        0  search     세럼           1   \n",
       "5387153      5     0        0        0        0  search     헤라           2   \n",
       "5735498      5     0        0        0        0  search    에센스           5   \n",
       "7516684      2     0        0        0        0  search   그라탕기           1   \n",
       "5666814      5     0        0        0        0  search  샤넬 향수           1   \n",
       "\n",
       "         SEARCH_CNT_DT CUSTOM  \n",
       "6528868             17      Y  \n",
       "5387153            256      Y  \n",
       "5735498             47      Y  \n",
       "7516684              7      Y  \n",
       "5666814             14      Y  "
      ]
     },
     "execution_count": 117,
     "metadata": {},
     "output_type": "execute_result"
    }
   ],
   "source": [
    "#검색건수\n",
    "df_interaction_full[df_interaction_full.ACTION=='search'].sort_values(by=['CLNT_ID','SESS_ID','SEARCH_CNT']).head()"
   ]
  },
  {
   "cell_type": "code",
   "execution_count": 118,
   "metadata": {},
   "outputs": [
    {
     "data": {
      "text/html": [
       "<div>\n",
       "<style scoped>\n",
       "    .dataframe tbody tr th:only-of-type {\n",
       "        vertical-align: middle;\n",
       "    }\n",
       "\n",
       "    .dataframe tbody tr th {\n",
       "        vertical-align: top;\n",
       "    }\n",
       "\n",
       "    .dataframe thead th {\n",
       "        text-align: right;\n",
       "    }\n",
       "</style>\n",
       "<table border=\"1\" class=\"dataframe\">\n",
       "  <thead>\n",
       "    <tr style=\"text-align: right;\">\n",
       "      <th></th>\n",
       "      <th>CLNT_ID</th>\n",
       "      <th>SESS_ID</th>\n",
       "      <th>HITS_SEQ</th>\n",
       "      <th>PD_C</th>\n",
       "      <th>PD_ADD_NM</th>\n",
       "      <th>PD_BRA_NM</th>\n",
       "      <th>PD_BUY_AM</th>\n",
       "      <th>PD_BUY_CT</th>\n",
       "      <th>PD_BUY_TOT</th>\n",
       "      <th>CLNT_GENDER</th>\n",
       "      <th>CLNT_AGE</th>\n",
       "      <th>SESS_SEQ</th>\n",
       "      <th>SESS_DT</th>\n",
       "      <th>TOT_PAG_VIEW_CT</th>\n",
       "      <th>TOT_SESS_HR_V</th>\n",
       "      <th>DVC_CTG_NM</th>\n",
       "      <th>ZON_NM</th>\n",
       "      <th>CITY_NM</th>\n",
       "      <th>MONTH</th>\n",
       "      <th>WKDAY</th>\n",
       "      <th>PD_NM</th>\n",
       "      <th>CLAC1_NM</th>\n",
       "      <th>CLAC2_NM</th>\n",
       "      <th>CLAC3_NM</th>\n",
       "      <th>ACTION</th>\n",
       "      <th>KWD_NM</th>\n",
       "      <th>SEARCH_CNT</th>\n",
       "      <th>SEARCH_CNT_DT</th>\n",
       "      <th>CUSTOM</th>\n",
       "    </tr>\n",
       "  </thead>\n",
       "  <tbody>\n",
       "    <tr>\n",
       "      <th>821263</th>\n",
       "      <td>100</td>\n",
       "      <td>17311</td>\n",
       "      <td>7</td>\n",
       "      <td>706926</td>\n",
       "      <td>상품명:아몬드 브리즈 언스위트 190mlx24팩</td>\n",
       "      <td>[매일]</td>\n",
       "      <td>14500</td>\n",
       "      <td>1</td>\n",
       "      <td>14500</td>\n",
       "      <td>0</td>\n",
       "      <td>0</td>\n",
       "      <td>6</td>\n",
       "      <td>2018-09-30</td>\n",
       "      <td>7</td>\n",
       "      <td>492</td>\n",
       "      <td>desktop</td>\n",
       "      <td>Seoul</td>\n",
       "      <td>Seoul</td>\n",
       "      <td>9</td>\n",
       "      <td>6</td>\n",
       "      <td>아몬드브리즈 언스위트 190ml 24팩 - 아몬드 브리즈 언스위트 190ml 24팩</td>\n",
       "      <td>음료</td>\n",
       "      <td>두유</td>\n",
       "      <td>일반두유</td>\n",
       "      <td>product</td>\n",
       "      <td>0</td>\n",
       "      <td>0</td>\n",
       "      <td>0</td>\n",
       "      <td>N</td>\n",
       "    </tr>\n",
       "    <tr>\n",
       "      <th>933617</th>\n",
       "      <td>100</td>\n",
       "      <td>7664</td>\n",
       "      <td>6</td>\n",
       "      <td>214697</td>\n",
       "      <td>선택:다운젤리 10가지 맛보기 세트 (10EA)</td>\n",
       "      <td>[벨리불리]</td>\n",
       "      <td>8900</td>\n",
       "      <td>1</td>\n",
       "      <td>8900</td>\n",
       "      <td>0</td>\n",
       "      <td>0</td>\n",
       "      <td>7</td>\n",
       "      <td>2018-09-30</td>\n",
       "      <td>5</td>\n",
       "      <td>193</td>\n",
       "      <td>desktop</td>\n",
       "      <td>Seoul</td>\n",
       "      <td>Seoul</td>\n",
       "      <td>9</td>\n",
       "      <td>6</td>\n",
       "      <td>최저 4kcal/워터젤리 맛보기 1BOX(각1팩/총 10개입/무료배송) - 다운젤리...</td>\n",
       "      <td>건강식품</td>\n",
       "      <td>건강보조식품</td>\n",
       "      <td>미용보조식품</td>\n",
       "      <td>product</td>\n",
       "      <td>0</td>\n",
       "      <td>0</td>\n",
       "      <td>0</td>\n",
       "      <td>N</td>\n",
       "    </tr>\n",
       "    <tr>\n",
       "      <th>3126589</th>\n",
       "      <td>10000</td>\n",
       "      <td>8478796</td>\n",
       "      <td>57</td>\n",
       "      <td>329753</td>\n",
       "      <td>색상:레드(Red)|사이즈:230mm / 1개</td>\n",
       "      <td>사뿐(Sappun)</td>\n",
       "      <td>38900</td>\n",
       "      <td>1</td>\n",
       "      <td>38900</td>\n",
       "      <td>F</td>\n",
       "      <td>20</td>\n",
       "      <td>13</td>\n",
       "      <td>2018-05-12</td>\n",
       "      <td>49</td>\n",
       "      <td>802</td>\n",
       "      <td>mobile</td>\n",
       "      <td>Gyeonggi-do</td>\n",
       "      <td>Siheung-si</td>\n",
       "      <td>5</td>\n",
       "      <td>5</td>\n",
       "      <td>셀린즈 스퀘어 리본 플랫슈즈 (3cm) - 베이지(Beige) / 250mm</td>\n",
       "      <td>패션잡화</td>\n",
       "      <td>여성화</td>\n",
       "      <td>여성플랫</td>\n",
       "      <td>product</td>\n",
       "      <td>0</td>\n",
       "      <td>0</td>\n",
       "      <td>0</td>\n",
       "      <td>Y</td>\n",
       "    </tr>\n",
       "    <tr>\n",
       "      <th>3126586</th>\n",
       "      <td>10000</td>\n",
       "      <td>8398058</td>\n",
       "      <td>2</td>\n",
       "      <td>329753</td>\n",
       "      <td>색상:레드(Red)|사이즈:230mm / 1개</td>\n",
       "      <td>사뿐(Sappun)</td>\n",
       "      <td>38900</td>\n",
       "      <td>1</td>\n",
       "      <td>38900</td>\n",
       "      <td>F</td>\n",
       "      <td>20</td>\n",
       "      <td>14</td>\n",
       "      <td>2018-05-13</td>\n",
       "      <td>2</td>\n",
       "      <td>3</td>\n",
       "      <td>mobile</td>\n",
       "      <td>Gyeonggi-do</td>\n",
       "      <td>Siheung-si</td>\n",
       "      <td>5</td>\n",
       "      <td>6</td>\n",
       "      <td>셀린즈 스퀘어 리본 플랫슈즈 (3cm) - 베이지(Beige) / 250mm</td>\n",
       "      <td>패션잡화</td>\n",
       "      <td>여성화</td>\n",
       "      <td>여성플랫</td>\n",
       "      <td>product</td>\n",
       "      <td>0</td>\n",
       "      <td>0</td>\n",
       "      <td>0</td>\n",
       "      <td>Y</td>\n",
       "    </tr>\n",
       "    <tr>\n",
       "      <th>7516684</th>\n",
       "      <td>1000021</td>\n",
       "      <td>10346015</td>\n",
       "      <td>0</td>\n",
       "      <td>0</td>\n",
       "      <td>0</td>\n",
       "      <td>0</td>\n",
       "      <td>0</td>\n",
       "      <td>0</td>\n",
       "      <td>0</td>\n",
       "      <td>F</td>\n",
       "      <td>30</td>\n",
       "      <td>79</td>\n",
       "      <td>2018-04-11</td>\n",
       "      <td>230</td>\n",
       "      <td>5086</td>\n",
       "      <td>mobile</td>\n",
       "      <td>Seoul</td>\n",
       "      <td>Seoul</td>\n",
       "      <td>4</td>\n",
       "      <td>2</td>\n",
       "      <td>0</td>\n",
       "      <td>0</td>\n",
       "      <td>0</td>\n",
       "      <td>0</td>\n",
       "      <td>search</td>\n",
       "      <td>그라탕기</td>\n",
       "      <td>1</td>\n",
       "      <td>7</td>\n",
       "      <td>Y</td>\n",
       "    </tr>\n",
       "  </tbody>\n",
       "</table>\n",
       "</div>"
      ],
      "text/plain": [
       "         CLNT_ID   SESS_ID  HITS_SEQ    PD_C                   PD_ADD_NM  \\\n",
       "821263       100     17311         7  706926  상품명:아몬드 브리즈 언스위트 190mlx24팩   \n",
       "933617       100      7664         6  214697  선택:다운젤리 10가지 맛보기 세트 (10EA)   \n",
       "3126589    10000   8478796        57  329753   색상:레드(Red)|사이즈:230mm / 1개   \n",
       "3126586    10000   8398058         2  329753   색상:레드(Red)|사이즈:230mm / 1개   \n",
       "7516684  1000021  10346015         0       0                           0   \n",
       "\n",
       "          PD_BRA_NM  PD_BUY_AM  PD_BUY_CT  PD_BUY_TOT CLNT_GENDER  CLNT_AGE  \\\n",
       "821263         [매일]      14500          1       14500           0         0   \n",
       "933617       [벨리불리]       8900          1        8900           0         0   \n",
       "3126589  사뿐(Sappun)      38900          1       38900           F        20   \n",
       "3126586  사뿐(Sappun)      38900          1       38900           F        20   \n",
       "7516684           0          0          0           0           F        30   \n",
       "\n",
       "         SESS_SEQ    SESS_DT  TOT_PAG_VIEW_CT  TOT_SESS_HR_V DVC_CTG_NM  \\\n",
       "821263          6 2018-09-30                7            492    desktop   \n",
       "933617          7 2018-09-30                5            193    desktop   \n",
       "3126589        13 2018-05-12               49            802     mobile   \n",
       "3126586        14 2018-05-13                2              3     mobile   \n",
       "7516684        79 2018-04-11              230           5086     mobile   \n",
       "\n",
       "              ZON_NM     CITY_NM  MONTH  WKDAY  \\\n",
       "821263         Seoul       Seoul      9      6   \n",
       "933617         Seoul       Seoul      9      6   \n",
       "3126589  Gyeonggi-do  Siheung-si      5      5   \n",
       "3126586  Gyeonggi-do  Siheung-si      5      6   \n",
       "7516684        Seoul       Seoul      4      2   \n",
       "\n",
       "                                                     PD_NM CLAC1_NM CLAC2_NM  \\\n",
       "821263      아몬드브리즈 언스위트 190ml 24팩 - 아몬드 브리즈 언스위트 190ml 24팩       음료       두유   \n",
       "933617   최저 4kcal/워터젤리 맛보기 1BOX(각1팩/총 10개입/무료배송) - 다운젤리...     건강식품   건강보조식품   \n",
       "3126589         셀린즈 스퀘어 리본 플랫슈즈 (3cm) - 베이지(Beige) / 250mm     패션잡화      여성화   \n",
       "3126586         셀린즈 스퀘어 리본 플랫슈즈 (3cm) - 베이지(Beige) / 250mm     패션잡화      여성화   \n",
       "7516684                                                  0        0        0   \n",
       "\n",
       "        CLAC3_NM   ACTION KWD_NM  SEARCH_CNT  SEARCH_CNT_DT CUSTOM  \n",
       "821263      일반두유  product      0           0              0      N  \n",
       "933617    미용보조식품  product      0           0              0      N  \n",
       "3126589     여성플랫  product      0           0              0      Y  \n",
       "3126586     여성플랫  product      0           0              0      Y  \n",
       "7516684        0   search   그라탕기           1              7      Y  "
      ]
     },
     "execution_count": 118,
     "metadata": {},
     "output_type": "execute_result"
    }
   ],
   "source": [
    "#세션 시퀀스\n",
    "df_interaction_full.sort_values(by=['CLNT_ID','SESS_DT','SESS_SEQ','HITS_SEQ']).head()"
   ]
  },
  {
   "cell_type": "code",
   "execution_count": 119,
   "metadata": {},
   "outputs": [
    {
     "data": {
      "text/html": [
       "<div>\n",
       "<style scoped>\n",
       "    .dataframe tbody tr th:only-of-type {\n",
       "        vertical-align: middle;\n",
       "    }\n",
       "\n",
       "    .dataframe tbody tr th {\n",
       "        vertical-align: top;\n",
       "    }\n",
       "\n",
       "    .dataframe thead th {\n",
       "        text-align: right;\n",
       "    }\n",
       "</style>\n",
       "<table border=\"1\" class=\"dataframe\">\n",
       "  <thead>\n",
       "    <tr style=\"text-align: right;\">\n",
       "      <th></th>\n",
       "      <th>KWD_NM</th>\n",
       "      <th>SESS_DT</th>\n",
       "      <th>SEARCH_CNT_DT</th>\n",
       "    </tr>\n",
       "  </thead>\n",
       "  <tbody>\n",
       "    <tr>\n",
       "      <th>6582959</th>\n",
       "      <td>힙업팬티</td>\n",
       "      <td>2018-04-08</td>\n",
       "      <td>1</td>\n",
       "    </tr>\n",
       "    <tr>\n",
       "      <th>7659418</th>\n",
       "      <td>힙업팬티</td>\n",
       "      <td>2018-04-29</td>\n",
       "      <td>5</td>\n",
       "    </tr>\n",
       "    <tr>\n",
       "      <th>7779712</th>\n",
       "      <td>힙업팬티</td>\n",
       "      <td>2018-05-19</td>\n",
       "      <td>4</td>\n",
       "    </tr>\n",
       "    <tr>\n",
       "      <th>7651411</th>\n",
       "      <td>힙업팬티</td>\n",
       "      <td>2018-05-22</td>\n",
       "      <td>2</td>\n",
       "    </tr>\n",
       "    <tr>\n",
       "      <th>7753763</th>\n",
       "      <td>힙업팬티</td>\n",
       "      <td>2018-05-24</td>\n",
       "      <td>4</td>\n",
       "    </tr>\n",
       "  </tbody>\n",
       "</table>\n",
       "</div>"
      ],
      "text/plain": [
       "        KWD_NM    SESS_DT  SEARCH_CNT_DT\n",
       "6582959   힙업팬티 2018-04-08              1\n",
       "7659418   힙업팬티 2018-04-29              5\n",
       "7779712   힙업팬티 2018-05-19              4\n",
       "7651411   힙업팬티 2018-05-22              2\n",
       "7753763   힙업팬티 2018-05-24              4"
      ]
     },
     "execution_count": 119,
     "metadata": {},
     "output_type": "execute_result"
    }
   ],
   "source": [
    "#일별 검색량\n",
    "df_interaction_full[df_interaction_full.KWD_NM == '힙업팬티'].sort_values(by=['KWD_NM','SESS_DT','SEARCH_CNT_DT']).loc[:,['KWD_NM','SESS_DT','SEARCH_CNT_DT']].head()"
   ]
  },
  {
   "cell_type": "code",
   "execution_count": 120,
   "metadata": {},
   "outputs": [
    {
     "data": {
      "text/html": [
       "<div>\n",
       "<style scoped>\n",
       "    .dataframe tbody tr th:only-of-type {\n",
       "        vertical-align: middle;\n",
       "    }\n",
       "\n",
       "    .dataframe tbody tr th {\n",
       "        vertical-align: top;\n",
       "    }\n",
       "\n",
       "    .dataframe thead th {\n",
       "        text-align: right;\n",
       "    }\n",
       "</style>\n",
       "<table border=\"1\" class=\"dataframe\">\n",
       "  <thead>\n",
       "    <tr style=\"text-align: right;\">\n",
       "      <th></th>\n",
       "      <th>CLNT_GENDER</th>\n",
       "      <th>CLNT_AGE</th>\n",
       "      <th>SESS_DT</th>\n",
       "      <th>KWD_NM</th>\n",
       "      <th>SEARCH_CNT</th>\n",
       "    </tr>\n",
       "  </thead>\n",
       "  <tbody>\n",
       "    <tr>\n",
       "      <th>6582959</th>\n",
       "      <td>F</td>\n",
       "      <td>50</td>\n",
       "      <td>2018-04-08</td>\n",
       "      <td>힙업팬티</td>\n",
       "      <td>1</td>\n",
       "    </tr>\n",
       "    <tr>\n",
       "      <th>7659418</th>\n",
       "      <td>0</td>\n",
       "      <td>0</td>\n",
       "      <td>2018-04-29</td>\n",
       "      <td>힙업팬티</td>\n",
       "      <td>5</td>\n",
       "    </tr>\n",
       "    <tr>\n",
       "      <th>7779712</th>\n",
       "      <td>F</td>\n",
       "      <td>30</td>\n",
       "      <td>2018-05-19</td>\n",
       "      <td>힙업팬티</td>\n",
       "      <td>1</td>\n",
       "    </tr>\n",
       "    <tr>\n",
       "      <th>7651411</th>\n",
       "      <td>M</td>\n",
       "      <td>30</td>\n",
       "      <td>2018-05-22</td>\n",
       "      <td>힙업팬티</td>\n",
       "      <td>1</td>\n",
       "    </tr>\n",
       "    <tr>\n",
       "      <th>7753763</th>\n",
       "      <td>M</td>\n",
       "      <td>30</td>\n",
       "      <td>2018-05-24</td>\n",
       "      <td>힙업팬티</td>\n",
       "      <td>4</td>\n",
       "    </tr>\n",
       "  </tbody>\n",
       "</table>\n",
       "</div>"
      ],
      "text/plain": [
       "        CLNT_GENDER  CLNT_AGE    SESS_DT KWD_NM  SEARCH_CNT\n",
       "6582959           F        50 2018-04-08   힙업팬티           1\n",
       "7659418           0         0 2018-04-29   힙업팬티           5\n",
       "7779712           F        30 2018-05-19   힙업팬티           1\n",
       "7651411           M        30 2018-05-22   힙업팬티           1\n",
       "7753763           M        30 2018-05-24   힙업팬티           4"
      ]
     },
     "execution_count": 120,
     "metadata": {},
     "output_type": "execute_result"
    }
   ],
   "source": [
    "#일별검색량\n",
    "df_interaction_full[df_interaction_full.KWD_NM == '힙업팬티'].sort_values(by=['SESS_DT']).loc[:,['CLNT_GENDER','CLNT_AGE','SESS_DT','KWD_NM','SEARCH_CNT']].head()"
   ]
  },
  {
   "cell_type": "markdown",
   "metadata": {},
   "source": [
    "4월 8일 : 1명이 힙업팬티를 1번 검색했으며 그대로 구매\n",
    "\n",
    "4월 29일 : 1명이 힙업팬트를 5번 검색했으며 바로 구매\n",
    "\n",
    "5월 19일 : N명이 힙업팬티를 4번 검색했으며 힙업팬티를 1번 검색한 1명이 구매\n",
    "\n",
    "5월 22일 : 2명이 힙업팬티를 1번씩 검색했으며 힙업팬티를 그중 1명이 구매\n",
    "\n",
    "5월 24일 : 1명이 힙업팬티를 4번 검색했으며 바로 구매"
   ]
  },
  {
   "cell_type": "code",
   "execution_count": 121,
   "metadata": {},
   "outputs": [],
   "source": [
    "#저장\n",
    "#df_interaction_full.to_csv('data/df_interaction_full.csv',index =False)"
   ]
  }
 ],
 "metadata": {
  "kernelspec": {
   "display_name": "Python 3",
   "language": "python",
   "name": "python3"
  },
  "language_info": {
   "codemirror_mode": {
    "name": "ipython",
    "version": 3
   },
   "file_extension": ".py",
   "mimetype": "text/x-python",
   "name": "python",
   "nbconvert_exporter": "python",
   "pygments_lexer": "ipython3",
   "version": "3.6.6"
  }
 },
 "nbformat": 4,
 "nbformat_minor": 2
}
